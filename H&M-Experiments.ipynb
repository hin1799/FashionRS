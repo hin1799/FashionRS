{
  "cells": [
    {
      "cell_type": "markdown",
      "metadata": {
        "id": "view-in-github",
        "colab_type": "text"
      },
      "source": [
        "<a href=\"https://colab.research.google.com/github/hin1799/FashionRS/blob/main/H%26M-Experiments.ipynb\" target=\"_parent\"><img src=\"https://colab.research.google.com/assets/colab-badge.svg\" alt=\"Open In Colab\"/></a>"
      ]
    },
    {
      "cell_type": "markdown",
      "metadata": {
        "id": "rEaW7zJ3-P0J"
      },
      "source": [
        "# H&M Dataset - Recommendation Systems\n",
        "\n",
        "**Hinal Desai (202211035)**"
      ]
    },
    {
      "cell_type": "code",
      "execution_count": null,
      "metadata": {
        "colab": {
          "base_uri": "https://localhost:8080/"
        },
        "id": "ZEenQ8g_o7Qy",
        "outputId": "72383955-0903-46ed-c89f-d3545ea7f0a6"
      },
      "outputs": [
        {
          "output_type": "stream",
          "name": "stdout",
          "text": [
            "Drive already mounted at /content/drive; to attempt to forcibly remount, call drive.mount(\"/content/drive\", force_remount=True).\n"
          ]
        }
      ],
      "source": [
        "from google.colab import drive\n",
        "drive.mount('/content/drive')"
      ]
    },
    {
      "cell_type": "code",
      "execution_count": null,
      "metadata": {
        "id": "qaeY_AJ4o-wL"
      },
      "outputs": [],
      "source": [
        "import pandas as pd\n",
        "import numpy as np\n",
        "import matplotlib.pyplot as plt"
      ]
    },
    {
      "cell_type": "code",
      "execution_count": null,
      "metadata": {
        "id": "L7eVxsjqpAKH"
      },
      "outputs": [],
      "source": [
        "articles_dir = '/content/drive/MyDrive/H&M dataset/articles.csv'\n",
        "customers_dir = '/content/drive/MyDrive/H&M dataset/customers.csv'\n",
        "transactions_dir = '/content/drive/MyDrive/H&M dataset/transactions_train.csv'\n",
        "images_dir = '/content/drive/MyDrive/H&M dataset/images'"
      ]
    },
    {
      "cell_type": "markdown",
      "metadata": {
        "id": "rNugd2N21IfM"
      },
      "source": [
        "#Reading the csv files"
      ]
    },
    {
      "cell_type": "code",
      "execution_count": null,
      "metadata": {
        "id": "uPRHzUmn0qLi"
      },
      "outputs": [],
      "source": [
        "articles_df = pd.read_csv(articles_dir)"
      ]
    },
    {
      "cell_type": "code",
      "execution_count": null,
      "metadata": {
        "id": "_cTLW_NY0uc8"
      },
      "outputs": [],
      "source": [
        "customers_df = pd.read_csv(customers_dir)"
      ]
    },
    {
      "cell_type": "code",
      "execution_count": null,
      "metadata": {
        "id": "yntK5SRb05OX"
      },
      "outputs": [],
      "source": [
        "transactions_df = pd.read_csv(transactions_dir)"
      ]
    },
    {
      "cell_type": "code",
      "execution_count": null,
      "metadata": {
        "colab": {
          "base_uri": "https://localhost:8080/"
        },
        "id": "J3UxsBHT0ucQ",
        "outputId": "09b4c4bb-d3ec-46d0-ba64-380bec44f803"
      },
      "outputs": [
        {
          "data": {
            "text/plain": [
              "(105542, 25)"
            ]
          },
          "execution_count": 7,
          "metadata": {},
          "output_type": "execute_result"
        }
      ],
      "source": [
        "articles_df.shape"
      ]
    },
    {
      "cell_type": "code",
      "execution_count": null,
      "metadata": {
        "colab": {
          "base_uri": "https://localhost:8080/"
        },
        "id": "TCTfQu9v0zYK",
        "outputId": "982f1f21-95e7-4243-819d-7d43579261cc"
      },
      "outputs": [
        {
          "data": {
            "text/plain": [
              "(1371980, 7)"
            ]
          },
          "execution_count": 8,
          "metadata": {},
          "output_type": "execute_result"
        }
      ],
      "source": [
        "customers_df.shape"
      ]
    },
    {
      "cell_type": "code",
      "execution_count": null,
      "metadata": {
        "colab": {
          "base_uri": "https://localhost:8080/"
        },
        "id": "HYvQlYv700fs",
        "outputId": "6d725605-6d50-4937-ae56-1badd1700a67"
      },
      "outputs": [
        {
          "data": {
            "text/plain": [
              "(31788324, 5)"
            ]
          },
          "execution_count": 9,
          "metadata": {},
          "output_type": "execute_result"
        }
      ],
      "source": [
        "transactions_df.shape"
      ]
    },
    {
      "cell_type": "markdown",
      "metadata": {
        "id": "zIC-dOeM-qsX"
      },
      "source": [
        "# Sampling the Data\n",
        "\n",
        "Due to limited resource availability, using a sample of the data to avoid RAM crashes."
      ]
    },
    {
      "cell_type": "code",
      "execution_count": null,
      "metadata": {
        "id": "QThtNM-s-xjD"
      },
      "outputs": [],
      "source": [
        "#Setting the seed\n",
        "random_seed = 42\n",
        "np.random.seed(random_seed)"
      ]
    },
    {
      "cell_type": "code",
      "execution_count": null,
      "metadata": {
        "id": "UmO0_8GATN9_"
      },
      "outputs": [],
      "source": [
        "#10% of customer data\n",
        "customers_sample = customers_df.sample(n=137198)"
      ]
    },
    {
      "cell_type": "code",
      "execution_count": null,
      "metadata": {
        "colab": {
          "base_uri": "https://localhost:8080/",
          "height": 487
        },
        "id": "cNuT-U80UN4n",
        "outputId": "820741d6-1984-4145-8106-2ca6a2f6e1ae"
      },
      "outputs": [
        {
          "output_type": "execute_result",
          "data": {
            "text/plain": [
              "                                               customer_id   FN  Active  \\\n",
              "1134822  d3b658f59ad9bbf6249a7bf0db722f2f43cc47803d0329...  NaN     NaN   \n",
              "612735   72529945a566eb7445e51470ef00c5992976ddaf7d9f82...  NaN     NaN   \n",
              "1124456  d1c91a9050fcb6da04f0643c6b6d38b002b6ff12d66e80...  NaN     NaN   \n",
              "662579   7bad01c1ad7a9bccc9270a29bf24279b4e19b41afc1b4a...  1.0     NaN   \n",
              "404009   4b889f848f59f9bf787b16626f96d0390c3f9ab3ed3edc...  NaN     NaN   \n",
              "...                                                    ...  ...     ...   \n",
              "1267446  ec87ffad52857ca9b93f0c7358bf25fffb4bd61ba08881...  1.0     1.0   \n",
              "28249    054cb9b7f48001938d451af0a63cbbc5fa1345310c75b7...  NaN     NaN   \n",
              "1214264  e292f906885a35ac1272685a650a6beb46353a91e49fe1...  NaN     NaN   \n",
              "477017   5917e32cb0b7fb344d469bd41e1a42c02c760de1578723...  NaN     NaN   \n",
              "604239   70be52be92300d4cb1130bf118f2db56e23c499055398f...  NaN     NaN   \n",
              "\n",
              "        club_member_status fashion_news_frequency   age  \\\n",
              "1134822             ACTIVE                   NONE  72.0   \n",
              "612735              ACTIVE                   NONE  41.0   \n",
              "1124456             ACTIVE                   NONE  22.0   \n",
              "662579              ACTIVE              Regularly  24.0   \n",
              "404009              ACTIVE                   NONE  56.0   \n",
              "...                    ...                    ...   ...   \n",
              "1267446             ACTIVE              Regularly  25.0   \n",
              "28249               ACTIVE                   NONE  18.0   \n",
              "1214264             ACTIVE                    NaN  72.0   \n",
              "477017              ACTIVE                   NONE  50.0   \n",
              "604239              ACTIVE                   NONE  27.0   \n",
              "\n",
              "                                               postal_code  \n",
              "1134822  da477e6d8c015e8d89487ae038b1be611c052834008252...  \n",
              "612735   c9d1dd747df26b6fd8a8d682f1f0ed3db12bfc7041e49a...  \n",
              "1124456  760fd89d83df7842c04f3a6d68265270bc2333c43cabf7...  \n",
              "662579   032fdbc74a7144e1bcbc2addc9d5c8a0d8f39223754aac...  \n",
              "404009   a0f3f7d2ae3b89be98d44524b3a6743c1916986e507ef9...  \n",
              "...                                                    ...  \n",
              "1267446  ee06243e58a71529891889203876c19a9c2e5b037d2445...  \n",
              "28249    514f6322722a07429ba69054201b243f6e82743705db65...  \n",
              "1214264  2701daeebb6f0f0583c065e12819b5d7586de8181001bd...  \n",
              "477017   1c79c3a5df726e16e665ffc6720863984c260771e15cd0...  \n",
              "604239   e3eaf49b720b03e18bb27103a70c722986090170b27eb8...  \n",
              "\n",
              "[137198 rows x 7 columns]"
            ],
            "text/html": [
              "\n",
              "  <div id=\"df-1a38833b-e71a-473f-9db0-11f619ac5ece\">\n",
              "    <div class=\"colab-df-container\">\n",
              "      <div>\n",
              "<style scoped>\n",
              "    .dataframe tbody tr th:only-of-type {\n",
              "        vertical-align: middle;\n",
              "    }\n",
              "\n",
              "    .dataframe tbody tr th {\n",
              "        vertical-align: top;\n",
              "    }\n",
              "\n",
              "    .dataframe thead th {\n",
              "        text-align: right;\n",
              "    }\n",
              "</style>\n",
              "<table border=\"1\" class=\"dataframe\">\n",
              "  <thead>\n",
              "    <tr style=\"text-align: right;\">\n",
              "      <th></th>\n",
              "      <th>customer_id</th>\n",
              "      <th>FN</th>\n",
              "      <th>Active</th>\n",
              "      <th>club_member_status</th>\n",
              "      <th>fashion_news_frequency</th>\n",
              "      <th>age</th>\n",
              "      <th>postal_code</th>\n",
              "    </tr>\n",
              "  </thead>\n",
              "  <tbody>\n",
              "    <tr>\n",
              "      <th>1134822</th>\n",
              "      <td>d3b658f59ad9bbf6249a7bf0db722f2f43cc47803d0329...</td>\n",
              "      <td>NaN</td>\n",
              "      <td>NaN</td>\n",
              "      <td>ACTIVE</td>\n",
              "      <td>NONE</td>\n",
              "      <td>72.0</td>\n",
              "      <td>da477e6d8c015e8d89487ae038b1be611c052834008252...</td>\n",
              "    </tr>\n",
              "    <tr>\n",
              "      <th>612735</th>\n",
              "      <td>72529945a566eb7445e51470ef00c5992976ddaf7d9f82...</td>\n",
              "      <td>NaN</td>\n",
              "      <td>NaN</td>\n",
              "      <td>ACTIVE</td>\n",
              "      <td>NONE</td>\n",
              "      <td>41.0</td>\n",
              "      <td>c9d1dd747df26b6fd8a8d682f1f0ed3db12bfc7041e49a...</td>\n",
              "    </tr>\n",
              "    <tr>\n",
              "      <th>1124456</th>\n",
              "      <td>d1c91a9050fcb6da04f0643c6b6d38b002b6ff12d66e80...</td>\n",
              "      <td>NaN</td>\n",
              "      <td>NaN</td>\n",
              "      <td>ACTIVE</td>\n",
              "      <td>NONE</td>\n",
              "      <td>22.0</td>\n",
              "      <td>760fd89d83df7842c04f3a6d68265270bc2333c43cabf7...</td>\n",
              "    </tr>\n",
              "    <tr>\n",
              "      <th>662579</th>\n",
              "      <td>7bad01c1ad7a9bccc9270a29bf24279b4e19b41afc1b4a...</td>\n",
              "      <td>1.0</td>\n",
              "      <td>NaN</td>\n",
              "      <td>ACTIVE</td>\n",
              "      <td>Regularly</td>\n",
              "      <td>24.0</td>\n",
              "      <td>032fdbc74a7144e1bcbc2addc9d5c8a0d8f39223754aac...</td>\n",
              "    </tr>\n",
              "    <tr>\n",
              "      <th>404009</th>\n",
              "      <td>4b889f848f59f9bf787b16626f96d0390c3f9ab3ed3edc...</td>\n",
              "      <td>NaN</td>\n",
              "      <td>NaN</td>\n",
              "      <td>ACTIVE</td>\n",
              "      <td>NONE</td>\n",
              "      <td>56.0</td>\n",
              "      <td>a0f3f7d2ae3b89be98d44524b3a6743c1916986e507ef9...</td>\n",
              "    </tr>\n",
              "    <tr>\n",
              "      <th>...</th>\n",
              "      <td>...</td>\n",
              "      <td>...</td>\n",
              "      <td>...</td>\n",
              "      <td>...</td>\n",
              "      <td>...</td>\n",
              "      <td>...</td>\n",
              "      <td>...</td>\n",
              "    </tr>\n",
              "    <tr>\n",
              "      <th>1267446</th>\n",
              "      <td>ec87ffad52857ca9b93f0c7358bf25fffb4bd61ba08881...</td>\n",
              "      <td>1.0</td>\n",
              "      <td>1.0</td>\n",
              "      <td>ACTIVE</td>\n",
              "      <td>Regularly</td>\n",
              "      <td>25.0</td>\n",
              "      <td>ee06243e58a71529891889203876c19a9c2e5b037d2445...</td>\n",
              "    </tr>\n",
              "    <tr>\n",
              "      <th>28249</th>\n",
              "      <td>054cb9b7f48001938d451af0a63cbbc5fa1345310c75b7...</td>\n",
              "      <td>NaN</td>\n",
              "      <td>NaN</td>\n",
              "      <td>ACTIVE</td>\n",
              "      <td>NONE</td>\n",
              "      <td>18.0</td>\n",
              "      <td>514f6322722a07429ba69054201b243f6e82743705db65...</td>\n",
              "    </tr>\n",
              "    <tr>\n",
              "      <th>1214264</th>\n",
              "      <td>e292f906885a35ac1272685a650a6beb46353a91e49fe1...</td>\n",
              "      <td>NaN</td>\n",
              "      <td>NaN</td>\n",
              "      <td>ACTIVE</td>\n",
              "      <td>NaN</td>\n",
              "      <td>72.0</td>\n",
              "      <td>2701daeebb6f0f0583c065e12819b5d7586de8181001bd...</td>\n",
              "    </tr>\n",
              "    <tr>\n",
              "      <th>477017</th>\n",
              "      <td>5917e32cb0b7fb344d469bd41e1a42c02c760de1578723...</td>\n",
              "      <td>NaN</td>\n",
              "      <td>NaN</td>\n",
              "      <td>ACTIVE</td>\n",
              "      <td>NONE</td>\n",
              "      <td>50.0</td>\n",
              "      <td>1c79c3a5df726e16e665ffc6720863984c260771e15cd0...</td>\n",
              "    </tr>\n",
              "    <tr>\n",
              "      <th>604239</th>\n",
              "      <td>70be52be92300d4cb1130bf118f2db56e23c499055398f...</td>\n",
              "      <td>NaN</td>\n",
              "      <td>NaN</td>\n",
              "      <td>ACTIVE</td>\n",
              "      <td>NONE</td>\n",
              "      <td>27.0</td>\n",
              "      <td>e3eaf49b720b03e18bb27103a70c722986090170b27eb8...</td>\n",
              "    </tr>\n",
              "  </tbody>\n",
              "</table>\n",
              "<p>137198 rows × 7 columns</p>\n",
              "</div>\n",
              "      <button class=\"colab-df-convert\" onclick=\"convertToInteractive('df-1a38833b-e71a-473f-9db0-11f619ac5ece')\"\n",
              "              title=\"Convert this dataframe to an interactive table.\"\n",
              "              style=\"display:none;\">\n",
              "        \n",
              "  <svg xmlns=\"http://www.w3.org/2000/svg\" height=\"24px\"viewBox=\"0 0 24 24\"\n",
              "       width=\"24px\">\n",
              "    <path d=\"M0 0h24v24H0V0z\" fill=\"none\"/>\n",
              "    <path d=\"M18.56 5.44l.94 2.06.94-2.06 2.06-.94-2.06-.94-.94-2.06-.94 2.06-2.06.94zm-11 1L8.5 8.5l.94-2.06 2.06-.94-2.06-.94L8.5 2.5l-.94 2.06-2.06.94zm10 10l.94 2.06.94-2.06 2.06-.94-2.06-.94-.94-2.06-.94 2.06-2.06.94z\"/><path d=\"M17.41 7.96l-1.37-1.37c-.4-.4-.92-.59-1.43-.59-.52 0-1.04.2-1.43.59L10.3 9.45l-7.72 7.72c-.78.78-.78 2.05 0 2.83L4 21.41c.39.39.9.59 1.41.59.51 0 1.02-.2 1.41-.59l7.78-7.78 2.81-2.81c.8-.78.8-2.07 0-2.86zM5.41 20L4 18.59l7.72-7.72 1.47 1.35L5.41 20z\"/>\n",
              "  </svg>\n",
              "      </button>\n",
              "      \n",
              "  <style>\n",
              "    .colab-df-container {\n",
              "      display:flex;\n",
              "      flex-wrap:wrap;\n",
              "      gap: 12px;\n",
              "    }\n",
              "\n",
              "    .colab-df-convert {\n",
              "      background-color: #E8F0FE;\n",
              "      border: none;\n",
              "      border-radius: 50%;\n",
              "      cursor: pointer;\n",
              "      display: none;\n",
              "      fill: #1967D2;\n",
              "      height: 32px;\n",
              "      padding: 0 0 0 0;\n",
              "      width: 32px;\n",
              "    }\n",
              "\n",
              "    .colab-df-convert:hover {\n",
              "      background-color: #E2EBFA;\n",
              "      box-shadow: 0px 1px 2px rgba(60, 64, 67, 0.3), 0px 1px 3px 1px rgba(60, 64, 67, 0.15);\n",
              "      fill: #174EA6;\n",
              "    }\n",
              "\n",
              "    [theme=dark] .colab-df-convert {\n",
              "      background-color: #3B4455;\n",
              "      fill: #D2E3FC;\n",
              "    }\n",
              "\n",
              "    [theme=dark] .colab-df-convert:hover {\n",
              "      background-color: #434B5C;\n",
              "      box-shadow: 0px 1px 3px 1px rgba(0, 0, 0, 0.15);\n",
              "      filter: drop-shadow(0px 1px 2px rgba(0, 0, 0, 0.3));\n",
              "      fill: #FFFFFF;\n",
              "    }\n",
              "  </style>\n",
              "\n",
              "      <script>\n",
              "        const buttonEl =\n",
              "          document.querySelector('#df-1a38833b-e71a-473f-9db0-11f619ac5ece button.colab-df-convert');\n",
              "        buttonEl.style.display =\n",
              "          google.colab.kernel.accessAllowed ? 'block' : 'none';\n",
              "\n",
              "        async function convertToInteractive(key) {\n",
              "          const element = document.querySelector('#df-1a38833b-e71a-473f-9db0-11f619ac5ece');\n",
              "          const dataTable =\n",
              "            await google.colab.kernel.invokeFunction('convertToInteractive',\n",
              "                                                     [key], {});\n",
              "          if (!dataTable) return;\n",
              "\n",
              "          const docLinkHtml = 'Like what you see? Visit the ' +\n",
              "            '<a target=\"_blank\" href=https://colab.research.google.com/notebooks/data_table.ipynb>data table notebook</a>'\n",
              "            + ' to learn more about interactive tables.';\n",
              "          element.innerHTML = '';\n",
              "          dataTable['output_type'] = 'display_data';\n",
              "          await google.colab.output.renderOutput(dataTable, element);\n",
              "          const docLink = document.createElement('div');\n",
              "          docLink.innerHTML = docLinkHtml;\n",
              "          element.appendChild(docLink);\n",
              "        }\n",
              "      </script>\n",
              "    </div>\n",
              "  </div>\n",
              "  "
            ]
          },
          "metadata": {},
          "execution_count": 10
        }
      ],
      "source": [
        "customers_sample"
      ]
    },
    {
      "cell_type": "markdown",
      "metadata": {
        "id": "ZkD0iZUZ17TU"
      },
      "source": [
        "Due to resource limitations, we will consider only last 6 weeks of data"
      ]
    },
    {
      "cell_type": "code",
      "execution_count": null,
      "metadata": {
        "id": "7hh9ivDN10PW"
      },
      "outputs": [],
      "source": [
        "transactions_df[\"timestamp\"] = pd.to_datetime(transactions_df[\"t_dat\"])\n",
        "transactions_df[\"week_number\"] = transactions_df[\"timestamp\"].dt.isocalendar().week\n",
        "grouped_df = transactions_df.groupby(['customer_id', 'article_id', pd.Grouper(key='week_number')]).size().reset_index(name='purchase_count')\n",
        "data = grouped_df[grouped_df['week_number']>=47] #last 6 week data"
      ]
    },
    {
      "cell_type": "code",
      "execution_count": null,
      "metadata": {
        "colab": {
          "base_uri": "https://localhost:8080/",
          "height": 423
        },
        "id": "StTiwXVw10JE",
        "outputId": "844acb8d-9713-4025-84c4-e532955c5939"
      },
      "outputs": [
        {
          "output_type": "execute_result",
          "data": {
            "text/plain": [
              "                                                customer_id  article_id  \\\n",
              "0         00000dbacae5abe5e23885899a1fa44253a17956c6d1c3...   176209023   \n",
              "4         00000dbacae5abe5e23885899a1fa44253a17956c6d1c3...   625548001   \n",
              "5         00000dbacae5abe5e23885899a1fa44253a17956c6d1c3...   627759010   \n",
              "7         00000dbacae5abe5e23885899a1fa44253a17956c6d1c3...   694736004   \n",
              "10        00000dbacae5abe5e23885899a1fa44253a17956c6d1c3...   785186005   \n",
              "...                                                     ...         ...   \n",
              "28251920  ffffcf35913a0bee60e8741cb2b4e78b8a98ee5ff2e6a1...   638554001   \n",
              "28251921  ffffcf35913a0bee60e8741cb2b4e78b8a98ee5ff2e6a1...   648173003   \n",
              "28251927  ffffcf35913a0bee60e8741cb2b4e78b8a98ee5ff2e6a1...   690478001   \n",
              "28251928  ffffcf35913a0bee60e8741cb2b4e78b8a98ee5ff2e6a1...   701083001   \n",
              "28251949  ffffd9ac14e89946416d80e791d064701994755c3ab686...   806050001   \n",
              "\n",
              "          week_number  purchase_count  \n",
              "0                  52               1  \n",
              "4                  52               1  \n",
              "5                  52               1  \n",
              "7                  48               1  \n",
              "10                 47               1  \n",
              "...               ...             ...  \n",
              "28251920           50               1  \n",
              "28251921           49               1  \n",
              "28251927           49               1  \n",
              "28251928           49               1  \n",
              "28251949           49               1  \n",
              "\n",
              "[3082422 rows x 4 columns]"
            ],
            "text/html": [
              "\n",
              "  <div id=\"df-719926ca-6846-4a72-a6a9-518ad5eea1b5\">\n",
              "    <div class=\"colab-df-container\">\n",
              "      <div>\n",
              "<style scoped>\n",
              "    .dataframe tbody tr th:only-of-type {\n",
              "        vertical-align: middle;\n",
              "    }\n",
              "\n",
              "    .dataframe tbody tr th {\n",
              "        vertical-align: top;\n",
              "    }\n",
              "\n",
              "    .dataframe thead th {\n",
              "        text-align: right;\n",
              "    }\n",
              "</style>\n",
              "<table border=\"1\" class=\"dataframe\">\n",
              "  <thead>\n",
              "    <tr style=\"text-align: right;\">\n",
              "      <th></th>\n",
              "      <th>customer_id</th>\n",
              "      <th>article_id</th>\n",
              "      <th>week_number</th>\n",
              "      <th>purchase_count</th>\n",
              "    </tr>\n",
              "  </thead>\n",
              "  <tbody>\n",
              "    <tr>\n",
              "      <th>0</th>\n",
              "      <td>00000dbacae5abe5e23885899a1fa44253a17956c6d1c3...</td>\n",
              "      <td>176209023</td>\n",
              "      <td>52</td>\n",
              "      <td>1</td>\n",
              "    </tr>\n",
              "    <tr>\n",
              "      <th>4</th>\n",
              "      <td>00000dbacae5abe5e23885899a1fa44253a17956c6d1c3...</td>\n",
              "      <td>625548001</td>\n",
              "      <td>52</td>\n",
              "      <td>1</td>\n",
              "    </tr>\n",
              "    <tr>\n",
              "      <th>5</th>\n",
              "      <td>00000dbacae5abe5e23885899a1fa44253a17956c6d1c3...</td>\n",
              "      <td>627759010</td>\n",
              "      <td>52</td>\n",
              "      <td>1</td>\n",
              "    </tr>\n",
              "    <tr>\n",
              "      <th>7</th>\n",
              "      <td>00000dbacae5abe5e23885899a1fa44253a17956c6d1c3...</td>\n",
              "      <td>694736004</td>\n",
              "      <td>48</td>\n",
              "      <td>1</td>\n",
              "    </tr>\n",
              "    <tr>\n",
              "      <th>10</th>\n",
              "      <td>00000dbacae5abe5e23885899a1fa44253a17956c6d1c3...</td>\n",
              "      <td>785186005</td>\n",
              "      <td>47</td>\n",
              "      <td>1</td>\n",
              "    </tr>\n",
              "    <tr>\n",
              "      <th>...</th>\n",
              "      <td>...</td>\n",
              "      <td>...</td>\n",
              "      <td>...</td>\n",
              "      <td>...</td>\n",
              "    </tr>\n",
              "    <tr>\n",
              "      <th>28251920</th>\n",
              "      <td>ffffcf35913a0bee60e8741cb2b4e78b8a98ee5ff2e6a1...</td>\n",
              "      <td>638554001</td>\n",
              "      <td>50</td>\n",
              "      <td>1</td>\n",
              "    </tr>\n",
              "    <tr>\n",
              "      <th>28251921</th>\n",
              "      <td>ffffcf35913a0bee60e8741cb2b4e78b8a98ee5ff2e6a1...</td>\n",
              "      <td>648173003</td>\n",
              "      <td>49</td>\n",
              "      <td>1</td>\n",
              "    </tr>\n",
              "    <tr>\n",
              "      <th>28251927</th>\n",
              "      <td>ffffcf35913a0bee60e8741cb2b4e78b8a98ee5ff2e6a1...</td>\n",
              "      <td>690478001</td>\n",
              "      <td>49</td>\n",
              "      <td>1</td>\n",
              "    </tr>\n",
              "    <tr>\n",
              "      <th>28251928</th>\n",
              "      <td>ffffcf35913a0bee60e8741cb2b4e78b8a98ee5ff2e6a1...</td>\n",
              "      <td>701083001</td>\n",
              "      <td>49</td>\n",
              "      <td>1</td>\n",
              "    </tr>\n",
              "    <tr>\n",
              "      <th>28251949</th>\n",
              "      <td>ffffd9ac14e89946416d80e791d064701994755c3ab686...</td>\n",
              "      <td>806050001</td>\n",
              "      <td>49</td>\n",
              "      <td>1</td>\n",
              "    </tr>\n",
              "  </tbody>\n",
              "</table>\n",
              "<p>3082422 rows × 4 columns</p>\n",
              "</div>\n",
              "      <button class=\"colab-df-convert\" onclick=\"convertToInteractive('df-719926ca-6846-4a72-a6a9-518ad5eea1b5')\"\n",
              "              title=\"Convert this dataframe to an interactive table.\"\n",
              "              style=\"display:none;\">\n",
              "        \n",
              "  <svg xmlns=\"http://www.w3.org/2000/svg\" height=\"24px\"viewBox=\"0 0 24 24\"\n",
              "       width=\"24px\">\n",
              "    <path d=\"M0 0h24v24H0V0z\" fill=\"none\"/>\n",
              "    <path d=\"M18.56 5.44l.94 2.06.94-2.06 2.06-.94-2.06-.94-.94-2.06-.94 2.06-2.06.94zm-11 1L8.5 8.5l.94-2.06 2.06-.94-2.06-.94L8.5 2.5l-.94 2.06-2.06.94zm10 10l.94 2.06.94-2.06 2.06-.94-2.06-.94-.94-2.06-.94 2.06-2.06.94z\"/><path d=\"M17.41 7.96l-1.37-1.37c-.4-.4-.92-.59-1.43-.59-.52 0-1.04.2-1.43.59L10.3 9.45l-7.72 7.72c-.78.78-.78 2.05 0 2.83L4 21.41c.39.39.9.59 1.41.59.51 0 1.02-.2 1.41-.59l7.78-7.78 2.81-2.81c.8-.78.8-2.07 0-2.86zM5.41 20L4 18.59l7.72-7.72 1.47 1.35L5.41 20z\"/>\n",
              "  </svg>\n",
              "      </button>\n",
              "      \n",
              "  <style>\n",
              "    .colab-df-container {\n",
              "      display:flex;\n",
              "      flex-wrap:wrap;\n",
              "      gap: 12px;\n",
              "    }\n",
              "\n",
              "    .colab-df-convert {\n",
              "      background-color: #E8F0FE;\n",
              "      border: none;\n",
              "      border-radius: 50%;\n",
              "      cursor: pointer;\n",
              "      display: none;\n",
              "      fill: #1967D2;\n",
              "      height: 32px;\n",
              "      padding: 0 0 0 0;\n",
              "      width: 32px;\n",
              "    }\n",
              "\n",
              "    .colab-df-convert:hover {\n",
              "      background-color: #E2EBFA;\n",
              "      box-shadow: 0px 1px 2px rgba(60, 64, 67, 0.3), 0px 1px 3px 1px rgba(60, 64, 67, 0.15);\n",
              "      fill: #174EA6;\n",
              "    }\n",
              "\n",
              "    [theme=dark] .colab-df-convert {\n",
              "      background-color: #3B4455;\n",
              "      fill: #D2E3FC;\n",
              "    }\n",
              "\n",
              "    [theme=dark] .colab-df-convert:hover {\n",
              "      background-color: #434B5C;\n",
              "      box-shadow: 0px 1px 3px 1px rgba(0, 0, 0, 0.15);\n",
              "      filter: drop-shadow(0px 1px 2px rgba(0, 0, 0, 0.3));\n",
              "      fill: #FFFFFF;\n",
              "    }\n",
              "  </style>\n",
              "\n",
              "      <script>\n",
              "        const buttonEl =\n",
              "          document.querySelector('#df-719926ca-6846-4a72-a6a9-518ad5eea1b5 button.colab-df-convert');\n",
              "        buttonEl.style.display =\n",
              "          google.colab.kernel.accessAllowed ? 'block' : 'none';\n",
              "\n",
              "        async function convertToInteractive(key) {\n",
              "          const element = document.querySelector('#df-719926ca-6846-4a72-a6a9-518ad5eea1b5');\n",
              "          const dataTable =\n",
              "            await google.colab.kernel.invokeFunction('convertToInteractive',\n",
              "                                                     [key], {});\n",
              "          if (!dataTable) return;\n",
              "\n",
              "          const docLinkHtml = 'Like what you see? Visit the ' +\n",
              "            '<a target=\"_blank\" href=https://colab.research.google.com/notebooks/data_table.ipynb>data table notebook</a>'\n",
              "            + ' to learn more about interactive tables.';\n",
              "          element.innerHTML = '';\n",
              "          dataTable['output_type'] = 'display_data';\n",
              "          await google.colab.output.renderOutput(dataTable, element);\n",
              "          const docLink = document.createElement('div');\n",
              "          docLink.innerHTML = docLinkHtml;\n",
              "          element.appendChild(docLink);\n",
              "        }\n",
              "      </script>\n",
              "    </div>\n",
              "  </div>\n",
              "  "
            ]
          },
          "metadata": {},
          "execution_count": 12
        }
      ],
      "source": [
        "data"
      ]
    },
    {
      "cell_type": "markdown",
      "metadata": {
        "id": "lsdvqyRq2PDV"
      },
      "source": [
        "From the customer's sample, only consider the customers who made a purchase in the last 6 weeks"
      ]
    },
    {
      "cell_type": "code",
      "execution_count": null,
      "metadata": {
        "colab": {
          "base_uri": "https://localhost:8080/"
        },
        "id": "bCbAF9d62Mpr",
        "outputId": "dda0a744-47db-41a1-d917-d0c22b5ea71a"
      },
      "outputs": [
        {
          "output_type": "execute_result",
          "data": {
            "text/plain": [
              "(137198, 54476)"
            ]
          },
          "metadata": {},
          "execution_count": 13
        }
      ],
      "source": [
        "customer_id_in_data = data['customer_id'].unique()\n",
        "customer_sample_filtered = customers_sample[customers_sample['customer_id'].isin(customer_id_in_data)]\n",
        "\n",
        "customers_sample.shape[0], customer_sample_filtered.shape[0]"
      ]
    },
    {
      "cell_type": "markdown",
      "metadata": {
        "id": "7Hw0mtuJ2iWA"
      },
      "source": [
        "Only considering the articles that were purchased in the last 6 weeks."
      ]
    },
    {
      "cell_type": "code",
      "execution_count": null,
      "metadata": {
        "colab": {
          "base_uri": "https://localhost:8080/"
        },
        "id": "HSciif1s2Mjg",
        "outputId": "d84fb4fc-34c5-4864-d69f-5fd347ba401f"
      },
      "outputs": [
        {
          "output_type": "execute_result",
          "data": {
            "text/plain": [
              "(105542, 58981)"
            ]
          },
          "metadata": {},
          "execution_count": 14
        }
      ],
      "source": [
        "article_id_in_data = data['article_id'].unique()\n",
        "articles_sample_filtered = articles_df[articles_df['article_id'].isin(article_id_in_data)]\n",
        "\n",
        "articles_df.shape[0], articles_sample_filtered.shape[0]"
      ]
    },
    {
      "cell_type": "code",
      "execution_count": null,
      "metadata": {
        "id": "CUPagOT92MgL"
      },
      "outputs": [],
      "source": [
        "#Renaming\n",
        "\n",
        "customers = customer_sample_filtered\n",
        "articles = articles_sample_filtered"
      ]
    },
    {
      "cell_type": "markdown",
      "metadata": {
        "id": "scazqQpu2uUi"
      },
      "source": [
        "Creating a merged dataframe with the last 6 weeks of transaction data and the customer and article metadata."
      ]
    },
    {
      "cell_type": "code",
      "execution_count": null,
      "metadata": {
        "id": "nq5iTaYU2MdN"
      },
      "outputs": [],
      "source": [
        "merged_df = pd.merge(data, customers, on='customer_id')\n",
        "merged_df = pd.merge(merged_df, articles, on='article_id')"
      ]
    },
    {
      "cell_type": "code",
      "execution_count": null,
      "metadata": {
        "id": "S25B0FA310Em"
      },
      "outputs": [],
      "source": [
        "#item-feature matrix\n",
        "df = merged_df[['customer_id', 'article_id', 'week_number', 'purchase_count', 'prod_name', 'product_type_name', 'product_group_name',\n",
        "                'graphical_appearance_name', 'colour_group_name', 'perceived_colour_value_name', 'perceived_colour_master_name',\n",
        "                'department_name', 'index_name', 'index_group_name', 'section_name', 'garment_group_name']]"
      ]
    },
    {
      "cell_type": "markdown",
      "metadata": {
        "id": "ccCmNQM42_oa"
      },
      "source": [
        "# Train-Val-Test Split"
      ]
    },
    {
      "cell_type": "code",
      "execution_count": null,
      "metadata": {
        "id": "Rw3xDc3B1z-a"
      },
      "outputs": [],
      "source": [
        "#train data - week 47 to 50\n",
        "train = df[(df['week_number']>=47) & (df['week_number']<=50)]\n",
        "\n",
        "#val data - week 51\n",
        "val = df[df['week_number']==51]\n",
        "\n",
        "#test data - week 52\n",
        "test = df[df['week_number']==52]"
      ]
    },
    {
      "cell_type": "markdown",
      "metadata": {
        "id": "HOTneQRW3E9l"
      },
      "source": [
        "# Content Based Using Metadata"
      ]
    },
    {
      "cell_type": "code",
      "execution_count": null,
      "metadata": {
        "id": "gF49Cp5O3Pop"
      },
      "outputs": [],
      "source": [
        "features = ['product_group_name', \n",
        "       'graphical_appearance_name', 'colour_group_name',\n",
        "       'perceived_colour_value_name',\n",
        "       'perceived_colour_master_name',\n",
        "       'department_name', 'index_name',\n",
        "       'index_group_name', 'section_name',\n",
        "       'garment_group_name']"
      ]
    },
    {
      "cell_type": "code",
      "execution_count": null,
      "metadata": {
        "id": "QBFprE0-3SZp"
      },
      "outputs": [],
      "source": [
        "#Building feature space\n",
        "\n",
        "df_temp = train[['customer_id', 'article_id'] + features]\n",
        "df_temp = pd.get_dummies(df_temp, columns=features)"
      ]
    },
    {
      "cell_type": "code",
      "execution_count": null,
      "metadata": {
        "colab": {
          "base_uri": "https://localhost:8080/",
          "height": 505
        },
        "id": "m8g-Imfa3SVw",
        "outputId": "766d56ac-cebb-41fc-edaa-a4018ff7b9e0"
      },
      "outputs": [
        {
          "data": {
            "text/html": [
              "\n",
              "  <div id=\"df-da49f8da-ee69-4b94-bfad-1bbaa91bd821\">\n",
              "    <div class=\"colab-df-container\">\n",
              "      <div>\n",
              "<style scoped>\n",
              "    .dataframe tbody tr th:only-of-type {\n",
              "        vertical-align: middle;\n",
              "    }\n",
              "\n",
              "    .dataframe tbody tr th {\n",
              "        vertical-align: top;\n",
              "    }\n",
              "\n",
              "    .dataframe thead th {\n",
              "        text-align: right;\n",
              "    }\n",
              "</style>\n",
              "<table border=\"1\" class=\"dataframe\">\n",
              "  <thead>\n",
              "    <tr style=\"text-align: right;\">\n",
              "      <th></th>\n",
              "      <th>customer_id</th>\n",
              "      <th>article_id</th>\n",
              "      <th>product_group_name_Accessories</th>\n",
              "      <th>product_group_name_Bags</th>\n",
              "      <th>product_group_name_Cosmetic</th>\n",
              "      <th>product_group_name_Furniture</th>\n",
              "      <th>product_group_name_Garment Full body</th>\n",
              "      <th>product_group_name_Garment Lower body</th>\n",
              "      <th>product_group_name_Garment Upper body</th>\n",
              "      <th>product_group_name_Garment and Shoe care</th>\n",
              "      <th>...</th>\n",
              "      <th>garment_group_name_Shorts</th>\n",
              "      <th>garment_group_name_Skirts</th>\n",
              "      <th>garment_group_name_Socks and Tights</th>\n",
              "      <th>garment_group_name_Special Offers</th>\n",
              "      <th>garment_group_name_Swimwear</th>\n",
              "      <th>garment_group_name_Trousers</th>\n",
              "      <th>garment_group_name_Trousers Denim</th>\n",
              "      <th>garment_group_name_Under-, Nightwear</th>\n",
              "      <th>garment_group_name_Unknown</th>\n",
              "      <th>garment_group_name_Woven/Jersey/Knitted mix Baby</th>\n",
              "    </tr>\n",
              "  </thead>\n",
              "  <tbody>\n",
              "    <tr>\n",
              "      <th>0</th>\n",
              "      <td>0000ae1bbb25e04bdc7e35f718e852adfb3fbb72ef38b3...</td>\n",
              "      <td>573085033</td>\n",
              "      <td>0</td>\n",
              "      <td>0</td>\n",
              "      <td>0</td>\n",
              "      <td>0</td>\n",
              "      <td>0</td>\n",
              "      <td>1</td>\n",
              "      <td>0</td>\n",
              "      <td>0</td>\n",
              "      <td>...</td>\n",
              "      <td>0</td>\n",
              "      <td>0</td>\n",
              "      <td>0</td>\n",
              "      <td>0</td>\n",
              "      <td>0</td>\n",
              "      <td>1</td>\n",
              "      <td>0</td>\n",
              "      <td>0</td>\n",
              "      <td>0</td>\n",
              "      <td>0</td>\n",
              "    </tr>\n",
              "    <tr>\n",
              "      <th>2</th>\n",
              "      <td>02342ca1b89782fce40cdda06d56e17e67d26c6ab31cf3...</td>\n",
              "      <td>573085033</td>\n",
              "      <td>0</td>\n",
              "      <td>0</td>\n",
              "      <td>0</td>\n",
              "      <td>0</td>\n",
              "      <td>0</td>\n",
              "      <td>1</td>\n",
              "      <td>0</td>\n",
              "      <td>0</td>\n",
              "      <td>...</td>\n",
              "      <td>0</td>\n",
              "      <td>0</td>\n",
              "      <td>0</td>\n",
              "      <td>0</td>\n",
              "      <td>0</td>\n",
              "      <td>1</td>\n",
              "      <td>0</td>\n",
              "      <td>0</td>\n",
              "      <td>0</td>\n",
              "      <td>0</td>\n",
              "    </tr>\n",
              "    <tr>\n",
              "      <th>3</th>\n",
              "      <td>02e77834164257b0d8fe9b6312fdb31e13fbbbe1ff2ef3...</td>\n",
              "      <td>573085033</td>\n",
              "      <td>0</td>\n",
              "      <td>0</td>\n",
              "      <td>0</td>\n",
              "      <td>0</td>\n",
              "      <td>0</td>\n",
              "      <td>1</td>\n",
              "      <td>0</td>\n",
              "      <td>0</td>\n",
              "      <td>...</td>\n",
              "      <td>0</td>\n",
              "      <td>0</td>\n",
              "      <td>0</td>\n",
              "      <td>0</td>\n",
              "      <td>0</td>\n",
              "      <td>1</td>\n",
              "      <td>0</td>\n",
              "      <td>0</td>\n",
              "      <td>0</td>\n",
              "      <td>0</td>\n",
              "    </tr>\n",
              "    <tr>\n",
              "      <th>4</th>\n",
              "      <td>0541671f9306ec08db46f9dd900d5aab6892ce1e2f7a34...</td>\n",
              "      <td>573085033</td>\n",
              "      <td>0</td>\n",
              "      <td>0</td>\n",
              "      <td>0</td>\n",
              "      <td>0</td>\n",
              "      <td>0</td>\n",
              "      <td>1</td>\n",
              "      <td>0</td>\n",
              "      <td>0</td>\n",
              "      <td>...</td>\n",
              "      <td>0</td>\n",
              "      <td>0</td>\n",
              "      <td>0</td>\n",
              "      <td>0</td>\n",
              "      <td>0</td>\n",
              "      <td>1</td>\n",
              "      <td>0</td>\n",
              "      <td>0</td>\n",
              "      <td>0</td>\n",
              "      <td>0</td>\n",
              "    </tr>\n",
              "    <tr>\n",
              "      <th>6</th>\n",
              "      <td>09ebde71d578e0ea0d12319bce0434dbcb0c9ef84c9be4...</td>\n",
              "      <td>573085033</td>\n",
              "      <td>0</td>\n",
              "      <td>0</td>\n",
              "      <td>0</td>\n",
              "      <td>0</td>\n",
              "      <td>0</td>\n",
              "      <td>1</td>\n",
              "      <td>0</td>\n",
              "      <td>0</td>\n",
              "      <td>...</td>\n",
              "      <td>0</td>\n",
              "      <td>0</td>\n",
              "      <td>0</td>\n",
              "      <td>0</td>\n",
              "      <td>0</td>\n",
              "      <td>1</td>\n",
              "      <td>0</td>\n",
              "      <td>0</td>\n",
              "      <td>0</td>\n",
              "      <td>0</td>\n",
              "    </tr>\n",
              "    <tr>\n",
              "      <th>...</th>\n",
              "      <td>...</td>\n",
              "      <td>...</td>\n",
              "      <td>...</td>\n",
              "      <td>...</td>\n",
              "      <td>...</td>\n",
              "      <td>...</td>\n",
              "      <td>...</td>\n",
              "      <td>...</td>\n",
              "      <td>...</td>\n",
              "      <td>...</td>\n",
              "      <td>...</td>\n",
              "      <td>...</td>\n",
              "      <td>...</td>\n",
              "      <td>...</td>\n",
              "      <td>...</td>\n",
              "      <td>...</td>\n",
              "      <td>...</td>\n",
              "      <td>...</td>\n",
              "      <td>...</td>\n",
              "      <td>...</td>\n",
              "      <td>...</td>\n",
              "    </tr>\n",
              "    <tr>\n",
              "      <th>304610</th>\n",
              "      <td>ffed71450acc902268fc4b99dfdc28f1a22583f573863b...</td>\n",
              "      <td>644763002</td>\n",
              "      <td>0</td>\n",
              "      <td>0</td>\n",
              "      <td>0</td>\n",
              "      <td>0</td>\n",
              "      <td>0</td>\n",
              "      <td>0</td>\n",
              "      <td>0</td>\n",
              "      <td>0</td>\n",
              "      <td>...</td>\n",
              "      <td>0</td>\n",
              "      <td>0</td>\n",
              "      <td>0</td>\n",
              "      <td>0</td>\n",
              "      <td>0</td>\n",
              "      <td>0</td>\n",
              "      <td>0</td>\n",
              "      <td>1</td>\n",
              "      <td>0</td>\n",
              "      <td>0</td>\n",
              "    </tr>\n",
              "    <tr>\n",
              "      <th>304611</th>\n",
              "      <td>ffed71450acc902268fc4b99dfdc28f1a22583f573863b...</td>\n",
              "      <td>670645001</td>\n",
              "      <td>0</td>\n",
              "      <td>0</td>\n",
              "      <td>0</td>\n",
              "      <td>0</td>\n",
              "      <td>0</td>\n",
              "      <td>0</td>\n",
              "      <td>1</td>\n",
              "      <td>0</td>\n",
              "      <td>...</td>\n",
              "      <td>0</td>\n",
              "      <td>0</td>\n",
              "      <td>0</td>\n",
              "      <td>0</td>\n",
              "      <td>0</td>\n",
              "      <td>0</td>\n",
              "      <td>0</td>\n",
              "      <td>0</td>\n",
              "      <td>1</td>\n",
              "      <td>0</td>\n",
              "    </tr>\n",
              "    <tr>\n",
              "      <th>304612</th>\n",
              "      <td>ffee31d0bdc92684ba203acae0608d253f869b8ee3a086...</td>\n",
              "      <td>623277004</td>\n",
              "      <td>0</td>\n",
              "      <td>0</td>\n",
              "      <td>0</td>\n",
              "      <td>0</td>\n",
              "      <td>1</td>\n",
              "      <td>0</td>\n",
              "      <td>0</td>\n",
              "      <td>0</td>\n",
              "      <td>...</td>\n",
              "      <td>0</td>\n",
              "      <td>0</td>\n",
              "      <td>0</td>\n",
              "      <td>0</td>\n",
              "      <td>0</td>\n",
              "      <td>0</td>\n",
              "      <td>0</td>\n",
              "      <td>0</td>\n",
              "      <td>0</td>\n",
              "      <td>0</td>\n",
              "    </tr>\n",
              "    <tr>\n",
              "      <th>304613</th>\n",
              "      <td>ffee31d0bdc92684ba203acae0608d253f869b8ee3a086...</td>\n",
              "      <td>626887003</td>\n",
              "      <td>0</td>\n",
              "      <td>0</td>\n",
              "      <td>0</td>\n",
              "      <td>0</td>\n",
              "      <td>0</td>\n",
              "      <td>0</td>\n",
              "      <td>1</td>\n",
              "      <td>0</td>\n",
              "      <td>...</td>\n",
              "      <td>0</td>\n",
              "      <td>0</td>\n",
              "      <td>0</td>\n",
              "      <td>0</td>\n",
              "      <td>0</td>\n",
              "      <td>0</td>\n",
              "      <td>0</td>\n",
              "      <td>0</td>\n",
              "      <td>0</td>\n",
              "      <td>0</td>\n",
              "    </tr>\n",
              "    <tr>\n",
              "      <th>304614</th>\n",
              "      <td>ffee31d0bdc92684ba203acae0608d253f869b8ee3a086...</td>\n",
              "      <td>626890004</td>\n",
              "      <td>0</td>\n",
              "      <td>0</td>\n",
              "      <td>0</td>\n",
              "      <td>0</td>\n",
              "      <td>0</td>\n",
              "      <td>0</td>\n",
              "      <td>1</td>\n",
              "      <td>0</td>\n",
              "      <td>...</td>\n",
              "      <td>0</td>\n",
              "      <td>0</td>\n",
              "      <td>0</td>\n",
              "      <td>0</td>\n",
              "      <td>0</td>\n",
              "      <td>0</td>\n",
              "      <td>0</td>\n",
              "      <td>0</td>\n",
              "      <td>0</td>\n",
              "      <td>0</td>\n",
              "    </tr>\n",
              "  </tbody>\n",
              "</table>\n",
              "<p>200998 rows × 451 columns</p>\n",
              "</div>\n",
              "      <button class=\"colab-df-convert\" onclick=\"convertToInteractive('df-da49f8da-ee69-4b94-bfad-1bbaa91bd821')\"\n",
              "              title=\"Convert this dataframe to an interactive table.\"\n",
              "              style=\"display:none;\">\n",
              "        \n",
              "  <svg xmlns=\"http://www.w3.org/2000/svg\" height=\"24px\"viewBox=\"0 0 24 24\"\n",
              "       width=\"24px\">\n",
              "    <path d=\"M0 0h24v24H0V0z\" fill=\"none\"/>\n",
              "    <path d=\"M18.56 5.44l.94 2.06.94-2.06 2.06-.94-2.06-.94-.94-2.06-.94 2.06-2.06.94zm-11 1L8.5 8.5l.94-2.06 2.06-.94-2.06-.94L8.5 2.5l-.94 2.06-2.06.94zm10 10l.94 2.06.94-2.06 2.06-.94-2.06-.94-.94-2.06-.94 2.06-2.06.94z\"/><path d=\"M17.41 7.96l-1.37-1.37c-.4-.4-.92-.59-1.43-.59-.52 0-1.04.2-1.43.59L10.3 9.45l-7.72 7.72c-.78.78-.78 2.05 0 2.83L4 21.41c.39.39.9.59 1.41.59.51 0 1.02-.2 1.41-.59l7.78-7.78 2.81-2.81c.8-.78.8-2.07 0-2.86zM5.41 20L4 18.59l7.72-7.72 1.47 1.35L5.41 20z\"/>\n",
              "  </svg>\n",
              "      </button>\n",
              "      \n",
              "  <style>\n",
              "    .colab-df-container {\n",
              "      display:flex;\n",
              "      flex-wrap:wrap;\n",
              "      gap: 12px;\n",
              "    }\n",
              "\n",
              "    .colab-df-convert {\n",
              "      background-color: #E8F0FE;\n",
              "      border: none;\n",
              "      border-radius: 50%;\n",
              "      cursor: pointer;\n",
              "      display: none;\n",
              "      fill: #1967D2;\n",
              "      height: 32px;\n",
              "      padding: 0 0 0 0;\n",
              "      width: 32px;\n",
              "    }\n",
              "\n",
              "    .colab-df-convert:hover {\n",
              "      background-color: #E2EBFA;\n",
              "      box-shadow: 0px 1px 2px rgba(60, 64, 67, 0.3), 0px 1px 3px 1px rgba(60, 64, 67, 0.15);\n",
              "      fill: #174EA6;\n",
              "    }\n",
              "\n",
              "    [theme=dark] .colab-df-convert {\n",
              "      background-color: #3B4455;\n",
              "      fill: #D2E3FC;\n",
              "    }\n",
              "\n",
              "    [theme=dark] .colab-df-convert:hover {\n",
              "      background-color: #434B5C;\n",
              "      box-shadow: 0px 1px 3px 1px rgba(0, 0, 0, 0.15);\n",
              "      filter: drop-shadow(0px 1px 2px rgba(0, 0, 0, 0.3));\n",
              "      fill: #FFFFFF;\n",
              "    }\n",
              "  </style>\n",
              "\n",
              "      <script>\n",
              "        const buttonEl =\n",
              "          document.querySelector('#df-da49f8da-ee69-4b94-bfad-1bbaa91bd821 button.colab-df-convert');\n",
              "        buttonEl.style.display =\n",
              "          google.colab.kernel.accessAllowed ? 'block' : 'none';\n",
              "\n",
              "        async function convertToInteractive(key) {\n",
              "          const element = document.querySelector('#df-da49f8da-ee69-4b94-bfad-1bbaa91bd821');\n",
              "          const dataTable =\n",
              "            await google.colab.kernel.invokeFunction('convertToInteractive',\n",
              "                                                     [key], {});\n",
              "          if (!dataTable) return;\n",
              "\n",
              "          const docLinkHtml = 'Like what you see? Visit the ' +\n",
              "            '<a target=\"_blank\" href=https://colab.research.google.com/notebooks/data_table.ipynb>data table notebook</a>'\n",
              "            + ' to learn more about interactive tables.';\n",
              "          element.innerHTML = '';\n",
              "          dataTable['output_type'] = 'display_data';\n",
              "          await google.colab.output.renderOutput(dataTable, element);\n",
              "          const docLink = document.createElement('div');\n",
              "          docLink.innerHTML = docLinkHtml;\n",
              "          element.appendChild(docLink);\n",
              "        }\n",
              "      </script>\n",
              "    </div>\n",
              "  </div>\n",
              "  "
            ],
            "text/plain": [
              "                                              customer_id  article_id  \\\n",
              "0       0000ae1bbb25e04bdc7e35f718e852adfb3fbb72ef38b3...   573085033   \n",
              "2       02342ca1b89782fce40cdda06d56e17e67d26c6ab31cf3...   573085033   \n",
              "3       02e77834164257b0d8fe9b6312fdb31e13fbbbe1ff2ef3...   573085033   \n",
              "4       0541671f9306ec08db46f9dd900d5aab6892ce1e2f7a34...   573085033   \n",
              "6       09ebde71d578e0ea0d12319bce0434dbcb0c9ef84c9be4...   573085033   \n",
              "...                                                   ...         ...   \n",
              "304610  ffed71450acc902268fc4b99dfdc28f1a22583f573863b...   644763002   \n",
              "304611  ffed71450acc902268fc4b99dfdc28f1a22583f573863b...   670645001   \n",
              "304612  ffee31d0bdc92684ba203acae0608d253f869b8ee3a086...   623277004   \n",
              "304613  ffee31d0bdc92684ba203acae0608d253f869b8ee3a086...   626887003   \n",
              "304614  ffee31d0bdc92684ba203acae0608d253f869b8ee3a086...   626890004   \n",
              "\n",
              "        product_group_name_Accessories  product_group_name_Bags  \\\n",
              "0                                    0                        0   \n",
              "2                                    0                        0   \n",
              "3                                    0                        0   \n",
              "4                                    0                        0   \n",
              "6                                    0                        0   \n",
              "...                                ...                      ...   \n",
              "304610                               0                        0   \n",
              "304611                               0                        0   \n",
              "304612                               0                        0   \n",
              "304613                               0                        0   \n",
              "304614                               0                        0   \n",
              "\n",
              "        product_group_name_Cosmetic  product_group_name_Furniture  \\\n",
              "0                                 0                             0   \n",
              "2                                 0                             0   \n",
              "3                                 0                             0   \n",
              "4                                 0                             0   \n",
              "6                                 0                             0   \n",
              "...                             ...                           ...   \n",
              "304610                            0                             0   \n",
              "304611                            0                             0   \n",
              "304612                            0                             0   \n",
              "304613                            0                             0   \n",
              "304614                            0                             0   \n",
              "\n",
              "        product_group_name_Garment Full body  \\\n",
              "0                                          0   \n",
              "2                                          0   \n",
              "3                                          0   \n",
              "4                                          0   \n",
              "6                                          0   \n",
              "...                                      ...   \n",
              "304610                                     0   \n",
              "304611                                     0   \n",
              "304612                                     1   \n",
              "304613                                     0   \n",
              "304614                                     0   \n",
              "\n",
              "        product_group_name_Garment Lower body  \\\n",
              "0                                           1   \n",
              "2                                           1   \n",
              "3                                           1   \n",
              "4                                           1   \n",
              "6                                           1   \n",
              "...                                       ...   \n",
              "304610                                      0   \n",
              "304611                                      0   \n",
              "304612                                      0   \n",
              "304613                                      0   \n",
              "304614                                      0   \n",
              "\n",
              "        product_group_name_Garment Upper body  \\\n",
              "0                                           0   \n",
              "2                                           0   \n",
              "3                                           0   \n",
              "4                                           0   \n",
              "6                                           0   \n",
              "...                                       ...   \n",
              "304610                                      0   \n",
              "304611                                      1   \n",
              "304612                                      0   \n",
              "304613                                      1   \n",
              "304614                                      1   \n",
              "\n",
              "        product_group_name_Garment and Shoe care  ...  \\\n",
              "0                                              0  ...   \n",
              "2                                              0  ...   \n",
              "3                                              0  ...   \n",
              "4                                              0  ...   \n",
              "6                                              0  ...   \n",
              "...                                          ...  ...   \n",
              "304610                                         0  ...   \n",
              "304611                                         0  ...   \n",
              "304612                                         0  ...   \n",
              "304613                                         0  ...   \n",
              "304614                                         0  ...   \n",
              "\n",
              "        garment_group_name_Shorts  garment_group_name_Skirts  \\\n",
              "0                               0                          0   \n",
              "2                               0                          0   \n",
              "3                               0                          0   \n",
              "4                               0                          0   \n",
              "6                               0                          0   \n",
              "...                           ...                        ...   \n",
              "304610                          0                          0   \n",
              "304611                          0                          0   \n",
              "304612                          0                          0   \n",
              "304613                          0                          0   \n",
              "304614                          0                          0   \n",
              "\n",
              "        garment_group_name_Socks and Tights  \\\n",
              "0                                         0   \n",
              "2                                         0   \n",
              "3                                         0   \n",
              "4                                         0   \n",
              "6                                         0   \n",
              "...                                     ...   \n",
              "304610                                    0   \n",
              "304611                                    0   \n",
              "304612                                    0   \n",
              "304613                                    0   \n",
              "304614                                    0   \n",
              "\n",
              "        garment_group_name_Special Offers  garment_group_name_Swimwear  \\\n",
              "0                                       0                            0   \n",
              "2                                       0                            0   \n",
              "3                                       0                            0   \n",
              "4                                       0                            0   \n",
              "6                                       0                            0   \n",
              "...                                   ...                          ...   \n",
              "304610                                  0                            0   \n",
              "304611                                  0                            0   \n",
              "304612                                  0                            0   \n",
              "304613                                  0                            0   \n",
              "304614                                  0                            0   \n",
              "\n",
              "        garment_group_name_Trousers  garment_group_name_Trousers Denim  \\\n",
              "0                                 1                                  0   \n",
              "2                                 1                                  0   \n",
              "3                                 1                                  0   \n",
              "4                                 1                                  0   \n",
              "6                                 1                                  0   \n",
              "...                             ...                                ...   \n",
              "304610                            0                                  0   \n",
              "304611                            0                                  0   \n",
              "304612                            0                                  0   \n",
              "304613                            0                                  0   \n",
              "304614                            0                                  0   \n",
              "\n",
              "        garment_group_name_Under-, Nightwear  garment_group_name_Unknown  \\\n",
              "0                                          0                           0   \n",
              "2                                          0                           0   \n",
              "3                                          0                           0   \n",
              "4                                          0                           0   \n",
              "6                                          0                           0   \n",
              "...                                      ...                         ...   \n",
              "304610                                     1                           0   \n",
              "304611                                     0                           1   \n",
              "304612                                     0                           0   \n",
              "304613                                     0                           0   \n",
              "304614                                     0                           0   \n",
              "\n",
              "        garment_group_name_Woven/Jersey/Knitted mix Baby  \n",
              "0                                                      0  \n",
              "2                                                      0  \n",
              "3                                                      0  \n",
              "4                                                      0  \n",
              "6                                                      0  \n",
              "...                                                  ...  \n",
              "304610                                                 0  \n",
              "304611                                                 0  \n",
              "304612                                                 0  \n",
              "304613                                                 0  \n",
              "304614                                                 0  \n",
              "\n",
              "[200998 rows x 451 columns]"
            ]
          },
          "execution_count": 23,
          "metadata": {},
          "output_type": "execute_result"
        }
      ],
      "source": [
        "df_temp"
      ]
    },
    {
      "cell_type": "code",
      "execution_count": null,
      "metadata": {
        "id": "LB-jt18T3SSY"
      },
      "outputs": [],
      "source": [
        "min_items = 2\n",
        "cust_grouped = df_temp.groupby('customer_id')\n",
        "\n",
        "l=[]\n",
        "customer_ids = []\n",
        "article_ids = []\n",
        "for key in cust_grouped.groups.keys():\n",
        "  temp = cust_grouped.get_group(key)\n",
        "  if temp.article_id.nunique() >= min_items:\n",
        "    l.append(temp.drop('article_id', axis=1).sum(numeric_only=True).values)\n",
        "    customer_ids.append(key)\n",
        "    article_ids.extend(temp.article_id.values.tolist())"
      ]
    },
    {
      "cell_type": "markdown",
      "metadata": {
        "id": "Wb6HLo6w3cMu"
      },
      "source": [
        "**User Features**"
      ]
    },
    {
      "cell_type": "code",
      "execution_count": null,
      "metadata": {
        "colab": {
          "base_uri": "https://localhost:8080/",
          "height": 536
        },
        "id": "fA-Ra67V3SPA",
        "outputId": "cf715446-5efa-4818-aab7-a0cd01fe4fe2"
      },
      "outputs": [
        {
          "data": {
            "text/html": [
              "\n",
              "  <div id=\"df-ca29cae7-5ae5-4910-8a7c-4f572e5f0313\">\n",
              "    <div class=\"colab-df-container\">\n",
              "      <div>\n",
              "<style scoped>\n",
              "    .dataframe tbody tr th:only-of-type {\n",
              "        vertical-align: middle;\n",
              "    }\n",
              "\n",
              "    .dataframe tbody tr th {\n",
              "        vertical-align: top;\n",
              "    }\n",
              "\n",
              "    .dataframe thead th {\n",
              "        text-align: right;\n",
              "    }\n",
              "</style>\n",
              "<table border=\"1\" class=\"dataframe\">\n",
              "  <thead>\n",
              "    <tr style=\"text-align: right;\">\n",
              "      <th></th>\n",
              "      <th>product_group_name_Accessories</th>\n",
              "      <th>product_group_name_Bags</th>\n",
              "      <th>product_group_name_Cosmetic</th>\n",
              "      <th>product_group_name_Furniture</th>\n",
              "      <th>product_group_name_Garment Full body</th>\n",
              "      <th>product_group_name_Garment Lower body</th>\n",
              "      <th>product_group_name_Garment Upper body</th>\n",
              "      <th>product_group_name_Garment and Shoe care</th>\n",
              "      <th>product_group_name_Items</th>\n",
              "      <th>product_group_name_Nightwear</th>\n",
              "      <th>...</th>\n",
              "      <th>garment_group_name_Shorts</th>\n",
              "      <th>garment_group_name_Skirts</th>\n",
              "      <th>garment_group_name_Socks and Tights</th>\n",
              "      <th>garment_group_name_Special Offers</th>\n",
              "      <th>garment_group_name_Swimwear</th>\n",
              "      <th>garment_group_name_Trousers</th>\n",
              "      <th>garment_group_name_Trousers Denim</th>\n",
              "      <th>garment_group_name_Under-, Nightwear</th>\n",
              "      <th>garment_group_name_Unknown</th>\n",
              "      <th>garment_group_name_Woven/Jersey/Knitted mix Baby</th>\n",
              "    </tr>\n",
              "    <tr>\n",
              "      <th>customer_id</th>\n",
              "      <th></th>\n",
              "      <th></th>\n",
              "      <th></th>\n",
              "      <th></th>\n",
              "      <th></th>\n",
              "      <th></th>\n",
              "      <th></th>\n",
              "      <th></th>\n",
              "      <th></th>\n",
              "      <th></th>\n",
              "      <th></th>\n",
              "      <th></th>\n",
              "      <th></th>\n",
              "      <th></th>\n",
              "      <th></th>\n",
              "      <th></th>\n",
              "      <th></th>\n",
              "      <th></th>\n",
              "      <th></th>\n",
              "      <th></th>\n",
              "      <th></th>\n",
              "    </tr>\n",
              "  </thead>\n",
              "  <tbody>\n",
              "    <tr>\n",
              "      <th>0000ae1bbb25e04bdc7e35f718e852adfb3fbb72ef38b3fa01ce4272a6326730</th>\n",
              "      <td>0.000000</td>\n",
              "      <td>0.0</td>\n",
              "      <td>0.0</td>\n",
              "      <td>0.0</td>\n",
              "      <td>0.000000</td>\n",
              "      <td>0.100000</td>\n",
              "      <td>0.000000</td>\n",
              "      <td>0.0</td>\n",
              "      <td>0.0</td>\n",
              "      <td>0.0</td>\n",
              "      <td>...</td>\n",
              "      <td>0.0</td>\n",
              "      <td>0.0000</td>\n",
              "      <td>0.000000</td>\n",
              "      <td>0.000000</td>\n",
              "      <td>0.000000</td>\n",
              "      <td>0.100000</td>\n",
              "      <td>0.000</td>\n",
              "      <td>0.000000</td>\n",
              "      <td>0.00</td>\n",
              "      <td>0.0</td>\n",
              "    </tr>\n",
              "    <tr>\n",
              "      <th>0000ffa57a8098a6cd99c0f0782b3e674f47d68db69dc173c7e67e0f68170c4c</th>\n",
              "      <td>0.000000</td>\n",
              "      <td>0.0</td>\n",
              "      <td>0.0</td>\n",
              "      <td>0.0</td>\n",
              "      <td>0.000000</td>\n",
              "      <td>0.000000</td>\n",
              "      <td>0.066667</td>\n",
              "      <td>0.0</td>\n",
              "      <td>0.0</td>\n",
              "      <td>0.0</td>\n",
              "      <td>...</td>\n",
              "      <td>0.0</td>\n",
              "      <td>0.0000</td>\n",
              "      <td>0.033333</td>\n",
              "      <td>0.000000</td>\n",
              "      <td>0.000000</td>\n",
              "      <td>0.000000</td>\n",
              "      <td>0.000</td>\n",
              "      <td>0.000000</td>\n",
              "      <td>0.00</td>\n",
              "      <td>0.0</td>\n",
              "    </tr>\n",
              "    <tr>\n",
              "      <th>000538c14c490fee547e2703439f70bdb8748e2a62f875d63b7320c17ae20fc2</th>\n",
              "      <td>0.000000</td>\n",
              "      <td>0.0</td>\n",
              "      <td>0.0</td>\n",
              "      <td>0.0</td>\n",
              "      <td>0.031250</td>\n",
              "      <td>0.012500</td>\n",
              "      <td>0.031250</td>\n",
              "      <td>0.0</td>\n",
              "      <td>0.0</td>\n",
              "      <td>0.0</td>\n",
              "      <td>...</td>\n",
              "      <td>0.0</td>\n",
              "      <td>0.0125</td>\n",
              "      <td>0.000000</td>\n",
              "      <td>0.000000</td>\n",
              "      <td>0.025000</td>\n",
              "      <td>0.000000</td>\n",
              "      <td>0.000</td>\n",
              "      <td>0.000000</td>\n",
              "      <td>0.00</td>\n",
              "      <td>0.0</td>\n",
              "    </tr>\n",
              "    <tr>\n",
              "      <th>000a9291e5aa007a10faf2177671a8501dade80e6679218d65f53c1497b17f87</th>\n",
              "      <td>0.020000</td>\n",
              "      <td>0.0</td>\n",
              "      <td>0.0</td>\n",
              "      <td>0.0</td>\n",
              "      <td>0.040000</td>\n",
              "      <td>0.030000</td>\n",
              "      <td>0.000000</td>\n",
              "      <td>0.0</td>\n",
              "      <td>0.0</td>\n",
              "      <td>0.0</td>\n",
              "      <td>...</td>\n",
              "      <td>0.0</td>\n",
              "      <td>0.0000</td>\n",
              "      <td>0.000000</td>\n",
              "      <td>0.000000</td>\n",
              "      <td>0.000000</td>\n",
              "      <td>0.020000</td>\n",
              "      <td>0.000</td>\n",
              "      <td>0.000000</td>\n",
              "      <td>0.01</td>\n",
              "      <td>0.0</td>\n",
              "    </tr>\n",
              "    <tr>\n",
              "      <th>000b2018cebd824b6abdcbe9a9178067124ea4516a2d8cb3b222643397a54b0a</th>\n",
              "      <td>0.000000</td>\n",
              "      <td>0.0</td>\n",
              "      <td>0.0</td>\n",
              "      <td>0.0</td>\n",
              "      <td>0.000000</td>\n",
              "      <td>0.100000</td>\n",
              "      <td>0.000000</td>\n",
              "      <td>0.0</td>\n",
              "      <td>0.0</td>\n",
              "      <td>0.0</td>\n",
              "      <td>...</td>\n",
              "      <td>0.0</td>\n",
              "      <td>0.0000</td>\n",
              "      <td>0.000000</td>\n",
              "      <td>0.000000</td>\n",
              "      <td>0.000000</td>\n",
              "      <td>0.100000</td>\n",
              "      <td>0.000</td>\n",
              "      <td>0.000000</td>\n",
              "      <td>0.00</td>\n",
              "      <td>0.0</td>\n",
              "    </tr>\n",
              "    <tr>\n",
              "      <th>...</th>\n",
              "      <td>...</td>\n",
              "      <td>...</td>\n",
              "      <td>...</td>\n",
              "      <td>...</td>\n",
              "      <td>...</td>\n",
              "      <td>...</td>\n",
              "      <td>...</td>\n",
              "      <td>...</td>\n",
              "      <td>...</td>\n",
              "      <td>...</td>\n",
              "      <td>...</td>\n",
              "      <td>...</td>\n",
              "      <td>...</td>\n",
              "      <td>...</td>\n",
              "      <td>...</td>\n",
              "      <td>...</td>\n",
              "      <td>...</td>\n",
              "      <td>...</td>\n",
              "      <td>...</td>\n",
              "      <td>...</td>\n",
              "      <td>...</td>\n",
              "    </tr>\n",
              "    <tr>\n",
              "      <th>fffac3618e0084b4f22787586be7701efa2bb564c308613f67a8fdbe1dfc38d9</th>\n",
              "      <td>0.000000</td>\n",
              "      <td>0.0</td>\n",
              "      <td>0.0</td>\n",
              "      <td>0.0</td>\n",
              "      <td>0.000000</td>\n",
              "      <td>0.016667</td>\n",
              "      <td>0.050000</td>\n",
              "      <td>0.0</td>\n",
              "      <td>0.0</td>\n",
              "      <td>0.0</td>\n",
              "      <td>...</td>\n",
              "      <td>0.0</td>\n",
              "      <td>0.0000</td>\n",
              "      <td>0.000000</td>\n",
              "      <td>0.000000</td>\n",
              "      <td>0.000000</td>\n",
              "      <td>0.016667</td>\n",
              "      <td>0.000</td>\n",
              "      <td>0.033333</td>\n",
              "      <td>0.00</td>\n",
              "      <td>0.0</td>\n",
              "    </tr>\n",
              "    <tr>\n",
              "      <th>fffae8eb3a282d8c43c77dd2ca0621703b71e90904dfde2189bdd644f59071dd</th>\n",
              "      <td>0.008333</td>\n",
              "      <td>0.0</td>\n",
              "      <td>0.0</td>\n",
              "      <td>0.0</td>\n",
              "      <td>0.000000</td>\n",
              "      <td>0.050000</td>\n",
              "      <td>0.033333</td>\n",
              "      <td>0.0</td>\n",
              "      <td>0.0</td>\n",
              "      <td>0.0</td>\n",
              "      <td>...</td>\n",
              "      <td>0.0</td>\n",
              "      <td>0.0000</td>\n",
              "      <td>0.016667</td>\n",
              "      <td>0.000000</td>\n",
              "      <td>0.000000</td>\n",
              "      <td>0.016667</td>\n",
              "      <td>0.025</td>\n",
              "      <td>0.000000</td>\n",
              "      <td>0.00</td>\n",
              "      <td>0.0</td>\n",
              "    </tr>\n",
              "    <tr>\n",
              "      <th>fffb6dda3fec0b5c58aae22a19c039e0087da6625b54aa04681ec5e188d6c364</th>\n",
              "      <td>0.016667</td>\n",
              "      <td>0.0</td>\n",
              "      <td>0.0</td>\n",
              "      <td>0.0</td>\n",
              "      <td>0.016667</td>\n",
              "      <td>0.016667</td>\n",
              "      <td>0.016667</td>\n",
              "      <td>0.0</td>\n",
              "      <td>0.0</td>\n",
              "      <td>0.0</td>\n",
              "      <td>...</td>\n",
              "      <td>0.0</td>\n",
              "      <td>0.0000</td>\n",
              "      <td>0.016667</td>\n",
              "      <td>0.000000</td>\n",
              "      <td>0.000000</td>\n",
              "      <td>0.033333</td>\n",
              "      <td>0.000</td>\n",
              "      <td>0.016667</td>\n",
              "      <td>0.00</td>\n",
              "      <td>0.0</td>\n",
              "    </tr>\n",
              "    <tr>\n",
              "      <th>fffebe4b1d5b6c0605668265c22330f468a7257c9e5081c0ce2b393104e11163</th>\n",
              "      <td>0.000000</td>\n",
              "      <td>0.0</td>\n",
              "      <td>0.0</td>\n",
              "      <td>0.0</td>\n",
              "      <td>0.100000</td>\n",
              "      <td>0.000000</td>\n",
              "      <td>0.000000</td>\n",
              "      <td>0.0</td>\n",
              "      <td>0.0</td>\n",
              "      <td>0.0</td>\n",
              "      <td>...</td>\n",
              "      <td>0.0</td>\n",
              "      <td>0.0000</td>\n",
              "      <td>0.000000</td>\n",
              "      <td>0.000000</td>\n",
              "      <td>0.000000</td>\n",
              "      <td>0.000000</td>\n",
              "      <td>0.000</td>\n",
              "      <td>0.000000</td>\n",
              "      <td>0.00</td>\n",
              "      <td>0.0</td>\n",
              "    </tr>\n",
              "    <tr>\n",
              "      <th>ffffcf35913a0bee60e8741cb2b4e78b8a98ee5ff2e6a1778d0116cffd259264</th>\n",
              "      <td>0.000000</td>\n",
              "      <td>0.0</td>\n",
              "      <td>0.0</td>\n",
              "      <td>0.0</td>\n",
              "      <td>0.000000</td>\n",
              "      <td>0.016667</td>\n",
              "      <td>0.050000</td>\n",
              "      <td>0.0</td>\n",
              "      <td>0.0</td>\n",
              "      <td>0.0</td>\n",
              "      <td>...</td>\n",
              "      <td>0.0</td>\n",
              "      <td>0.0000</td>\n",
              "      <td>0.000000</td>\n",
              "      <td>0.016667</td>\n",
              "      <td>0.016667</td>\n",
              "      <td>0.016667</td>\n",
              "      <td>0.000</td>\n",
              "      <td>0.016667</td>\n",
              "      <td>0.00</td>\n",
              "      <td>0.0</td>\n",
              "    </tr>\n",
              "  </tbody>\n",
              "</table>\n",
              "<p>32823 rows × 449 columns</p>\n",
              "</div>\n",
              "      <button class=\"colab-df-convert\" onclick=\"convertToInteractive('df-ca29cae7-5ae5-4910-8a7c-4f572e5f0313')\"\n",
              "              title=\"Convert this dataframe to an interactive table.\"\n",
              "              style=\"display:none;\">\n",
              "        \n",
              "  <svg xmlns=\"http://www.w3.org/2000/svg\" height=\"24px\"viewBox=\"0 0 24 24\"\n",
              "       width=\"24px\">\n",
              "    <path d=\"M0 0h24v24H0V0z\" fill=\"none\"/>\n",
              "    <path d=\"M18.56 5.44l.94 2.06.94-2.06 2.06-.94-2.06-.94-.94-2.06-.94 2.06-2.06.94zm-11 1L8.5 8.5l.94-2.06 2.06-.94-2.06-.94L8.5 2.5l-.94 2.06-2.06.94zm10 10l.94 2.06.94-2.06 2.06-.94-2.06-.94-.94-2.06-.94 2.06-2.06.94z\"/><path d=\"M17.41 7.96l-1.37-1.37c-.4-.4-.92-.59-1.43-.59-.52 0-1.04.2-1.43.59L10.3 9.45l-7.72 7.72c-.78.78-.78 2.05 0 2.83L4 21.41c.39.39.9.59 1.41.59.51 0 1.02-.2 1.41-.59l7.78-7.78 2.81-2.81c.8-.78.8-2.07 0-2.86zM5.41 20L4 18.59l7.72-7.72 1.47 1.35L5.41 20z\"/>\n",
              "  </svg>\n",
              "      </button>\n",
              "      \n",
              "  <style>\n",
              "    .colab-df-container {\n",
              "      display:flex;\n",
              "      flex-wrap:wrap;\n",
              "      gap: 12px;\n",
              "    }\n",
              "\n",
              "    .colab-df-convert {\n",
              "      background-color: #E8F0FE;\n",
              "      border: none;\n",
              "      border-radius: 50%;\n",
              "      cursor: pointer;\n",
              "      display: none;\n",
              "      fill: #1967D2;\n",
              "      height: 32px;\n",
              "      padding: 0 0 0 0;\n",
              "      width: 32px;\n",
              "    }\n",
              "\n",
              "    .colab-df-convert:hover {\n",
              "      background-color: #E2EBFA;\n",
              "      box-shadow: 0px 1px 2px rgba(60, 64, 67, 0.3), 0px 1px 3px 1px rgba(60, 64, 67, 0.15);\n",
              "      fill: #174EA6;\n",
              "    }\n",
              "\n",
              "    [theme=dark] .colab-df-convert {\n",
              "      background-color: #3B4455;\n",
              "      fill: #D2E3FC;\n",
              "    }\n",
              "\n",
              "    [theme=dark] .colab-df-convert:hover {\n",
              "      background-color: #434B5C;\n",
              "      box-shadow: 0px 1px 3px 1px rgba(0, 0, 0, 0.15);\n",
              "      filter: drop-shadow(0px 1px 2px rgba(0, 0, 0, 0.3));\n",
              "      fill: #FFFFFF;\n",
              "    }\n",
              "  </style>\n",
              "\n",
              "      <script>\n",
              "        const buttonEl =\n",
              "          document.querySelector('#df-ca29cae7-5ae5-4910-8a7c-4f572e5f0313 button.colab-df-convert');\n",
              "        buttonEl.style.display =\n",
              "          google.colab.kernel.accessAllowed ? 'block' : 'none';\n",
              "\n",
              "        async function convertToInteractive(key) {\n",
              "          const element = document.querySelector('#df-ca29cae7-5ae5-4910-8a7c-4f572e5f0313');\n",
              "          const dataTable =\n",
              "            await google.colab.kernel.invokeFunction('convertToInteractive',\n",
              "                                                     [key], {});\n",
              "          if (!dataTable) return;\n",
              "\n",
              "          const docLinkHtml = 'Like what you see? Visit the ' +\n",
              "            '<a target=\"_blank\" href=https://colab.research.google.com/notebooks/data_table.ipynb>data table notebook</a>'\n",
              "            + ' to learn more about interactive tables.';\n",
              "          element.innerHTML = '';\n",
              "          dataTable['output_type'] = 'display_data';\n",
              "          await google.colab.output.renderOutput(dataTable, element);\n",
              "          const docLink = document.createElement('div');\n",
              "          docLink.innerHTML = docLinkHtml;\n",
              "          element.appendChild(docLink);\n",
              "        }\n",
              "      </script>\n",
              "    </div>\n",
              "  </div>\n",
              "  "
            ],
            "text/plain": [
              "                                                    product_group_name_Accessories  \\\n",
              "customer_id                                                                          \n",
              "0000ae1bbb25e04bdc7e35f718e852adfb3fbb72ef38b3f...                        0.000000   \n",
              "0000ffa57a8098a6cd99c0f0782b3e674f47d68db69dc17...                        0.000000   \n",
              "000538c14c490fee547e2703439f70bdb8748e2a62f875d...                        0.000000   \n",
              "000a9291e5aa007a10faf2177671a8501dade80e6679218...                        0.020000   \n",
              "000b2018cebd824b6abdcbe9a9178067124ea4516a2d8cb...                        0.000000   \n",
              "...                                                                            ...   \n",
              "fffac3618e0084b4f22787586be7701efa2bb564c308613...                        0.000000   \n",
              "fffae8eb3a282d8c43c77dd2ca0621703b71e90904dfde2...                        0.008333   \n",
              "fffb6dda3fec0b5c58aae22a19c039e0087da6625b54aa0...                        0.016667   \n",
              "fffebe4b1d5b6c0605668265c22330f468a7257c9e5081c...                        0.000000   \n",
              "ffffcf35913a0bee60e8741cb2b4e78b8a98ee5ff2e6a17...                        0.000000   \n",
              "\n",
              "                                                    product_group_name_Bags  \\\n",
              "customer_id                                                                   \n",
              "0000ae1bbb25e04bdc7e35f718e852adfb3fbb72ef38b3f...                      0.0   \n",
              "0000ffa57a8098a6cd99c0f0782b3e674f47d68db69dc17...                      0.0   \n",
              "000538c14c490fee547e2703439f70bdb8748e2a62f875d...                      0.0   \n",
              "000a9291e5aa007a10faf2177671a8501dade80e6679218...                      0.0   \n",
              "000b2018cebd824b6abdcbe9a9178067124ea4516a2d8cb...                      0.0   \n",
              "...                                                                     ...   \n",
              "fffac3618e0084b4f22787586be7701efa2bb564c308613...                      0.0   \n",
              "fffae8eb3a282d8c43c77dd2ca0621703b71e90904dfde2...                      0.0   \n",
              "fffb6dda3fec0b5c58aae22a19c039e0087da6625b54aa0...                      0.0   \n",
              "fffebe4b1d5b6c0605668265c22330f468a7257c9e5081c...                      0.0   \n",
              "ffffcf35913a0bee60e8741cb2b4e78b8a98ee5ff2e6a17...                      0.0   \n",
              "\n",
              "                                                    product_group_name_Cosmetic  \\\n",
              "customer_id                                                                       \n",
              "0000ae1bbb25e04bdc7e35f718e852adfb3fbb72ef38b3f...                          0.0   \n",
              "0000ffa57a8098a6cd99c0f0782b3e674f47d68db69dc17...                          0.0   \n",
              "000538c14c490fee547e2703439f70bdb8748e2a62f875d...                          0.0   \n",
              "000a9291e5aa007a10faf2177671a8501dade80e6679218...                          0.0   \n",
              "000b2018cebd824b6abdcbe9a9178067124ea4516a2d8cb...                          0.0   \n",
              "...                                                                         ...   \n",
              "fffac3618e0084b4f22787586be7701efa2bb564c308613...                          0.0   \n",
              "fffae8eb3a282d8c43c77dd2ca0621703b71e90904dfde2...                          0.0   \n",
              "fffb6dda3fec0b5c58aae22a19c039e0087da6625b54aa0...                          0.0   \n",
              "fffebe4b1d5b6c0605668265c22330f468a7257c9e5081c...                          0.0   \n",
              "ffffcf35913a0bee60e8741cb2b4e78b8a98ee5ff2e6a17...                          0.0   \n",
              "\n",
              "                                                    product_group_name_Furniture  \\\n",
              "customer_id                                                                        \n",
              "0000ae1bbb25e04bdc7e35f718e852adfb3fbb72ef38b3f...                           0.0   \n",
              "0000ffa57a8098a6cd99c0f0782b3e674f47d68db69dc17...                           0.0   \n",
              "000538c14c490fee547e2703439f70bdb8748e2a62f875d...                           0.0   \n",
              "000a9291e5aa007a10faf2177671a8501dade80e6679218...                           0.0   \n",
              "000b2018cebd824b6abdcbe9a9178067124ea4516a2d8cb...                           0.0   \n",
              "...                                                                          ...   \n",
              "fffac3618e0084b4f22787586be7701efa2bb564c308613...                           0.0   \n",
              "fffae8eb3a282d8c43c77dd2ca0621703b71e90904dfde2...                           0.0   \n",
              "fffb6dda3fec0b5c58aae22a19c039e0087da6625b54aa0...                           0.0   \n",
              "fffebe4b1d5b6c0605668265c22330f468a7257c9e5081c...                           0.0   \n",
              "ffffcf35913a0bee60e8741cb2b4e78b8a98ee5ff2e6a17...                           0.0   \n",
              "\n",
              "                                                    product_group_name_Garment Full body  \\\n",
              "customer_id                                                                                \n",
              "0000ae1bbb25e04bdc7e35f718e852adfb3fbb72ef38b3f...                              0.000000   \n",
              "0000ffa57a8098a6cd99c0f0782b3e674f47d68db69dc17...                              0.000000   \n",
              "000538c14c490fee547e2703439f70bdb8748e2a62f875d...                              0.031250   \n",
              "000a9291e5aa007a10faf2177671a8501dade80e6679218...                              0.040000   \n",
              "000b2018cebd824b6abdcbe9a9178067124ea4516a2d8cb...                              0.000000   \n",
              "...                                                                                  ...   \n",
              "fffac3618e0084b4f22787586be7701efa2bb564c308613...                              0.000000   \n",
              "fffae8eb3a282d8c43c77dd2ca0621703b71e90904dfde2...                              0.000000   \n",
              "fffb6dda3fec0b5c58aae22a19c039e0087da6625b54aa0...                              0.016667   \n",
              "fffebe4b1d5b6c0605668265c22330f468a7257c9e5081c...                              0.100000   \n",
              "ffffcf35913a0bee60e8741cb2b4e78b8a98ee5ff2e6a17...                              0.000000   \n",
              "\n",
              "                                                    product_group_name_Garment Lower body  \\\n",
              "customer_id                                                                                 \n",
              "0000ae1bbb25e04bdc7e35f718e852adfb3fbb72ef38b3f...                               0.100000   \n",
              "0000ffa57a8098a6cd99c0f0782b3e674f47d68db69dc17...                               0.000000   \n",
              "000538c14c490fee547e2703439f70bdb8748e2a62f875d...                               0.012500   \n",
              "000a9291e5aa007a10faf2177671a8501dade80e6679218...                               0.030000   \n",
              "000b2018cebd824b6abdcbe9a9178067124ea4516a2d8cb...                               0.100000   \n",
              "...                                                                                   ...   \n",
              "fffac3618e0084b4f22787586be7701efa2bb564c308613...                               0.016667   \n",
              "fffae8eb3a282d8c43c77dd2ca0621703b71e90904dfde2...                               0.050000   \n",
              "fffb6dda3fec0b5c58aae22a19c039e0087da6625b54aa0...                               0.016667   \n",
              "fffebe4b1d5b6c0605668265c22330f468a7257c9e5081c...                               0.000000   \n",
              "ffffcf35913a0bee60e8741cb2b4e78b8a98ee5ff2e6a17...                               0.016667   \n",
              "\n",
              "                                                    product_group_name_Garment Upper body  \\\n",
              "customer_id                                                                                 \n",
              "0000ae1bbb25e04bdc7e35f718e852adfb3fbb72ef38b3f...                               0.000000   \n",
              "0000ffa57a8098a6cd99c0f0782b3e674f47d68db69dc17...                               0.066667   \n",
              "000538c14c490fee547e2703439f70bdb8748e2a62f875d...                               0.031250   \n",
              "000a9291e5aa007a10faf2177671a8501dade80e6679218...                               0.000000   \n",
              "000b2018cebd824b6abdcbe9a9178067124ea4516a2d8cb...                               0.000000   \n",
              "...                                                                                   ...   \n",
              "fffac3618e0084b4f22787586be7701efa2bb564c308613...                               0.050000   \n",
              "fffae8eb3a282d8c43c77dd2ca0621703b71e90904dfde2...                               0.033333   \n",
              "fffb6dda3fec0b5c58aae22a19c039e0087da6625b54aa0...                               0.016667   \n",
              "fffebe4b1d5b6c0605668265c22330f468a7257c9e5081c...                               0.000000   \n",
              "ffffcf35913a0bee60e8741cb2b4e78b8a98ee5ff2e6a17...                               0.050000   \n",
              "\n",
              "                                                    product_group_name_Garment and Shoe care  \\\n",
              "customer_id                                                                                    \n",
              "0000ae1bbb25e04bdc7e35f718e852adfb3fbb72ef38b3f...                                       0.0   \n",
              "0000ffa57a8098a6cd99c0f0782b3e674f47d68db69dc17...                                       0.0   \n",
              "000538c14c490fee547e2703439f70bdb8748e2a62f875d...                                       0.0   \n",
              "000a9291e5aa007a10faf2177671a8501dade80e6679218...                                       0.0   \n",
              "000b2018cebd824b6abdcbe9a9178067124ea4516a2d8cb...                                       0.0   \n",
              "...                                                                                      ...   \n",
              "fffac3618e0084b4f22787586be7701efa2bb564c308613...                                       0.0   \n",
              "fffae8eb3a282d8c43c77dd2ca0621703b71e90904dfde2...                                       0.0   \n",
              "fffb6dda3fec0b5c58aae22a19c039e0087da6625b54aa0...                                       0.0   \n",
              "fffebe4b1d5b6c0605668265c22330f468a7257c9e5081c...                                       0.0   \n",
              "ffffcf35913a0bee60e8741cb2b4e78b8a98ee5ff2e6a17...                                       0.0   \n",
              "\n",
              "                                                    product_group_name_Items  \\\n",
              "customer_id                                                                    \n",
              "0000ae1bbb25e04bdc7e35f718e852adfb3fbb72ef38b3f...                       0.0   \n",
              "0000ffa57a8098a6cd99c0f0782b3e674f47d68db69dc17...                       0.0   \n",
              "000538c14c490fee547e2703439f70bdb8748e2a62f875d...                       0.0   \n",
              "000a9291e5aa007a10faf2177671a8501dade80e6679218...                       0.0   \n",
              "000b2018cebd824b6abdcbe9a9178067124ea4516a2d8cb...                       0.0   \n",
              "...                                                                      ...   \n",
              "fffac3618e0084b4f22787586be7701efa2bb564c308613...                       0.0   \n",
              "fffae8eb3a282d8c43c77dd2ca0621703b71e90904dfde2...                       0.0   \n",
              "fffb6dda3fec0b5c58aae22a19c039e0087da6625b54aa0...                       0.0   \n",
              "fffebe4b1d5b6c0605668265c22330f468a7257c9e5081c...                       0.0   \n",
              "ffffcf35913a0bee60e8741cb2b4e78b8a98ee5ff2e6a17...                       0.0   \n",
              "\n",
              "                                                    product_group_name_Nightwear  \\\n",
              "customer_id                                                                        \n",
              "0000ae1bbb25e04bdc7e35f718e852adfb3fbb72ef38b3f...                           0.0   \n",
              "0000ffa57a8098a6cd99c0f0782b3e674f47d68db69dc17...                           0.0   \n",
              "000538c14c490fee547e2703439f70bdb8748e2a62f875d...                           0.0   \n",
              "000a9291e5aa007a10faf2177671a8501dade80e6679218...                           0.0   \n",
              "000b2018cebd824b6abdcbe9a9178067124ea4516a2d8cb...                           0.0   \n",
              "...                                                                          ...   \n",
              "fffac3618e0084b4f22787586be7701efa2bb564c308613...                           0.0   \n",
              "fffae8eb3a282d8c43c77dd2ca0621703b71e90904dfde2...                           0.0   \n",
              "fffb6dda3fec0b5c58aae22a19c039e0087da6625b54aa0...                           0.0   \n",
              "fffebe4b1d5b6c0605668265c22330f468a7257c9e5081c...                           0.0   \n",
              "ffffcf35913a0bee60e8741cb2b4e78b8a98ee5ff2e6a17...                           0.0   \n",
              "\n",
              "                                                    ...  \\\n",
              "customer_id                                         ...   \n",
              "0000ae1bbb25e04bdc7e35f718e852adfb3fbb72ef38b3f...  ...   \n",
              "0000ffa57a8098a6cd99c0f0782b3e674f47d68db69dc17...  ...   \n",
              "000538c14c490fee547e2703439f70bdb8748e2a62f875d...  ...   \n",
              "000a9291e5aa007a10faf2177671a8501dade80e6679218...  ...   \n",
              "000b2018cebd824b6abdcbe9a9178067124ea4516a2d8cb...  ...   \n",
              "...                                                 ...   \n",
              "fffac3618e0084b4f22787586be7701efa2bb564c308613...  ...   \n",
              "fffae8eb3a282d8c43c77dd2ca0621703b71e90904dfde2...  ...   \n",
              "fffb6dda3fec0b5c58aae22a19c039e0087da6625b54aa0...  ...   \n",
              "fffebe4b1d5b6c0605668265c22330f468a7257c9e5081c...  ...   \n",
              "ffffcf35913a0bee60e8741cb2b4e78b8a98ee5ff2e6a17...  ...   \n",
              "\n",
              "                                                    garment_group_name_Shorts  \\\n",
              "customer_id                                                                     \n",
              "0000ae1bbb25e04bdc7e35f718e852adfb3fbb72ef38b3f...                        0.0   \n",
              "0000ffa57a8098a6cd99c0f0782b3e674f47d68db69dc17...                        0.0   \n",
              "000538c14c490fee547e2703439f70bdb8748e2a62f875d...                        0.0   \n",
              "000a9291e5aa007a10faf2177671a8501dade80e6679218...                        0.0   \n",
              "000b2018cebd824b6abdcbe9a9178067124ea4516a2d8cb...                        0.0   \n",
              "...                                                                       ...   \n",
              "fffac3618e0084b4f22787586be7701efa2bb564c308613...                        0.0   \n",
              "fffae8eb3a282d8c43c77dd2ca0621703b71e90904dfde2...                        0.0   \n",
              "fffb6dda3fec0b5c58aae22a19c039e0087da6625b54aa0...                        0.0   \n",
              "fffebe4b1d5b6c0605668265c22330f468a7257c9e5081c...                        0.0   \n",
              "ffffcf35913a0bee60e8741cb2b4e78b8a98ee5ff2e6a17...                        0.0   \n",
              "\n",
              "                                                    garment_group_name_Skirts  \\\n",
              "customer_id                                                                     \n",
              "0000ae1bbb25e04bdc7e35f718e852adfb3fbb72ef38b3f...                     0.0000   \n",
              "0000ffa57a8098a6cd99c0f0782b3e674f47d68db69dc17...                     0.0000   \n",
              "000538c14c490fee547e2703439f70bdb8748e2a62f875d...                     0.0125   \n",
              "000a9291e5aa007a10faf2177671a8501dade80e6679218...                     0.0000   \n",
              "000b2018cebd824b6abdcbe9a9178067124ea4516a2d8cb...                     0.0000   \n",
              "...                                                                       ...   \n",
              "fffac3618e0084b4f22787586be7701efa2bb564c308613...                     0.0000   \n",
              "fffae8eb3a282d8c43c77dd2ca0621703b71e90904dfde2...                     0.0000   \n",
              "fffb6dda3fec0b5c58aae22a19c039e0087da6625b54aa0...                     0.0000   \n",
              "fffebe4b1d5b6c0605668265c22330f468a7257c9e5081c...                     0.0000   \n",
              "ffffcf35913a0bee60e8741cb2b4e78b8a98ee5ff2e6a17...                     0.0000   \n",
              "\n",
              "                                                    garment_group_name_Socks and Tights  \\\n",
              "customer_id                                                                               \n",
              "0000ae1bbb25e04bdc7e35f718e852adfb3fbb72ef38b3f...                             0.000000   \n",
              "0000ffa57a8098a6cd99c0f0782b3e674f47d68db69dc17...                             0.033333   \n",
              "000538c14c490fee547e2703439f70bdb8748e2a62f875d...                             0.000000   \n",
              "000a9291e5aa007a10faf2177671a8501dade80e6679218...                             0.000000   \n",
              "000b2018cebd824b6abdcbe9a9178067124ea4516a2d8cb...                             0.000000   \n",
              "...                                                                                 ...   \n",
              "fffac3618e0084b4f22787586be7701efa2bb564c308613...                             0.000000   \n",
              "fffae8eb3a282d8c43c77dd2ca0621703b71e90904dfde2...                             0.016667   \n",
              "fffb6dda3fec0b5c58aae22a19c039e0087da6625b54aa0...                             0.016667   \n",
              "fffebe4b1d5b6c0605668265c22330f468a7257c9e5081c...                             0.000000   \n",
              "ffffcf35913a0bee60e8741cb2b4e78b8a98ee5ff2e6a17...                             0.000000   \n",
              "\n",
              "                                                    garment_group_name_Special Offers  \\\n",
              "customer_id                                                                             \n",
              "0000ae1bbb25e04bdc7e35f718e852adfb3fbb72ef38b3f...                           0.000000   \n",
              "0000ffa57a8098a6cd99c0f0782b3e674f47d68db69dc17...                           0.000000   \n",
              "000538c14c490fee547e2703439f70bdb8748e2a62f875d...                           0.000000   \n",
              "000a9291e5aa007a10faf2177671a8501dade80e6679218...                           0.000000   \n",
              "000b2018cebd824b6abdcbe9a9178067124ea4516a2d8cb...                           0.000000   \n",
              "...                                                                               ...   \n",
              "fffac3618e0084b4f22787586be7701efa2bb564c308613...                           0.000000   \n",
              "fffae8eb3a282d8c43c77dd2ca0621703b71e90904dfde2...                           0.000000   \n",
              "fffb6dda3fec0b5c58aae22a19c039e0087da6625b54aa0...                           0.000000   \n",
              "fffebe4b1d5b6c0605668265c22330f468a7257c9e5081c...                           0.000000   \n",
              "ffffcf35913a0bee60e8741cb2b4e78b8a98ee5ff2e6a17...                           0.016667   \n",
              "\n",
              "                                                    garment_group_name_Swimwear  \\\n",
              "customer_id                                                                       \n",
              "0000ae1bbb25e04bdc7e35f718e852adfb3fbb72ef38b3f...                     0.000000   \n",
              "0000ffa57a8098a6cd99c0f0782b3e674f47d68db69dc17...                     0.000000   \n",
              "000538c14c490fee547e2703439f70bdb8748e2a62f875d...                     0.025000   \n",
              "000a9291e5aa007a10faf2177671a8501dade80e6679218...                     0.000000   \n",
              "000b2018cebd824b6abdcbe9a9178067124ea4516a2d8cb...                     0.000000   \n",
              "...                                                                         ...   \n",
              "fffac3618e0084b4f22787586be7701efa2bb564c308613...                     0.000000   \n",
              "fffae8eb3a282d8c43c77dd2ca0621703b71e90904dfde2...                     0.000000   \n",
              "fffb6dda3fec0b5c58aae22a19c039e0087da6625b54aa0...                     0.000000   \n",
              "fffebe4b1d5b6c0605668265c22330f468a7257c9e5081c...                     0.000000   \n",
              "ffffcf35913a0bee60e8741cb2b4e78b8a98ee5ff2e6a17...                     0.016667   \n",
              "\n",
              "                                                    garment_group_name_Trousers  \\\n",
              "customer_id                                                                       \n",
              "0000ae1bbb25e04bdc7e35f718e852adfb3fbb72ef38b3f...                     0.100000   \n",
              "0000ffa57a8098a6cd99c0f0782b3e674f47d68db69dc17...                     0.000000   \n",
              "000538c14c490fee547e2703439f70bdb8748e2a62f875d...                     0.000000   \n",
              "000a9291e5aa007a10faf2177671a8501dade80e6679218...                     0.020000   \n",
              "000b2018cebd824b6abdcbe9a9178067124ea4516a2d8cb...                     0.100000   \n",
              "...                                                                         ...   \n",
              "fffac3618e0084b4f22787586be7701efa2bb564c308613...                     0.016667   \n",
              "fffae8eb3a282d8c43c77dd2ca0621703b71e90904dfde2...                     0.016667   \n",
              "fffb6dda3fec0b5c58aae22a19c039e0087da6625b54aa0...                     0.033333   \n",
              "fffebe4b1d5b6c0605668265c22330f468a7257c9e5081c...                     0.000000   \n",
              "ffffcf35913a0bee60e8741cb2b4e78b8a98ee5ff2e6a17...                     0.016667   \n",
              "\n",
              "                                                    garment_group_name_Trousers Denim  \\\n",
              "customer_id                                                                             \n",
              "0000ae1bbb25e04bdc7e35f718e852adfb3fbb72ef38b3f...                              0.000   \n",
              "0000ffa57a8098a6cd99c0f0782b3e674f47d68db69dc17...                              0.000   \n",
              "000538c14c490fee547e2703439f70bdb8748e2a62f875d...                              0.000   \n",
              "000a9291e5aa007a10faf2177671a8501dade80e6679218...                              0.000   \n",
              "000b2018cebd824b6abdcbe9a9178067124ea4516a2d8cb...                              0.000   \n",
              "...                                                                               ...   \n",
              "fffac3618e0084b4f22787586be7701efa2bb564c308613...                              0.000   \n",
              "fffae8eb3a282d8c43c77dd2ca0621703b71e90904dfde2...                              0.025   \n",
              "fffb6dda3fec0b5c58aae22a19c039e0087da6625b54aa0...                              0.000   \n",
              "fffebe4b1d5b6c0605668265c22330f468a7257c9e5081c...                              0.000   \n",
              "ffffcf35913a0bee60e8741cb2b4e78b8a98ee5ff2e6a17...                              0.000   \n",
              "\n",
              "                                                    garment_group_name_Under-, Nightwear  \\\n",
              "customer_id                                                                                \n",
              "0000ae1bbb25e04bdc7e35f718e852adfb3fbb72ef38b3f...                              0.000000   \n",
              "0000ffa57a8098a6cd99c0f0782b3e674f47d68db69dc17...                              0.000000   \n",
              "000538c14c490fee547e2703439f70bdb8748e2a62f875d...                              0.000000   \n",
              "000a9291e5aa007a10faf2177671a8501dade80e6679218...                              0.000000   \n",
              "000b2018cebd824b6abdcbe9a9178067124ea4516a2d8cb...                              0.000000   \n",
              "...                                                                                  ...   \n",
              "fffac3618e0084b4f22787586be7701efa2bb564c308613...                              0.033333   \n",
              "fffae8eb3a282d8c43c77dd2ca0621703b71e90904dfde2...                              0.000000   \n",
              "fffb6dda3fec0b5c58aae22a19c039e0087da6625b54aa0...                              0.016667   \n",
              "fffebe4b1d5b6c0605668265c22330f468a7257c9e5081c...                              0.000000   \n",
              "ffffcf35913a0bee60e8741cb2b4e78b8a98ee5ff2e6a17...                              0.016667   \n",
              "\n",
              "                                                    garment_group_name_Unknown  \\\n",
              "customer_id                                                                      \n",
              "0000ae1bbb25e04bdc7e35f718e852adfb3fbb72ef38b3f...                        0.00   \n",
              "0000ffa57a8098a6cd99c0f0782b3e674f47d68db69dc17...                        0.00   \n",
              "000538c14c490fee547e2703439f70bdb8748e2a62f875d...                        0.00   \n",
              "000a9291e5aa007a10faf2177671a8501dade80e6679218...                        0.01   \n",
              "000b2018cebd824b6abdcbe9a9178067124ea4516a2d8cb...                        0.00   \n",
              "...                                                                        ...   \n",
              "fffac3618e0084b4f22787586be7701efa2bb564c308613...                        0.00   \n",
              "fffae8eb3a282d8c43c77dd2ca0621703b71e90904dfde2...                        0.00   \n",
              "fffb6dda3fec0b5c58aae22a19c039e0087da6625b54aa0...                        0.00   \n",
              "fffebe4b1d5b6c0605668265c22330f468a7257c9e5081c...                        0.00   \n",
              "ffffcf35913a0bee60e8741cb2b4e78b8a98ee5ff2e6a17...                        0.00   \n",
              "\n",
              "                                                    garment_group_name_Woven/Jersey/Knitted mix Baby  \n",
              "customer_id                                                                                           \n",
              "0000ae1bbb25e04bdc7e35f718e852adfb3fbb72ef38b3f...                                               0.0  \n",
              "0000ffa57a8098a6cd99c0f0782b3e674f47d68db69dc17...                                               0.0  \n",
              "000538c14c490fee547e2703439f70bdb8748e2a62f875d...                                               0.0  \n",
              "000a9291e5aa007a10faf2177671a8501dade80e6679218...                                               0.0  \n",
              "000b2018cebd824b6abdcbe9a9178067124ea4516a2d8cb...                                               0.0  \n",
              "...                                                                                              ...  \n",
              "fffac3618e0084b4f22787586be7701efa2bb564c308613...                                               0.0  \n",
              "fffae8eb3a282d8c43c77dd2ca0621703b71e90904dfde2...                                               0.0  \n",
              "fffb6dda3fec0b5c58aae22a19c039e0087da6625b54aa0...                                               0.0  \n",
              "fffebe4b1d5b6c0605668265c22330f468a7257c9e5081c...                                               0.0  \n",
              "ffffcf35913a0bee60e8741cb2b4e78b8a98ee5ff2e6a17...                                               0.0  \n",
              "\n",
              "[32823 rows x 449 columns]"
            ]
          },
          "execution_count": 25,
          "metadata": {},
          "output_type": "execute_result"
        }
      ],
      "source": [
        "user_feature_df = pd.DataFrame(l, columns=df_temp.columns[2:])\n",
        "normalized_user_feature_df = user_feature_df.div(user_feature_df.sum(axis=1), axis=0)\n",
        "normalized_user_feature_df.insert(0, 'customer_id', customer_ids)\n",
        "normalized_user_feature = normalized_user_feature_df.set_index(\"customer_id\")\n",
        "normalized_user_feature"
      ]
    },
    {
      "cell_type": "markdown",
      "metadata": {
        "id": "wzCYGBV23e20"
      },
      "source": [
        "**Item Features**"
      ]
    },
    {
      "cell_type": "code",
      "execution_count": null,
      "metadata": {
        "colab": {
          "base_uri": "https://localhost:8080/",
          "height": 536
        },
        "id": "5aK5Ofct3bN7",
        "outputId": "4453672d-29c6-4fca-aa9e-d779115db8de"
      },
      "outputs": [
        {
          "data": {
            "text/html": [
              "\n",
              "  <div id=\"df-c7ea5791-0777-43df-bdbc-189d17baaadc\">\n",
              "    <div class=\"colab-df-container\">\n",
              "      <div>\n",
              "<style scoped>\n",
              "    .dataframe tbody tr th:only-of-type {\n",
              "        vertical-align: middle;\n",
              "    }\n",
              "\n",
              "    .dataframe tbody tr th {\n",
              "        vertical-align: top;\n",
              "    }\n",
              "\n",
              "    .dataframe thead th {\n",
              "        text-align: right;\n",
              "    }\n",
              "</style>\n",
              "<table border=\"1\" class=\"dataframe\">\n",
              "  <thead>\n",
              "    <tr style=\"text-align: right;\">\n",
              "      <th></th>\n",
              "      <th>product_group_name_Accessories</th>\n",
              "      <th>product_group_name_Bags</th>\n",
              "      <th>product_group_name_Cosmetic</th>\n",
              "      <th>product_group_name_Furniture</th>\n",
              "      <th>product_group_name_Garment Full body</th>\n",
              "      <th>product_group_name_Garment Lower body</th>\n",
              "      <th>product_group_name_Garment Upper body</th>\n",
              "      <th>product_group_name_Garment and Shoe care</th>\n",
              "      <th>product_group_name_Items</th>\n",
              "      <th>product_group_name_Nightwear</th>\n",
              "      <th>...</th>\n",
              "      <th>garment_group_name_Shorts</th>\n",
              "      <th>garment_group_name_Skirts</th>\n",
              "      <th>garment_group_name_Socks and Tights</th>\n",
              "      <th>garment_group_name_Special Offers</th>\n",
              "      <th>garment_group_name_Swimwear</th>\n",
              "      <th>garment_group_name_Trousers</th>\n",
              "      <th>garment_group_name_Trousers Denim</th>\n",
              "      <th>garment_group_name_Under-, Nightwear</th>\n",
              "      <th>garment_group_name_Unknown</th>\n",
              "      <th>garment_group_name_Woven/Jersey/Knitted mix Baby</th>\n",
              "    </tr>\n",
              "    <tr>\n",
              "      <th>article_id</th>\n",
              "      <th></th>\n",
              "      <th></th>\n",
              "      <th></th>\n",
              "      <th></th>\n",
              "      <th></th>\n",
              "      <th></th>\n",
              "      <th></th>\n",
              "      <th></th>\n",
              "      <th></th>\n",
              "      <th></th>\n",
              "      <th></th>\n",
              "      <th></th>\n",
              "      <th></th>\n",
              "      <th></th>\n",
              "      <th></th>\n",
              "      <th></th>\n",
              "      <th></th>\n",
              "      <th></th>\n",
              "      <th></th>\n",
              "      <th></th>\n",
              "      <th></th>\n",
              "    </tr>\n",
              "  </thead>\n",
              "  <tbody>\n",
              "    <tr>\n",
              "      <th>573085033</th>\n",
              "      <td>0</td>\n",
              "      <td>0</td>\n",
              "      <td>0</td>\n",
              "      <td>0</td>\n",
              "      <td>0</td>\n",
              "      <td>1</td>\n",
              "      <td>0</td>\n",
              "      <td>0</td>\n",
              "      <td>0</td>\n",
              "      <td>0</td>\n",
              "      <td>...</td>\n",
              "      <td>0</td>\n",
              "      <td>0</td>\n",
              "      <td>0</td>\n",
              "      <td>0</td>\n",
              "      <td>0</td>\n",
              "      <td>1</td>\n",
              "      <td>0</td>\n",
              "      <td>0</td>\n",
              "      <td>0</td>\n",
              "      <td>0</td>\n",
              "    </tr>\n",
              "    <tr>\n",
              "      <th>573085038</th>\n",
              "      <td>0</td>\n",
              "      <td>0</td>\n",
              "      <td>0</td>\n",
              "      <td>0</td>\n",
              "      <td>0</td>\n",
              "      <td>1</td>\n",
              "      <td>0</td>\n",
              "      <td>0</td>\n",
              "      <td>0</td>\n",
              "      <td>0</td>\n",
              "      <td>...</td>\n",
              "      <td>0</td>\n",
              "      <td>0</td>\n",
              "      <td>0</td>\n",
              "      <td>0</td>\n",
              "      <td>0</td>\n",
              "      <td>1</td>\n",
              "      <td>0</td>\n",
              "      <td>0</td>\n",
              "      <td>0</td>\n",
              "      <td>0</td>\n",
              "    </tr>\n",
              "    <tr>\n",
              "      <th>215589001</th>\n",
              "      <td>0</td>\n",
              "      <td>0</td>\n",
              "      <td>0</td>\n",
              "      <td>0</td>\n",
              "      <td>0</td>\n",
              "      <td>0</td>\n",
              "      <td>0</td>\n",
              "      <td>0</td>\n",
              "      <td>0</td>\n",
              "      <td>0</td>\n",
              "      <td>...</td>\n",
              "      <td>0</td>\n",
              "      <td>0</td>\n",
              "      <td>1</td>\n",
              "      <td>0</td>\n",
              "      <td>0</td>\n",
              "      <td>0</td>\n",
              "      <td>0</td>\n",
              "      <td>0</td>\n",
              "      <td>0</td>\n",
              "      <td>0</td>\n",
              "    </tr>\n",
              "    <tr>\n",
              "      <th>555353017</th>\n",
              "      <td>0</td>\n",
              "      <td>0</td>\n",
              "      <td>0</td>\n",
              "      <td>0</td>\n",
              "      <td>0</td>\n",
              "      <td>0</td>\n",
              "      <td>1</td>\n",
              "      <td>0</td>\n",
              "      <td>0</td>\n",
              "      <td>0</td>\n",
              "      <td>...</td>\n",
              "      <td>0</td>\n",
              "      <td>0</td>\n",
              "      <td>0</td>\n",
              "      <td>0</td>\n",
              "      <td>0</td>\n",
              "      <td>0</td>\n",
              "      <td>0</td>\n",
              "      <td>0</td>\n",
              "      <td>0</td>\n",
              "      <td>0</td>\n",
              "    </tr>\n",
              "    <tr>\n",
              "      <th>817574001</th>\n",
              "      <td>0</td>\n",
              "      <td>0</td>\n",
              "      <td>0</td>\n",
              "      <td>0</td>\n",
              "      <td>0</td>\n",
              "      <td>0</td>\n",
              "      <td>1</td>\n",
              "      <td>0</td>\n",
              "      <td>0</td>\n",
              "      <td>0</td>\n",
              "      <td>...</td>\n",
              "      <td>0</td>\n",
              "      <td>0</td>\n",
              "      <td>0</td>\n",
              "      <td>0</td>\n",
              "      <td>0</td>\n",
              "      <td>0</td>\n",
              "      <td>0</td>\n",
              "      <td>0</td>\n",
              "      <td>0</td>\n",
              "      <td>0</td>\n",
              "    </tr>\n",
              "    <tr>\n",
              "      <th>...</th>\n",
              "      <td>...</td>\n",
              "      <td>...</td>\n",
              "      <td>...</td>\n",
              "      <td>...</td>\n",
              "      <td>...</td>\n",
              "      <td>...</td>\n",
              "      <td>...</td>\n",
              "      <td>...</td>\n",
              "      <td>...</td>\n",
              "      <td>...</td>\n",
              "      <td>...</td>\n",
              "      <td>...</td>\n",
              "      <td>...</td>\n",
              "      <td>...</td>\n",
              "      <td>...</td>\n",
              "      <td>...</td>\n",
              "      <td>...</td>\n",
              "      <td>...</td>\n",
              "      <td>...</td>\n",
              "      <td>...</td>\n",
              "      <td>...</td>\n",
              "    </tr>\n",
              "    <tr>\n",
              "      <th>644763002</th>\n",
              "      <td>0</td>\n",
              "      <td>0</td>\n",
              "      <td>0</td>\n",
              "      <td>0</td>\n",
              "      <td>0</td>\n",
              "      <td>0</td>\n",
              "      <td>0</td>\n",
              "      <td>0</td>\n",
              "      <td>0</td>\n",
              "      <td>0</td>\n",
              "      <td>...</td>\n",
              "      <td>0</td>\n",
              "      <td>0</td>\n",
              "      <td>0</td>\n",
              "      <td>0</td>\n",
              "      <td>0</td>\n",
              "      <td>0</td>\n",
              "      <td>0</td>\n",
              "      <td>1</td>\n",
              "      <td>0</td>\n",
              "      <td>0</td>\n",
              "    </tr>\n",
              "    <tr>\n",
              "      <th>670645001</th>\n",
              "      <td>0</td>\n",
              "      <td>0</td>\n",
              "      <td>0</td>\n",
              "      <td>0</td>\n",
              "      <td>0</td>\n",
              "      <td>0</td>\n",
              "      <td>1</td>\n",
              "      <td>0</td>\n",
              "      <td>0</td>\n",
              "      <td>0</td>\n",
              "      <td>...</td>\n",
              "      <td>0</td>\n",
              "      <td>0</td>\n",
              "      <td>0</td>\n",
              "      <td>0</td>\n",
              "      <td>0</td>\n",
              "      <td>0</td>\n",
              "      <td>0</td>\n",
              "      <td>0</td>\n",
              "      <td>1</td>\n",
              "      <td>0</td>\n",
              "    </tr>\n",
              "    <tr>\n",
              "      <th>623277004</th>\n",
              "      <td>0</td>\n",
              "      <td>0</td>\n",
              "      <td>0</td>\n",
              "      <td>0</td>\n",
              "      <td>1</td>\n",
              "      <td>0</td>\n",
              "      <td>0</td>\n",
              "      <td>0</td>\n",
              "      <td>0</td>\n",
              "      <td>0</td>\n",
              "      <td>...</td>\n",
              "      <td>0</td>\n",
              "      <td>0</td>\n",
              "      <td>0</td>\n",
              "      <td>0</td>\n",
              "      <td>0</td>\n",
              "      <td>0</td>\n",
              "      <td>0</td>\n",
              "      <td>0</td>\n",
              "      <td>0</td>\n",
              "      <td>0</td>\n",
              "    </tr>\n",
              "    <tr>\n",
              "      <th>626887003</th>\n",
              "      <td>0</td>\n",
              "      <td>0</td>\n",
              "      <td>0</td>\n",
              "      <td>0</td>\n",
              "      <td>0</td>\n",
              "      <td>0</td>\n",
              "      <td>1</td>\n",
              "      <td>0</td>\n",
              "      <td>0</td>\n",
              "      <td>0</td>\n",
              "      <td>...</td>\n",
              "      <td>0</td>\n",
              "      <td>0</td>\n",
              "      <td>0</td>\n",
              "      <td>0</td>\n",
              "      <td>0</td>\n",
              "      <td>0</td>\n",
              "      <td>0</td>\n",
              "      <td>0</td>\n",
              "      <td>0</td>\n",
              "      <td>0</td>\n",
              "    </tr>\n",
              "    <tr>\n",
              "      <th>626890004</th>\n",
              "      <td>0</td>\n",
              "      <td>0</td>\n",
              "      <td>0</td>\n",
              "      <td>0</td>\n",
              "      <td>0</td>\n",
              "      <td>0</td>\n",
              "      <td>1</td>\n",
              "      <td>0</td>\n",
              "      <td>0</td>\n",
              "      <td>0</td>\n",
              "      <td>...</td>\n",
              "      <td>0</td>\n",
              "      <td>0</td>\n",
              "      <td>0</td>\n",
              "      <td>0</td>\n",
              "      <td>0</td>\n",
              "      <td>0</td>\n",
              "      <td>0</td>\n",
              "      <td>0</td>\n",
              "      <td>0</td>\n",
              "      <td>0</td>\n",
              "    </tr>\n",
              "  </tbody>\n",
              "</table>\n",
              "<p>30381 rows × 449 columns</p>\n",
              "</div>\n",
              "      <button class=\"colab-df-convert\" onclick=\"convertToInteractive('df-c7ea5791-0777-43df-bdbc-189d17baaadc')\"\n",
              "              title=\"Convert this dataframe to an interactive table.\"\n",
              "              style=\"display:none;\">\n",
              "        \n",
              "  <svg xmlns=\"http://www.w3.org/2000/svg\" height=\"24px\"viewBox=\"0 0 24 24\"\n",
              "       width=\"24px\">\n",
              "    <path d=\"M0 0h24v24H0V0z\" fill=\"none\"/>\n",
              "    <path d=\"M18.56 5.44l.94 2.06.94-2.06 2.06-.94-2.06-.94-.94-2.06-.94 2.06-2.06.94zm-11 1L8.5 8.5l.94-2.06 2.06-.94-2.06-.94L8.5 2.5l-.94 2.06-2.06.94zm10 10l.94 2.06.94-2.06 2.06-.94-2.06-.94-.94-2.06-.94 2.06-2.06.94z\"/><path d=\"M17.41 7.96l-1.37-1.37c-.4-.4-.92-.59-1.43-.59-.52 0-1.04.2-1.43.59L10.3 9.45l-7.72 7.72c-.78.78-.78 2.05 0 2.83L4 21.41c.39.39.9.59 1.41.59.51 0 1.02-.2 1.41-.59l7.78-7.78 2.81-2.81c.8-.78.8-2.07 0-2.86zM5.41 20L4 18.59l7.72-7.72 1.47 1.35L5.41 20z\"/>\n",
              "  </svg>\n",
              "      </button>\n",
              "      \n",
              "  <style>\n",
              "    .colab-df-container {\n",
              "      display:flex;\n",
              "      flex-wrap:wrap;\n",
              "      gap: 12px;\n",
              "    }\n",
              "\n",
              "    .colab-df-convert {\n",
              "      background-color: #E8F0FE;\n",
              "      border: none;\n",
              "      border-radius: 50%;\n",
              "      cursor: pointer;\n",
              "      display: none;\n",
              "      fill: #1967D2;\n",
              "      height: 32px;\n",
              "      padding: 0 0 0 0;\n",
              "      width: 32px;\n",
              "    }\n",
              "\n",
              "    .colab-df-convert:hover {\n",
              "      background-color: #E2EBFA;\n",
              "      box-shadow: 0px 1px 2px rgba(60, 64, 67, 0.3), 0px 1px 3px 1px rgba(60, 64, 67, 0.15);\n",
              "      fill: #174EA6;\n",
              "    }\n",
              "\n",
              "    [theme=dark] .colab-df-convert {\n",
              "      background-color: #3B4455;\n",
              "      fill: #D2E3FC;\n",
              "    }\n",
              "\n",
              "    [theme=dark] .colab-df-convert:hover {\n",
              "      background-color: #434B5C;\n",
              "      box-shadow: 0px 1px 3px 1px rgba(0, 0, 0, 0.15);\n",
              "      filter: drop-shadow(0px 1px 2px rgba(0, 0, 0, 0.3));\n",
              "      fill: #FFFFFF;\n",
              "    }\n",
              "  </style>\n",
              "\n",
              "      <script>\n",
              "        const buttonEl =\n",
              "          document.querySelector('#df-c7ea5791-0777-43df-bdbc-189d17baaadc button.colab-df-convert');\n",
              "        buttonEl.style.display =\n",
              "          google.colab.kernel.accessAllowed ? 'block' : 'none';\n",
              "\n",
              "        async function convertToInteractive(key) {\n",
              "          const element = document.querySelector('#df-c7ea5791-0777-43df-bdbc-189d17baaadc');\n",
              "          const dataTable =\n",
              "            await google.colab.kernel.invokeFunction('convertToInteractive',\n",
              "                                                     [key], {});\n",
              "          if (!dataTable) return;\n",
              "\n",
              "          const docLinkHtml = 'Like what you see? Visit the ' +\n",
              "            '<a target=\"_blank\" href=https://colab.research.google.com/notebooks/data_table.ipynb>data table notebook</a>'\n",
              "            + ' to learn more about interactive tables.';\n",
              "          element.innerHTML = '';\n",
              "          dataTable['output_type'] = 'display_data';\n",
              "          await google.colab.output.renderOutput(dataTable, element);\n",
              "          const docLink = document.createElement('div');\n",
              "          docLink.innerHTML = docLinkHtml;\n",
              "          element.appendChild(docLink);\n",
              "        }\n",
              "      </script>\n",
              "    </div>\n",
              "  </div>\n",
              "  "
            ],
            "text/plain": [
              "            product_group_name_Accessories  product_group_name_Bags  \\\n",
              "article_id                                                            \n",
              "573085033                                0                        0   \n",
              "573085038                                0                        0   \n",
              "215589001                                0                        0   \n",
              "555353017                                0                        0   \n",
              "817574001                                0                        0   \n",
              "...                                    ...                      ...   \n",
              "644763002                                0                        0   \n",
              "670645001                                0                        0   \n",
              "623277004                                0                        0   \n",
              "626887003                                0                        0   \n",
              "626890004                                0                        0   \n",
              "\n",
              "            product_group_name_Cosmetic  product_group_name_Furniture  \\\n",
              "article_id                                                              \n",
              "573085033                             0                             0   \n",
              "573085038                             0                             0   \n",
              "215589001                             0                             0   \n",
              "555353017                             0                             0   \n",
              "817574001                             0                             0   \n",
              "...                                 ...                           ...   \n",
              "644763002                             0                             0   \n",
              "670645001                             0                             0   \n",
              "623277004                             0                             0   \n",
              "626887003                             0                             0   \n",
              "626890004                             0                             0   \n",
              "\n",
              "            product_group_name_Garment Full body  \\\n",
              "article_id                                         \n",
              "573085033                                      0   \n",
              "573085038                                      0   \n",
              "215589001                                      0   \n",
              "555353017                                      0   \n",
              "817574001                                      0   \n",
              "...                                          ...   \n",
              "644763002                                      0   \n",
              "670645001                                      0   \n",
              "623277004                                      1   \n",
              "626887003                                      0   \n",
              "626890004                                      0   \n",
              "\n",
              "            product_group_name_Garment Lower body  \\\n",
              "article_id                                          \n",
              "573085033                                       1   \n",
              "573085038                                       1   \n",
              "215589001                                       0   \n",
              "555353017                                       0   \n",
              "817574001                                       0   \n",
              "...                                           ...   \n",
              "644763002                                       0   \n",
              "670645001                                       0   \n",
              "623277004                                       0   \n",
              "626887003                                       0   \n",
              "626890004                                       0   \n",
              "\n",
              "            product_group_name_Garment Upper body  \\\n",
              "article_id                                          \n",
              "573085033                                       0   \n",
              "573085038                                       0   \n",
              "215589001                                       0   \n",
              "555353017                                       1   \n",
              "817574001                                       1   \n",
              "...                                           ...   \n",
              "644763002                                       0   \n",
              "670645001                                       1   \n",
              "623277004                                       0   \n",
              "626887003                                       1   \n",
              "626890004                                       1   \n",
              "\n",
              "            product_group_name_Garment and Shoe care  \\\n",
              "article_id                                             \n",
              "573085033                                          0   \n",
              "573085038                                          0   \n",
              "215589001                                          0   \n",
              "555353017                                          0   \n",
              "817574001                                          0   \n",
              "...                                              ...   \n",
              "644763002                                          0   \n",
              "670645001                                          0   \n",
              "623277004                                          0   \n",
              "626887003                                          0   \n",
              "626890004                                          0   \n",
              "\n",
              "            product_group_name_Items  product_group_name_Nightwear  ...  \\\n",
              "article_id                                                          ...   \n",
              "573085033                          0                             0  ...   \n",
              "573085038                          0                             0  ...   \n",
              "215589001                          0                             0  ...   \n",
              "555353017                          0                             0  ...   \n",
              "817574001                          0                             0  ...   \n",
              "...                              ...                           ...  ...   \n",
              "644763002                          0                             0  ...   \n",
              "670645001                          0                             0  ...   \n",
              "623277004                          0                             0  ...   \n",
              "626887003                          0                             0  ...   \n",
              "626890004                          0                             0  ...   \n",
              "\n",
              "            garment_group_name_Shorts  garment_group_name_Skirts  \\\n",
              "article_id                                                         \n",
              "573085033                           0                          0   \n",
              "573085038                           0                          0   \n",
              "215589001                           0                          0   \n",
              "555353017                           0                          0   \n",
              "817574001                           0                          0   \n",
              "...                               ...                        ...   \n",
              "644763002                           0                          0   \n",
              "670645001                           0                          0   \n",
              "623277004                           0                          0   \n",
              "626887003                           0                          0   \n",
              "626890004                           0                          0   \n",
              "\n",
              "            garment_group_name_Socks and Tights  \\\n",
              "article_id                                        \n",
              "573085033                                     0   \n",
              "573085038                                     0   \n",
              "215589001                                     1   \n",
              "555353017                                     0   \n",
              "817574001                                     0   \n",
              "...                                         ...   \n",
              "644763002                                     0   \n",
              "670645001                                     0   \n",
              "623277004                                     0   \n",
              "626887003                                     0   \n",
              "626890004                                     0   \n",
              "\n",
              "            garment_group_name_Special Offers  garment_group_name_Swimwear  \\\n",
              "article_id                                                                   \n",
              "573085033                                   0                            0   \n",
              "573085038                                   0                            0   \n",
              "215589001                                   0                            0   \n",
              "555353017                                   0                            0   \n",
              "817574001                                   0                            0   \n",
              "...                                       ...                          ...   \n",
              "644763002                                   0                            0   \n",
              "670645001                                   0                            0   \n",
              "623277004                                   0                            0   \n",
              "626887003                                   0                            0   \n",
              "626890004                                   0                            0   \n",
              "\n",
              "            garment_group_name_Trousers  garment_group_name_Trousers Denim  \\\n",
              "article_id                                                                   \n",
              "573085033                             1                                  0   \n",
              "573085038                             1                                  0   \n",
              "215589001                             0                                  0   \n",
              "555353017                             0                                  0   \n",
              "817574001                             0                                  0   \n",
              "...                                 ...                                ...   \n",
              "644763002                             0                                  0   \n",
              "670645001                             0                                  0   \n",
              "623277004                             0                                  0   \n",
              "626887003                             0                                  0   \n",
              "626890004                             0                                  0   \n",
              "\n",
              "            garment_group_name_Under-, Nightwear  garment_group_name_Unknown  \\\n",
              "article_id                                                                     \n",
              "573085033                                      0                           0   \n",
              "573085038                                      0                           0   \n",
              "215589001                                      0                           0   \n",
              "555353017                                      0                           0   \n",
              "817574001                                      0                           0   \n",
              "...                                          ...                         ...   \n",
              "644763002                                      1                           0   \n",
              "670645001                                      0                           1   \n",
              "623277004                                      0                           0   \n",
              "626887003                                      0                           0   \n",
              "626890004                                      0                           0   \n",
              "\n",
              "            garment_group_name_Woven/Jersey/Knitted mix Baby  \n",
              "article_id                                                    \n",
              "573085033                                                  0  \n",
              "573085038                                                  0  \n",
              "215589001                                                  0  \n",
              "555353017                                                  0  \n",
              "817574001                                                  0  \n",
              "...                                                      ...  \n",
              "644763002                                                  0  \n",
              "670645001                                                  0  \n",
              "623277004                                                  0  \n",
              "626887003                                                  0  \n",
              "626890004                                                  0  \n",
              "\n",
              "[30381 rows x 449 columns]"
            ]
          },
          "execution_count": 26,
          "metadata": {},
          "output_type": "execute_result"
        }
      ],
      "source": [
        "item_feature_df = df_temp.drop_duplicates(subset='article_id')\n",
        "item_feature_df = item_feature_df[item_feature_df.article_id.isin(article_ids)].drop('customer_id', axis=1)\n",
        "item_feature = item_feature_df.set_index('article_id')\n",
        "item_feature"
      ]
    },
    {
      "cell_type": "markdown",
      "metadata": {
        "id": "UWFR9xey3HeS"
      },
      "source": [
        "## Without PCA"
      ]
    },
    {
      "cell_type": "markdown",
      "metadata": {
        "id": "jT8EuVl535IM"
      },
      "source": [
        "### Training"
      ]
    },
    {
      "cell_type": "code",
      "execution_count": null,
      "metadata": {
        "id": "fR4N4wmm3Lt9"
      },
      "outputs": [],
      "source": [
        "#choosing less number of samples, due to RAM crash\n",
        "user_feature_sample = normalized_user_feature.head(10000)\n",
        "item_feature_sample = item_feature.head(10000)"
      ]
    },
    {
      "cell_type": "code",
      "execution_count": null,
      "metadata": {
        "id": "hDXsnYQz3Lqg"
      },
      "outputs": [],
      "source": [
        "score = user_feature_sample.dot(item_feature_sample.T)"
      ]
    },
    {
      "cell_type": "code",
      "execution_count": null,
      "metadata": {
        "colab": {
          "base_uri": "https://localhost:8080/",
          "height": 519
        },
        "id": "S_Rws_tJ3Lnd",
        "outputId": "0896353b-ce9e-402a-b354-8ab763a92f3c"
      },
      "outputs": [
        {
          "data": {
            "text/html": [
              "\n",
              "  <div id=\"df-eedea905-110a-40bc-a25c-2f59664f7ced\">\n",
              "    <div class=\"colab-df-container\">\n",
              "      <div>\n",
              "<style scoped>\n",
              "    .dataframe tbody tr th:only-of-type {\n",
              "        vertical-align: middle;\n",
              "    }\n",
              "\n",
              "    .dataframe tbody tr th {\n",
              "        vertical-align: top;\n",
              "    }\n",
              "\n",
              "    .dataframe thead th {\n",
              "        text-align: right;\n",
              "    }\n",
              "</style>\n",
              "<table border=\"1\" class=\"dataframe\">\n",
              "  <thead>\n",
              "    <tr style=\"text-align: right;\">\n",
              "      <th>article_id</th>\n",
              "      <th>573085033</th>\n",
              "      <th>573085038</th>\n",
              "      <th>215589001</th>\n",
              "      <th>555353017</th>\n",
              "      <th>817574001</th>\n",
              "      <th>561277001</th>\n",
              "      <th>699493001</th>\n",
              "      <th>244267032</th>\n",
              "      <th>356289021</th>\n",
              "      <th>419634001</th>\n",
              "      <th>...</th>\n",
              "      <th>838178003</th>\n",
              "      <th>799382001</th>\n",
              "      <th>568861008</th>\n",
              "      <th>671599001</th>\n",
              "      <th>843701001</th>\n",
              "      <th>535388001</th>\n",
              "      <th>535388008</th>\n",
              "      <th>541313006</th>\n",
              "      <th>743530004</th>\n",
              "      <th>743530022</th>\n",
              "    </tr>\n",
              "    <tr>\n",
              "      <th>customer_id</th>\n",
              "      <th></th>\n",
              "      <th></th>\n",
              "      <th></th>\n",
              "      <th></th>\n",
              "      <th></th>\n",
              "      <th></th>\n",
              "      <th></th>\n",
              "      <th></th>\n",
              "      <th></th>\n",
              "      <th></th>\n",
              "      <th></th>\n",
              "      <th></th>\n",
              "      <th></th>\n",
              "      <th></th>\n",
              "      <th></th>\n",
              "      <th></th>\n",
              "      <th></th>\n",
              "      <th></th>\n",
              "      <th></th>\n",
              "      <th></th>\n",
              "      <th></th>\n",
              "    </tr>\n",
              "  </thead>\n",
              "  <tbody>\n",
              "    <tr>\n",
              "      <th>0000ae1bbb25e04bdc7e35f718e852adfb3fbb72ef38b3fa01ce4272a6326730</th>\n",
              "      <td>1.000000</td>\n",
              "      <td>1.000000</td>\n",
              "      <td>0.100000</td>\n",
              "      <td>0.300000</td>\n",
              "      <td>0.300000</td>\n",
              "      <td>0.100000</td>\n",
              "      <td>0.300000</td>\n",
              "      <td>0.300000</td>\n",
              "      <td>0.100000</td>\n",
              "      <td>0.000000</td>\n",
              "      <td>...</td>\n",
              "      <td>0.200000</td>\n",
              "      <td>0.200000</td>\n",
              "      <td>0.300000</td>\n",
              "      <td>0.100000</td>\n",
              "      <td>0.400000</td>\n",
              "      <td>0.000000</td>\n",
              "      <td>0.000000</td>\n",
              "      <td>0.300000</td>\n",
              "      <td>0.100000</td>\n",
              "      <td>0.200000</td>\n",
              "    </tr>\n",
              "    <tr>\n",
              "      <th>0000ffa57a8098a6cd99c0f0782b3e674f47d68db69dc173c7e67e0f68170c4c</th>\n",
              "      <td>0.233333</td>\n",
              "      <td>0.233333</td>\n",
              "      <td>0.400000</td>\n",
              "      <td>0.600000</td>\n",
              "      <td>0.600000</td>\n",
              "      <td>0.400000</td>\n",
              "      <td>0.300000</td>\n",
              "      <td>0.333333</td>\n",
              "      <td>0.133333</td>\n",
              "      <td>0.133333</td>\n",
              "      <td>...</td>\n",
              "      <td>0.166667</td>\n",
              "      <td>0.433333</td>\n",
              "      <td>0.300000</td>\n",
              "      <td>0.133333</td>\n",
              "      <td>0.300000</td>\n",
              "      <td>0.166667</td>\n",
              "      <td>0.100000</td>\n",
              "      <td>0.000000</td>\n",
              "      <td>0.133333</td>\n",
              "      <td>0.033333</td>\n",
              "    </tr>\n",
              "    <tr>\n",
              "      <th>000538c14c490fee547e2703439f70bdb8748e2a62f875d63b7320c17ae20fc2</th>\n",
              "      <td>0.081250</td>\n",
              "      <td>0.081250</td>\n",
              "      <td>0.350000</td>\n",
              "      <td>0.112500</td>\n",
              "      <td>0.118750</td>\n",
              "      <td>0.350000</td>\n",
              "      <td>0.375000</td>\n",
              "      <td>0.318750</td>\n",
              "      <td>0.493750</td>\n",
              "      <td>0.412500</td>\n",
              "      <td>...</td>\n",
              "      <td>0.050000</td>\n",
              "      <td>0.387500</td>\n",
              "      <td>0.118750</td>\n",
              "      <td>0.206250</td>\n",
              "      <td>0.125000</td>\n",
              "      <td>0.362500</td>\n",
              "      <td>0.262500</td>\n",
              "      <td>0.143750</td>\n",
              "      <td>0.312500</td>\n",
              "      <td>0.100000</td>\n",
              "    </tr>\n",
              "    <tr>\n",
              "      <th>000a9291e5aa007a10faf2177671a8501dade80e6679218d65f53c1497b17f87</th>\n",
              "      <td>0.230000</td>\n",
              "      <td>0.230000</td>\n",
              "      <td>0.250000</td>\n",
              "      <td>0.300000</td>\n",
              "      <td>0.230000</td>\n",
              "      <td>0.250000</td>\n",
              "      <td>0.340000</td>\n",
              "      <td>0.240000</td>\n",
              "      <td>0.250000</td>\n",
              "      <td>0.270000</td>\n",
              "      <td>...</td>\n",
              "      <td>0.180000</td>\n",
              "      <td>0.400000</td>\n",
              "      <td>0.180000</td>\n",
              "      <td>0.100000</td>\n",
              "      <td>0.170000</td>\n",
              "      <td>0.170000</td>\n",
              "      <td>0.080000</td>\n",
              "      <td>0.080000</td>\n",
              "      <td>0.210000</td>\n",
              "      <td>0.070000</td>\n",
              "    </tr>\n",
              "    <tr>\n",
              "      <th>000b2018cebd824b6abdcbe9a9178067124ea4516a2d8cb3b222643397a54b0a</th>\n",
              "      <td>0.200000</td>\n",
              "      <td>0.200000</td>\n",
              "      <td>0.300000</td>\n",
              "      <td>0.000000</td>\n",
              "      <td>0.000000</td>\n",
              "      <td>0.300000</td>\n",
              "      <td>0.300000</td>\n",
              "      <td>0.200000</td>\n",
              "      <td>0.700000</td>\n",
              "      <td>0.500000</td>\n",
              "      <td>...</td>\n",
              "      <td>0.000000</td>\n",
              "      <td>0.300000</td>\n",
              "      <td>0.050000</td>\n",
              "      <td>0.200000</td>\n",
              "      <td>0.000000</td>\n",
              "      <td>0.400000</td>\n",
              "      <td>0.400000</td>\n",
              "      <td>0.300000</td>\n",
              "      <td>0.400000</td>\n",
              "      <td>0.200000</td>\n",
              "    </tr>\n",
              "    <tr>\n",
              "      <th>...</th>\n",
              "      <td>...</td>\n",
              "      <td>...</td>\n",
              "      <td>...</td>\n",
              "      <td>...</td>\n",
              "      <td>...</td>\n",
              "      <td>...</td>\n",
              "      <td>...</td>\n",
              "      <td>...</td>\n",
              "      <td>...</td>\n",
              "      <td>...</td>\n",
              "      <td>...</td>\n",
              "      <td>...</td>\n",
              "      <td>...</td>\n",
              "      <td>...</td>\n",
              "      <td>...</td>\n",
              "      <td>...</td>\n",
              "      <td>...</td>\n",
              "      <td>...</td>\n",
              "      <td>...</td>\n",
              "      <td>...</td>\n",
              "      <td>...</td>\n",
              "    </tr>\n",
              "    <tr>\n",
              "      <th>4f0b3fad2fee9c7099ccacf1a40f206650fc5ba98677dafef8dc6e6f23c1cc16</th>\n",
              "      <td>0.060000</td>\n",
              "      <td>0.060000</td>\n",
              "      <td>0.240000</td>\n",
              "      <td>0.080000</td>\n",
              "      <td>0.080000</td>\n",
              "      <td>0.240000</td>\n",
              "      <td>0.240000</td>\n",
              "      <td>0.240000</td>\n",
              "      <td>0.460000</td>\n",
              "      <td>0.420000</td>\n",
              "      <td>...</td>\n",
              "      <td>0.040000</td>\n",
              "      <td>0.280000</td>\n",
              "      <td>0.040000</td>\n",
              "      <td>0.200000</td>\n",
              "      <td>0.040000</td>\n",
              "      <td>0.380000</td>\n",
              "      <td>0.260000</td>\n",
              "      <td>0.200000</td>\n",
              "      <td>0.300000</td>\n",
              "      <td>0.180000</td>\n",
              "    </tr>\n",
              "    <tr>\n",
              "      <th>4f0dae67c5b797a435c86498f0ec7f403adf6c34bebea15bebef974f9ba50eb8</th>\n",
              "      <td>0.109091</td>\n",
              "      <td>0.109091</td>\n",
              "      <td>0.190909</td>\n",
              "      <td>0.136364</td>\n",
              "      <td>0.127273</td>\n",
              "      <td>0.190909</td>\n",
              "      <td>0.236364</td>\n",
              "      <td>0.263636</td>\n",
              "      <td>0.309091</td>\n",
              "      <td>0.327273</td>\n",
              "      <td>...</td>\n",
              "      <td>0.090909</td>\n",
              "      <td>0.218182</td>\n",
              "      <td>0.163636</td>\n",
              "      <td>0.218182</td>\n",
              "      <td>0.181818</td>\n",
              "      <td>0.290909</td>\n",
              "      <td>0.236364</td>\n",
              "      <td>0.163636</td>\n",
              "      <td>0.172727</td>\n",
              "      <td>0.072727</td>\n",
              "    </tr>\n",
              "    <tr>\n",
              "      <th>4f0e8dfcfbb39d401be254fe28eab6bde093fbd1f7bfced177d4c664648c3fab</th>\n",
              "      <td>0.262500</td>\n",
              "      <td>0.262500</td>\n",
              "      <td>0.200000</td>\n",
              "      <td>0.212500</td>\n",
              "      <td>0.200000</td>\n",
              "      <td>0.200000</td>\n",
              "      <td>0.325000</td>\n",
              "      <td>0.262500</td>\n",
              "      <td>0.300000</td>\n",
              "      <td>0.212500</td>\n",
              "      <td>...</td>\n",
              "      <td>0.087500</td>\n",
              "      <td>0.312500</td>\n",
              "      <td>0.162500</td>\n",
              "      <td>0.125000</td>\n",
              "      <td>0.200000</td>\n",
              "      <td>0.175000</td>\n",
              "      <td>0.150000</td>\n",
              "      <td>0.150000</td>\n",
              "      <td>0.212500</td>\n",
              "      <td>0.125000</td>\n",
              "    </tr>\n",
              "    <tr>\n",
              "      <th>4f16df5d1cda6d9364f66fe2b0eb4fd96b44aacef26bbfd93cdf548e3b23cf0c</th>\n",
              "      <td>0.300000</td>\n",
              "      <td>0.300000</td>\n",
              "      <td>0.257143</td>\n",
              "      <td>0.328571</td>\n",
              "      <td>0.328571</td>\n",
              "      <td>0.257143</td>\n",
              "      <td>0.342857</td>\n",
              "      <td>0.371429</td>\n",
              "      <td>0.171429</td>\n",
              "      <td>0.185714</td>\n",
              "      <td>...</td>\n",
              "      <td>0.214286</td>\n",
              "      <td>0.342857</td>\n",
              "      <td>0.557143</td>\n",
              "      <td>0.171429</td>\n",
              "      <td>0.385714</td>\n",
              "      <td>0.185714</td>\n",
              "      <td>0.157143</td>\n",
              "      <td>0.014286</td>\n",
              "      <td>0.171429</td>\n",
              "      <td>0.071429</td>\n",
              "    </tr>\n",
              "    <tr>\n",
              "      <th>4f175f0dcf9effbdeca362f4c3e3aa6e9b6610b0f1244da1654af732fe943edd</th>\n",
              "      <td>0.120000</td>\n",
              "      <td>0.120000</td>\n",
              "      <td>0.070000</td>\n",
              "      <td>0.160000</td>\n",
              "      <td>0.180000</td>\n",
              "      <td>0.070000</td>\n",
              "      <td>0.090000</td>\n",
              "      <td>0.140000</td>\n",
              "      <td>0.090000</td>\n",
              "      <td>0.060000</td>\n",
              "      <td>...</td>\n",
              "      <td>0.040000</td>\n",
              "      <td>0.140000</td>\n",
              "      <td>0.190000</td>\n",
              "      <td>0.200000</td>\n",
              "      <td>0.160000</td>\n",
              "      <td>0.110000</td>\n",
              "      <td>0.140000</td>\n",
              "      <td>0.110000</td>\n",
              "      <td>0.250000</td>\n",
              "      <td>0.340000</td>\n",
              "    </tr>\n",
              "  </tbody>\n",
              "</table>\n",
              "<p>10000 rows × 10000 columns</p>\n",
              "</div>\n",
              "      <button class=\"colab-df-convert\" onclick=\"convertToInteractive('df-eedea905-110a-40bc-a25c-2f59664f7ced')\"\n",
              "              title=\"Convert this dataframe to an interactive table.\"\n",
              "              style=\"display:none;\">\n",
              "        \n",
              "  <svg xmlns=\"http://www.w3.org/2000/svg\" height=\"24px\"viewBox=\"0 0 24 24\"\n",
              "       width=\"24px\">\n",
              "    <path d=\"M0 0h24v24H0V0z\" fill=\"none\"/>\n",
              "    <path d=\"M18.56 5.44l.94 2.06.94-2.06 2.06-.94-2.06-.94-.94-2.06-.94 2.06-2.06.94zm-11 1L8.5 8.5l.94-2.06 2.06-.94-2.06-.94L8.5 2.5l-.94 2.06-2.06.94zm10 10l.94 2.06.94-2.06 2.06-.94-2.06-.94-.94-2.06-.94 2.06-2.06.94z\"/><path d=\"M17.41 7.96l-1.37-1.37c-.4-.4-.92-.59-1.43-.59-.52 0-1.04.2-1.43.59L10.3 9.45l-7.72 7.72c-.78.78-.78 2.05 0 2.83L4 21.41c.39.39.9.59 1.41.59.51 0 1.02-.2 1.41-.59l7.78-7.78 2.81-2.81c.8-.78.8-2.07 0-2.86zM5.41 20L4 18.59l7.72-7.72 1.47 1.35L5.41 20z\"/>\n",
              "  </svg>\n",
              "      </button>\n",
              "      \n",
              "  <style>\n",
              "    .colab-df-container {\n",
              "      display:flex;\n",
              "      flex-wrap:wrap;\n",
              "      gap: 12px;\n",
              "    }\n",
              "\n",
              "    .colab-df-convert {\n",
              "      background-color: #E8F0FE;\n",
              "      border: none;\n",
              "      border-radius: 50%;\n",
              "      cursor: pointer;\n",
              "      display: none;\n",
              "      fill: #1967D2;\n",
              "      height: 32px;\n",
              "      padding: 0 0 0 0;\n",
              "      width: 32px;\n",
              "    }\n",
              "\n",
              "    .colab-df-convert:hover {\n",
              "      background-color: #E2EBFA;\n",
              "      box-shadow: 0px 1px 2px rgba(60, 64, 67, 0.3), 0px 1px 3px 1px rgba(60, 64, 67, 0.15);\n",
              "      fill: #174EA6;\n",
              "    }\n",
              "\n",
              "    [theme=dark] .colab-df-convert {\n",
              "      background-color: #3B4455;\n",
              "      fill: #D2E3FC;\n",
              "    }\n",
              "\n",
              "    [theme=dark] .colab-df-convert:hover {\n",
              "      background-color: #434B5C;\n",
              "      box-shadow: 0px 1px 3px 1px rgba(0, 0, 0, 0.15);\n",
              "      filter: drop-shadow(0px 1px 2px rgba(0, 0, 0, 0.3));\n",
              "      fill: #FFFFFF;\n",
              "    }\n",
              "  </style>\n",
              "\n",
              "      <script>\n",
              "        const buttonEl =\n",
              "          document.querySelector('#df-eedea905-110a-40bc-a25c-2f59664f7ced button.colab-df-convert');\n",
              "        buttonEl.style.display =\n",
              "          google.colab.kernel.accessAllowed ? 'block' : 'none';\n",
              "\n",
              "        async function convertToInteractive(key) {\n",
              "          const element = document.querySelector('#df-eedea905-110a-40bc-a25c-2f59664f7ced');\n",
              "          const dataTable =\n",
              "            await google.colab.kernel.invokeFunction('convertToInteractive',\n",
              "                                                     [key], {});\n",
              "          if (!dataTable) return;\n",
              "\n",
              "          const docLinkHtml = 'Like what you see? Visit the ' +\n",
              "            '<a target=\"_blank\" href=https://colab.research.google.com/notebooks/data_table.ipynb>data table notebook</a>'\n",
              "            + ' to learn more about interactive tables.';\n",
              "          element.innerHTML = '';\n",
              "          dataTable['output_type'] = 'display_data';\n",
              "          await google.colab.output.renderOutput(dataTable, element);\n",
              "          const docLink = document.createElement('div');\n",
              "          docLink.innerHTML = docLinkHtml;\n",
              "          element.appendChild(docLink);\n",
              "        }\n",
              "      </script>\n",
              "    </div>\n",
              "  </div>\n",
              "  "
            ],
            "text/plain": [
              "article_id                                          573085033  573085038  \\\n",
              "customer_id                                                                \n",
              "0000ae1bbb25e04bdc7e35f718e852adfb3fbb72ef38b3f...   1.000000   1.000000   \n",
              "0000ffa57a8098a6cd99c0f0782b3e674f47d68db69dc17...   0.233333   0.233333   \n",
              "000538c14c490fee547e2703439f70bdb8748e2a62f875d...   0.081250   0.081250   \n",
              "000a9291e5aa007a10faf2177671a8501dade80e6679218...   0.230000   0.230000   \n",
              "000b2018cebd824b6abdcbe9a9178067124ea4516a2d8cb...   0.200000   0.200000   \n",
              "...                                                       ...        ...   \n",
              "4f0b3fad2fee9c7099ccacf1a40f206650fc5ba98677daf...   0.060000   0.060000   \n",
              "4f0dae67c5b797a435c86498f0ec7f403adf6c34bebea15...   0.109091   0.109091   \n",
              "4f0e8dfcfbb39d401be254fe28eab6bde093fbd1f7bfced...   0.262500   0.262500   \n",
              "4f16df5d1cda6d9364f66fe2b0eb4fd96b44aacef26bbfd...   0.300000   0.300000   \n",
              "4f175f0dcf9effbdeca362f4c3e3aa6e9b6610b0f1244da...   0.120000   0.120000   \n",
              "\n",
              "article_id                                          215589001  555353017  \\\n",
              "customer_id                                                                \n",
              "0000ae1bbb25e04bdc7e35f718e852adfb3fbb72ef38b3f...   0.100000   0.300000   \n",
              "0000ffa57a8098a6cd99c0f0782b3e674f47d68db69dc17...   0.400000   0.600000   \n",
              "000538c14c490fee547e2703439f70bdb8748e2a62f875d...   0.350000   0.112500   \n",
              "000a9291e5aa007a10faf2177671a8501dade80e6679218...   0.250000   0.300000   \n",
              "000b2018cebd824b6abdcbe9a9178067124ea4516a2d8cb...   0.300000   0.000000   \n",
              "...                                                       ...        ...   \n",
              "4f0b3fad2fee9c7099ccacf1a40f206650fc5ba98677daf...   0.240000   0.080000   \n",
              "4f0dae67c5b797a435c86498f0ec7f403adf6c34bebea15...   0.190909   0.136364   \n",
              "4f0e8dfcfbb39d401be254fe28eab6bde093fbd1f7bfced...   0.200000   0.212500   \n",
              "4f16df5d1cda6d9364f66fe2b0eb4fd96b44aacef26bbfd...   0.257143   0.328571   \n",
              "4f175f0dcf9effbdeca362f4c3e3aa6e9b6610b0f1244da...   0.070000   0.160000   \n",
              "\n",
              "article_id                                          817574001  561277001  \\\n",
              "customer_id                                                                \n",
              "0000ae1bbb25e04bdc7e35f718e852adfb3fbb72ef38b3f...   0.300000   0.100000   \n",
              "0000ffa57a8098a6cd99c0f0782b3e674f47d68db69dc17...   0.600000   0.400000   \n",
              "000538c14c490fee547e2703439f70bdb8748e2a62f875d...   0.118750   0.350000   \n",
              "000a9291e5aa007a10faf2177671a8501dade80e6679218...   0.230000   0.250000   \n",
              "000b2018cebd824b6abdcbe9a9178067124ea4516a2d8cb...   0.000000   0.300000   \n",
              "...                                                       ...        ...   \n",
              "4f0b3fad2fee9c7099ccacf1a40f206650fc5ba98677daf...   0.080000   0.240000   \n",
              "4f0dae67c5b797a435c86498f0ec7f403adf6c34bebea15...   0.127273   0.190909   \n",
              "4f0e8dfcfbb39d401be254fe28eab6bde093fbd1f7bfced...   0.200000   0.200000   \n",
              "4f16df5d1cda6d9364f66fe2b0eb4fd96b44aacef26bbfd...   0.328571   0.257143   \n",
              "4f175f0dcf9effbdeca362f4c3e3aa6e9b6610b0f1244da...   0.180000   0.070000   \n",
              "\n",
              "article_id                                          699493001  244267032  \\\n",
              "customer_id                                                                \n",
              "0000ae1bbb25e04bdc7e35f718e852adfb3fbb72ef38b3f...   0.300000   0.300000   \n",
              "0000ffa57a8098a6cd99c0f0782b3e674f47d68db69dc17...   0.300000   0.333333   \n",
              "000538c14c490fee547e2703439f70bdb8748e2a62f875d...   0.375000   0.318750   \n",
              "000a9291e5aa007a10faf2177671a8501dade80e6679218...   0.340000   0.240000   \n",
              "000b2018cebd824b6abdcbe9a9178067124ea4516a2d8cb...   0.300000   0.200000   \n",
              "...                                                       ...        ...   \n",
              "4f0b3fad2fee9c7099ccacf1a40f206650fc5ba98677daf...   0.240000   0.240000   \n",
              "4f0dae67c5b797a435c86498f0ec7f403adf6c34bebea15...   0.236364   0.263636   \n",
              "4f0e8dfcfbb39d401be254fe28eab6bde093fbd1f7bfced...   0.325000   0.262500   \n",
              "4f16df5d1cda6d9364f66fe2b0eb4fd96b44aacef26bbfd...   0.342857   0.371429   \n",
              "4f175f0dcf9effbdeca362f4c3e3aa6e9b6610b0f1244da...   0.090000   0.140000   \n",
              "\n",
              "article_id                                          356289021  419634001  ...  \\\n",
              "customer_id                                                               ...   \n",
              "0000ae1bbb25e04bdc7e35f718e852adfb3fbb72ef38b3f...   0.100000   0.000000  ...   \n",
              "0000ffa57a8098a6cd99c0f0782b3e674f47d68db69dc17...   0.133333   0.133333  ...   \n",
              "000538c14c490fee547e2703439f70bdb8748e2a62f875d...   0.493750   0.412500  ...   \n",
              "000a9291e5aa007a10faf2177671a8501dade80e6679218...   0.250000   0.270000  ...   \n",
              "000b2018cebd824b6abdcbe9a9178067124ea4516a2d8cb...   0.700000   0.500000  ...   \n",
              "...                                                       ...        ...  ...   \n",
              "4f0b3fad2fee9c7099ccacf1a40f206650fc5ba98677daf...   0.460000   0.420000  ...   \n",
              "4f0dae67c5b797a435c86498f0ec7f403adf6c34bebea15...   0.309091   0.327273  ...   \n",
              "4f0e8dfcfbb39d401be254fe28eab6bde093fbd1f7bfced...   0.300000   0.212500  ...   \n",
              "4f16df5d1cda6d9364f66fe2b0eb4fd96b44aacef26bbfd...   0.171429   0.185714  ...   \n",
              "4f175f0dcf9effbdeca362f4c3e3aa6e9b6610b0f1244da...   0.090000   0.060000  ...   \n",
              "\n",
              "article_id                                          838178003  799382001  \\\n",
              "customer_id                                                                \n",
              "0000ae1bbb25e04bdc7e35f718e852adfb3fbb72ef38b3f...   0.200000   0.200000   \n",
              "0000ffa57a8098a6cd99c0f0782b3e674f47d68db69dc17...   0.166667   0.433333   \n",
              "000538c14c490fee547e2703439f70bdb8748e2a62f875d...   0.050000   0.387500   \n",
              "000a9291e5aa007a10faf2177671a8501dade80e6679218...   0.180000   0.400000   \n",
              "000b2018cebd824b6abdcbe9a9178067124ea4516a2d8cb...   0.000000   0.300000   \n",
              "...                                                       ...        ...   \n",
              "4f0b3fad2fee9c7099ccacf1a40f206650fc5ba98677daf...   0.040000   0.280000   \n",
              "4f0dae67c5b797a435c86498f0ec7f403adf6c34bebea15...   0.090909   0.218182   \n",
              "4f0e8dfcfbb39d401be254fe28eab6bde093fbd1f7bfced...   0.087500   0.312500   \n",
              "4f16df5d1cda6d9364f66fe2b0eb4fd96b44aacef26bbfd...   0.214286   0.342857   \n",
              "4f175f0dcf9effbdeca362f4c3e3aa6e9b6610b0f1244da...   0.040000   0.140000   \n",
              "\n",
              "article_id                                          568861008  671599001  \\\n",
              "customer_id                                                                \n",
              "0000ae1bbb25e04bdc7e35f718e852adfb3fbb72ef38b3f...   0.300000   0.100000   \n",
              "0000ffa57a8098a6cd99c0f0782b3e674f47d68db69dc17...   0.300000   0.133333   \n",
              "000538c14c490fee547e2703439f70bdb8748e2a62f875d...   0.118750   0.206250   \n",
              "000a9291e5aa007a10faf2177671a8501dade80e6679218...   0.180000   0.100000   \n",
              "000b2018cebd824b6abdcbe9a9178067124ea4516a2d8cb...   0.050000   0.200000   \n",
              "...                                                       ...        ...   \n",
              "4f0b3fad2fee9c7099ccacf1a40f206650fc5ba98677daf...   0.040000   0.200000   \n",
              "4f0dae67c5b797a435c86498f0ec7f403adf6c34bebea15...   0.163636   0.218182   \n",
              "4f0e8dfcfbb39d401be254fe28eab6bde093fbd1f7bfced...   0.162500   0.125000   \n",
              "4f16df5d1cda6d9364f66fe2b0eb4fd96b44aacef26bbfd...   0.557143   0.171429   \n",
              "4f175f0dcf9effbdeca362f4c3e3aa6e9b6610b0f1244da...   0.190000   0.200000   \n",
              "\n",
              "article_id                                          843701001  535388001  \\\n",
              "customer_id                                                                \n",
              "0000ae1bbb25e04bdc7e35f718e852adfb3fbb72ef38b3f...   0.400000   0.000000   \n",
              "0000ffa57a8098a6cd99c0f0782b3e674f47d68db69dc17...   0.300000   0.166667   \n",
              "000538c14c490fee547e2703439f70bdb8748e2a62f875d...   0.125000   0.362500   \n",
              "000a9291e5aa007a10faf2177671a8501dade80e6679218...   0.170000   0.170000   \n",
              "000b2018cebd824b6abdcbe9a9178067124ea4516a2d8cb...   0.000000   0.400000   \n",
              "...                                                       ...        ...   \n",
              "4f0b3fad2fee9c7099ccacf1a40f206650fc5ba98677daf...   0.040000   0.380000   \n",
              "4f0dae67c5b797a435c86498f0ec7f403adf6c34bebea15...   0.181818   0.290909   \n",
              "4f0e8dfcfbb39d401be254fe28eab6bde093fbd1f7bfced...   0.200000   0.175000   \n",
              "4f16df5d1cda6d9364f66fe2b0eb4fd96b44aacef26bbfd...   0.385714   0.185714   \n",
              "4f175f0dcf9effbdeca362f4c3e3aa6e9b6610b0f1244da...   0.160000   0.110000   \n",
              "\n",
              "article_id                                          535388008  541313006  \\\n",
              "customer_id                                                                \n",
              "0000ae1bbb25e04bdc7e35f718e852adfb3fbb72ef38b3f...   0.000000   0.300000   \n",
              "0000ffa57a8098a6cd99c0f0782b3e674f47d68db69dc17...   0.100000   0.000000   \n",
              "000538c14c490fee547e2703439f70bdb8748e2a62f875d...   0.262500   0.143750   \n",
              "000a9291e5aa007a10faf2177671a8501dade80e6679218...   0.080000   0.080000   \n",
              "000b2018cebd824b6abdcbe9a9178067124ea4516a2d8cb...   0.400000   0.300000   \n",
              "...                                                       ...        ...   \n",
              "4f0b3fad2fee9c7099ccacf1a40f206650fc5ba98677daf...   0.260000   0.200000   \n",
              "4f0dae67c5b797a435c86498f0ec7f403adf6c34bebea15...   0.236364   0.163636   \n",
              "4f0e8dfcfbb39d401be254fe28eab6bde093fbd1f7bfced...   0.150000   0.150000   \n",
              "4f16df5d1cda6d9364f66fe2b0eb4fd96b44aacef26bbfd...   0.157143   0.014286   \n",
              "4f175f0dcf9effbdeca362f4c3e3aa6e9b6610b0f1244da...   0.140000   0.110000   \n",
              "\n",
              "article_id                                          743530004  743530022  \n",
              "customer_id                                                               \n",
              "0000ae1bbb25e04bdc7e35f718e852adfb3fbb72ef38b3f...   0.100000   0.200000  \n",
              "0000ffa57a8098a6cd99c0f0782b3e674f47d68db69dc17...   0.133333   0.033333  \n",
              "000538c14c490fee547e2703439f70bdb8748e2a62f875d...   0.312500   0.100000  \n",
              "000a9291e5aa007a10faf2177671a8501dade80e6679218...   0.210000   0.070000  \n",
              "000b2018cebd824b6abdcbe9a9178067124ea4516a2d8cb...   0.400000   0.200000  \n",
              "...                                                       ...        ...  \n",
              "4f0b3fad2fee9c7099ccacf1a40f206650fc5ba98677daf...   0.300000   0.180000  \n",
              "4f0dae67c5b797a435c86498f0ec7f403adf6c34bebea15...   0.172727   0.072727  \n",
              "4f0e8dfcfbb39d401be254fe28eab6bde093fbd1f7bfced...   0.212500   0.125000  \n",
              "4f16df5d1cda6d9364f66fe2b0eb4fd96b44aacef26bbfd...   0.171429   0.071429  \n",
              "4f175f0dcf9effbdeca362f4c3e3aa6e9b6610b0f1244da...   0.250000   0.340000  \n",
              "\n",
              "[10000 rows x 10000 columns]"
            ]
          },
          "execution_count": 65,
          "metadata": {},
          "output_type": "execute_result"
        }
      ],
      "source": [
        "score"
      ]
    },
    {
      "cell_type": "markdown",
      "metadata": {
        "id": "TuJAKc8m33jp"
      },
      "source": [
        "### Evaluation"
      ]
    },
    {
      "cell_type": "code",
      "execution_count": null,
      "metadata": {
        "id": "6bc6LrsR3vAn"
      },
      "outputs": [],
      "source": [
        "test = test[['customer_id', 'article_id', 'purchase_count']]\n",
        "\n",
        "#create a pivot table for test\n",
        "pivot_test = train.head(20000).pivot_table(index='customer_id', columns='article_id', values='purchase_count', fill_value=0)"
      ]
    },
    {
      "cell_type": "code",
      "execution_count": null,
      "metadata": {
        "id": "rLA22UVn3u9P"
      },
      "outputs": [],
      "source": [
        "#finding the common user ids\n",
        "\n",
        "pivot_user_ids = set(pivot_test.index)\n",
        "score_user_ids = set(score.index)\n",
        "common_user_id = pivot_user_ids.intersection(score_user_ids)\n",
        "\n",
        "pivot_item_ids = set(pivot_test.columns)\n",
        "score_item_ids = set(score.columns)\n",
        "common_item_id = pivot_item_ids.intersection(score_item_ids)"
      ]
    },
    {
      "cell_type": "code",
      "execution_count": null,
      "metadata": {
        "id": "ixWwDdc83u5R"
      },
      "outputs": [],
      "source": [
        "#Keep only common values\n",
        "\n",
        "pivot = pivot_test.loc[common_user_id, common_item_id]\n",
        "scores = score.loc[common_user_id, common_item_id]"
      ]
    },
    {
      "cell_type": "code",
      "execution_count": null,
      "metadata": {
        "id": "5jeJcPR04Cy4"
      },
      "outputs": [],
      "source": [
        "relevance_mat = pivot > 0"
      ]
    },
    {
      "cell_type": "markdown",
      "metadata": {
        "id": "Al_hlLal7ABF"
      },
      "source": [
        "**Mean Average Precision**"
      ]
    },
    {
      "cell_type": "code",
      "execution_count": null,
      "metadata": {
        "id": "haeSd0J64IoN"
      },
      "outputs": [],
      "source": [
        "from sklearn.metrics import average_precision_score\n",
        "map_values = []\n",
        "\n",
        "for c_id in relevance_mat.index:\n",
        "  relevance = relevance_mat.loc[c_id].values\n",
        "  pred = scores.loc[c_id].values\n",
        "\n",
        "  top_indices = pred.argsort()[::-1][:5] #k=5 -> MAP@5\n",
        "    \n",
        "  relevance_top = relevance[top_indices]\n",
        "  pred_top = pred[top_indices]\n",
        "\n",
        "  ap = average_precision_score(relevance_top, pred_top)\n",
        "\n",
        "  map_values.append(ap)\n",
        "\n",
        "map_mean = np.mean(map_values)"
      ]
    },
    {
      "cell_type": "code",
      "execution_count": null,
      "metadata": {
        "colab": {
          "base_uri": "https://localhost:8080/"
        },
        "id": "ydNLj9V46hCs",
        "outputId": "cf38ebb9-78d7-4a6b-abd2-aaf5c0d0c4d6"
      },
      "outputs": [
        {
          "name": "stdout",
          "output_type": "stream",
          "text": [
            "MAP without PCA: (metadata only) 0.17958023069061177\n"
          ]
        }
      ],
      "source": [
        "print(\"MAP without PCA: (metadata only)\" , map_mean)"
      ]
    },
    {
      "cell_type": "markdown",
      "metadata": {
        "id": "Spv_oP5a7DuH"
      },
      "source": [
        "**NDCG**"
      ]
    },
    {
      "cell_type": "code",
      "execution_count": null,
      "metadata": {
        "colab": {
          "base_uri": "https://localhost:8080/"
        },
        "id": "l9F_1HBI4Ij-",
        "outputId": "c4527d2e-1b93-4581-fec7-d0b6b161a563"
      },
      "outputs": [
        {
          "name": "stdout",
          "output_type": "stream",
          "text": [
            "NDCG without PCA: (metadata only) 0.28261514085339795\n"
          ]
        }
      ],
      "source": [
        "from sklearn.metrics import ndcg_score\n",
        "\n",
        "relevance_mat = pivot > 0 \n",
        "ndgc_values = []\n",
        "\n",
        "for c_id in relevance_mat.index:\n",
        "  relevance = relevance_mat.loc[c_id].values\n",
        "  pred = scores.loc[c_id].values\n",
        "  \n",
        "  top_indices = pred.argsort()[::-1][:5]\n",
        "    \n",
        "  relevance_top = relevance[top_indices]\n",
        "  pred_top = pred[top_indices]\n",
        "\n",
        "  ndgc = ndcg_score([relevance_top], [pred_top], k=len(relevance_top))\n",
        "\n",
        "  ndgc_values.append(ndgc)\n",
        "\n",
        "ndcg = np.mean(ndgc_values)\n",
        "print(\"NDCG without PCA: (metadata only)\", ndcg)"
      ]
    },
    {
      "cell_type": "code",
      "execution_count": null,
      "metadata": {
        "id": "9C7NhGBK9cek"
      },
      "outputs": [],
      "source": [
        "from sklearn.metrics import recall_score\n",
        "\n",
        "mar_values = []\n",
        "\n",
        "for c_id in relevance_mat.index:\n",
        "  relevance = relevance_mat.loc[c_id].values\n",
        "  pred = scores.loc[c_id].values\n",
        "\n",
        "  top_indices = pred.argsort()[::-1][:5]\n",
        "    \n",
        "  relevance_top = relevance[top_indices]\n",
        "  pred_top = pred[top_indices]\n",
        "\n",
        "  pred_binary = (pred_top >= 0.5).astype(int)\n",
        "\n",
        "  rec = recall_score(relevance_top, pred_binary, average='macro')\n",
        "\n",
        "  mar_values.append(rec)\n",
        "\n",
        "mar_mean = np.mean(mar_values)"
      ]
    },
    {
      "cell_type": "code",
      "execution_count": null,
      "metadata": {
        "colab": {
          "base_uri": "https://localhost:8080/"
        },
        "id": "-Ynnjz5C6xk4",
        "outputId": "4508d9c9-0860-4e92-f7b4-97549a656c15"
      },
      "outputs": [
        {
          "name": "stdout",
          "output_type": "stream",
          "text": [
            "MAR without PCA: (metadata only) 0.47725361366622865\n"
          ]
        }
      ],
      "source": [
        "print(\"MAR without PCA: (metadata only)\", mar_mean)"
      ]
    },
    {
      "cell_type": "markdown",
      "metadata": {
        "id": "AgkafE0o3JTG"
      },
      "source": [
        "## With PCA"
      ]
    },
    {
      "cell_type": "markdown",
      "metadata": {
        "id": "oz0AScWP4mTl"
      },
      "source": [
        "### Training"
      ]
    },
    {
      "cell_type": "code",
      "execution_count": null,
      "metadata": {
        "colab": {
          "base_uri": "https://localhost:8080/"
        },
        "id": "gadjUEo_3Mhf",
        "outputId": "1e1b8fbb-ab1f-47e0-df3e-88608a179eaf"
      },
      "outputs": [
        {
          "data": {
            "text/plain": [
              "0.9556254406389474"
            ]
          },
          "execution_count": 77,
          "metadata": {},
          "output_type": "execute_result"
        }
      ],
      "source": [
        "from sklearn.decomposition import PCA\n",
        "\n",
        "pca = PCA(n_components=100)\n",
        "pca.fit(normalized_user_feature) #using entire user feature matrix instead of sampling\n",
        "pca.explained_variance_ratio_.sum()"
      ]
    },
    {
      "cell_type": "code",
      "execution_count": null,
      "metadata": {
        "id": "N9w2rwss3MdD"
      },
      "outputs": [],
      "source": [
        "user_features_pca = pd.DataFrame(pca.transform(normalized_user_feature), columns=['component_{}'.format(i) for i in range(1, 101)]).set_index(normalized_user_feature.index)"
      ]
    },
    {
      "cell_type": "code",
      "execution_count": null,
      "metadata": {
        "id": "_cuHBV1s3MZ4"
      },
      "outputs": [],
      "source": [
        "item_features_pca = pd.DataFrame(pca.transform(item_feature), columns=['component_{}'.format(i) for i in range(1, 101)]).set_index(item_feature.index)"
      ]
    },
    {
      "cell_type": "code",
      "execution_count": null,
      "metadata": {
        "id": "VJQGyz8P4Y1A"
      },
      "outputs": [],
      "source": [
        "user_sample = user_features_pca.head(10000)\n",
        "item_sample = item_features_pca.head(10000)"
      ]
    },
    {
      "cell_type": "code",
      "execution_count": null,
      "metadata": {
        "id": "BH_6Z31e4YxB"
      },
      "outputs": [],
      "source": [
        "scores_pca = user_sample.dot(item_sample.T)"
      ]
    },
    {
      "cell_type": "markdown",
      "metadata": {
        "id": "hph-cuL24k-w"
      },
      "source": [
        "### Evaluation"
      ]
    },
    {
      "cell_type": "code",
      "execution_count": null,
      "metadata": {
        "id": "ePsnvHCV4f5Q"
      },
      "outputs": [],
      "source": [
        "pivot_user_ids = set(pivot_test.index)\n",
        "score_user_ids = set(scores_pca.index)\n",
        "common_user_id = pivot_user_ids.intersection(score_user_ids)\n",
        "\n",
        "pivot_item_ids = set(pivot_test.columns)\n",
        "score_item_ids = set(scores_pca.columns)\n",
        "common_item_id = pivot_item_ids.intersection(score_item_ids)"
      ]
    },
    {
      "cell_type": "code",
      "execution_count": null,
      "metadata": {
        "id": "cS5XGvuZ4f1-"
      },
      "outputs": [],
      "source": [
        "#Keep only values common\n",
        "pivot = pivot_test.loc[common_user_id, common_item_id]\n",
        "scores = scores_pca.loc[common_user_id, common_item_id]"
      ]
    },
    {
      "cell_type": "code",
      "execution_count": null,
      "metadata": {
        "id": "iPQBS8_e4fyX"
      },
      "outputs": [],
      "source": [
        "relevance_mat = pivot > 0"
      ]
    },
    {
      "cell_type": "code",
      "execution_count": null,
      "metadata": {
        "id": "HsqhdXuF4qKR"
      },
      "outputs": [],
      "source": [
        "from sklearn.metrics import average_precision_score\n",
        "map_values = []\n",
        "\n",
        "for c_id in relevance_mat.index:\n",
        "  relevance = relevance_mat.loc[c_id].values\n",
        "  pred = scores.loc[c_id].values\n",
        "\n",
        "  top_indices = pred.argsort()[::-1][:5] #top5\n",
        "\n",
        "  relevance_top = relevance[top_indices]\n",
        "  pred_top = pred[top_indices]\n",
        "\n",
        "  ap = average_precision_score(relevance_top, pred_top)\n",
        "\n",
        "  map_values.append(ap)\n",
        "\n",
        "map_mean_pca = np.mean(map_values)"
      ]
    },
    {
      "cell_type": "code",
      "execution_count": null,
      "metadata": {
        "colab": {
          "base_uri": "https://localhost:8080/"
        },
        "id": "J28aT4KX5vaB",
        "outputId": "89e7a838-20bc-41ca-9cba-93aeb89ff26d"
      },
      "outputs": [
        {
          "name": "stdout",
          "output_type": "stream",
          "text": [
            "MAP with PCA: (metadata only) 0.2472094466345452\n"
          ]
        }
      ],
      "source": [
        "print(\"MAP with PCA: (metadata only)\",map_mean_pca)"
      ]
    },
    {
      "cell_type": "code",
      "execution_count": null,
      "metadata": {
        "colab": {
          "base_uri": "https://localhost:8080/"
        },
        "id": "iYVRSW_r9npW",
        "outputId": "53466649-e292-4a8e-8b69-2801aa425559"
      },
      "outputs": [
        {
          "name": "stdout",
          "output_type": "stream",
          "text": [
            "NDCG with PCA (metadata only) 0.3260303924912133\n"
          ]
        }
      ],
      "source": [
        "relevance_mat = pivot > 0 \n",
        "ndgc_values = []\n",
        "\n",
        "for c_id in relevance_mat.index:\n",
        "  relevance = relevance_mat.loc[c_id].values\n",
        "  pred = scores.loc[c_id].values\n",
        "\n",
        "  top_indices = pred.argsort()[::-1][:5] #top5\n",
        "    \n",
        "  relevance_top = relevance[top_indices]\n",
        "  pred_top = pred[top_indices]\n",
        "\n",
        "  ndgc = ndcg_score([relevance_top], [pred_top], k=len(relevance_top))\n",
        "\n",
        "  ndgc_values.append(ndgc)\n",
        "\n",
        "ndcg = np.mean(ndgc_values)\n",
        "print(\"NDCG with PCA (metadata only)\", ndcg)"
      ]
    },
    {
      "cell_type": "code",
      "execution_count": null,
      "metadata": {
        "id": "rp0YJEKa4-mV"
      },
      "outputs": [],
      "source": [
        "from sklearn.metrics import recall_score\n",
        "\n",
        "mar_values = []\n",
        "\n",
        "for c_id in relevance_mat.index:\n",
        "  relevance = relevance_mat.loc[c_id].values\n",
        "  pred = scores.loc[c_id].values\n",
        "\n",
        "  top_indices = pred.argsort()[::-1][:5] #top5\n",
        "    \n",
        "  relevance_top = relevance[top_indices]\n",
        "  pred_top = pred[top_indices]\n",
        "\n",
        "  pred_binary = (pred_top >= 0.5).astype(int)\n",
        "\n",
        "  rec = recall_score(relevance_top, pred_binary, average='macro')\n",
        "\n",
        "  mar_values.append(rec)\n",
        "\n",
        "mar_mean = np.mean(mar_values)"
      ]
    },
    {
      "cell_type": "code",
      "execution_count": null,
      "metadata": {
        "colab": {
          "base_uri": "https://localhost:8080/"
        },
        "id": "EXOTpnBr6L1u",
        "outputId": "58ae56d2-82e2-4bdd-d583-25cdf397967b"
      },
      "outputs": [
        {
          "name": "stdout",
          "output_type": "stream",
          "text": [
            "MAR with PCA: (metadata only) 0.7634296977660974\n"
          ]
        }
      ],
      "source": [
        "print(\"MAR with PCA: (metadata only)\", mar_mean)"
      ]
    },
    {
      "cell_type": "markdown",
      "metadata": {
        "id": "kRf7A6ri444-"
      },
      "source": [
        "# Content Based Using Description+Metadata"
      ]
    },
    {
      "cell_type": "code",
      "execution_count": null,
      "metadata": {
        "id": "aOb6LrWe4qGQ"
      },
      "outputs": [],
      "source": [
        "#train data - week 47 to 50\n",
        "train = merged_df[(merged_df['week_number']>=47) & (merged_df['week_number']<=50)]\n",
        "\n",
        "#val data - week 51\n",
        "val = merged_df[merged_df['week_number']==51]\n",
        "\n",
        "#test data - week 52\n",
        "test = merged_df[merged_df['week_number']==52]"
      ]
    },
    {
      "cell_type": "markdown",
      "metadata": {
        "id": "D4S_tyMu9t_d"
      },
      "source": [
        "### Training"
      ]
    },
    {
      "cell_type": "code",
      "execution_count": null,
      "metadata": {
        "colab": {
          "base_uri": "https://localhost:8080/"
        },
        "id": "8pBC0s0e5ay8",
        "outputId": "cb2829c8-8788-4f3d-c123-de6015f57dff"
      },
      "outputs": [
        {
          "name": "stderr",
          "output_type": "stream",
          "text": [
            "[nltk_data] Downloading package stopwords to /root/nltk_data...\n",
            "[nltk_data]   Unzipping corpora/stopwords.zip.\n",
            "[nltk_data] Downloading package wordnet to /root/nltk_data...\n",
            "[nltk_data] Downloading package omw-1.4 to /root/nltk_data...\n"
          ]
        }
      ],
      "source": [
        "import nltk\n",
        "from nltk.corpus import stopwords\n",
        "nltk.download('stopwords')\n",
        "\n",
        "nltk.download('wordnet')\n",
        "nltk.download('omw-1.4')\n",
        "from nltk.stem import WordNetLemmatizer\n",
        "import re"
      ]
    },
    {
      "cell_type": "markdown",
      "metadata": {
        "id": "wFElRCSe6Fvm"
      },
      "source": [
        "Function to generate a corpus by combining the metadata and description of the articles."
      ]
    },
    {
      "cell_type": "code",
      "execution_count": null,
      "metadata": {
        "id": "FRl-pYvy5avL"
      },
      "outputs": [],
      "source": [
        "def description_corpus(article_id):\n",
        "  article = train[train['article_id'] == article_id]\n",
        "  prod_type = ' '.join(article['product_type_name'])\n",
        "  prod_group = ' '.join(article['product_group_name'])\n",
        "  graph_appearance = ' '.join(article['graphical_appearance_name'])\n",
        "  colour_group = ' '.join(article['colour_group_name'])\n",
        "  perceived_color = ' '.join(article['perceived_colour_master_name'])\n",
        "  dept_name = ' '.join(article['department_name'])\n",
        "  index_name = ' '.join(article['index_name'])\n",
        "  garment_group = ' '.join(article['garment_group_name'])\n",
        "\n",
        "  lst = [prod_type, prod_group, graph_appearance, colour_group, perceived_color, dept_name, index_name, garment_group]\n",
        "\n",
        "  detail_description = article['detail_desc']\n",
        "  detail_desc = ''.join(detail_description)\n",
        "  d = re.sub(\"[^a-zA-Z]\",\" \", detail_desc)\n",
        "  # print(d)\n",
        "  words = d.lower().split()\n",
        "  #print(words)\n",
        "  #removing stop words\n",
        "  stops = set(stopwords.words('english'))\n",
        "  list_without_stopwords = [w for w in words if not w in stops]\n",
        "  # print(list_without_stopwords)\n",
        "  wnl = WordNetLemmatizer()\n",
        "  corpus = list(set([wnl.lemmatize(word) for word in list_without_stopwords]))\n",
        "  corpus = corpus + lst\n",
        "  #print(corpus)\n",
        "  \n",
        "  return corpus"
      ]
    },
    {
      "cell_type": "code",
      "execution_count": null,
      "metadata": {
        "id": "SpibFzR-5ar0"
      },
      "outputs": [],
      "source": [
        "new_df = pd.DataFrame(columns = ['article_id', 'desc_corpus'])"
      ]
    },
    {
      "cell_type": "markdown",
      "metadata": {
        "id": "Vv1FUx_86Cdg"
      },
      "source": [
        "**Helper functions**"
      ]
    },
    {
      "cell_type": "code",
      "execution_count": null,
      "metadata": {
        "id": "rc3qkINb5jAb"
      },
      "outputs": [],
      "source": [
        "def find_article_id(idx):\n",
        "    return new_df.iloc[idx]['article_id']\n",
        "\n",
        "def find_article_name(article_id):\n",
        "  return (article_id, articles_df[articles_df['article_id'] == article_id]['prod_name'].values[0])"
      ]
    },
    {
      "cell_type": "code",
      "execution_count": null,
      "metadata": {
        "id": "_FCFEpD95i8U"
      },
      "outputs": [],
      "source": [
        "#Dropping empty descriptions\n",
        "train = train.dropna(subset=['detail_desc'])\n",
        "test = test.dropna(subset=['detail_desc'])"
      ]
    },
    {
      "cell_type": "code",
      "execution_count": null,
      "metadata": {
        "id": "CB_wGvlu5i48"
      },
      "outputs": [],
      "source": [
        "train_df_filtered = train[train['customer_id'].isin(test['customer_id'])]\n",
        "test_df_filtered = test[test['customer_id'].isin(train['customer_id'])]"
      ]
    },
    {
      "cell_type": "code",
      "execution_count": null,
      "metadata": {
        "colab": {
          "base_uri": "https://localhost:8080/"
        },
        "id": "sU7WIy2y5tH8",
        "outputId": "c9337bac-1e79-41ee-eec1-87aaf77877a4"
      },
      "outputs": [
        {
          "data": {
            "text/plain": [
              "(47734, 34)"
            ]
          },
          "execution_count": 97,
          "metadata": {},
          "output_type": "execute_result"
        }
      ],
      "source": [
        "train_df_filtered.shape"
      ]
    },
    {
      "cell_type": "code",
      "execution_count": null,
      "metadata": {
        "colab": {
          "base_uri": "https://localhost:8080/"
        },
        "id": "JKQAVRA_5tDz",
        "outputId": "62096280-6b0e-49cb-d63e-78e5d844cbd5"
      },
      "outputs": [
        {
          "data": {
            "text/plain": [
              "16558"
            ]
          },
          "execution_count": 98,
          "metadata": {},
          "output_type": "execute_result"
        }
      ],
      "source": [
        "train_df_filtered.article_id.nunique()"
      ]
    },
    {
      "cell_type": "code",
      "execution_count": null,
      "metadata": {
        "id": "r8To6woG5s_3"
      },
      "outputs": [],
      "source": [
        "for article_id in train_df_filtered['article_id'].unique():\n",
        "  v = description_corpus(article_id)\n",
        "  new_df = new_df.append({'article_id' : article_id, 'desc_corpus': v}, ignore_index = True)"
      ]
    },
    {
      "cell_type": "code",
      "execution_count": null,
      "metadata": {
        "id": "VAxT-N0l5zw0"
      },
      "outputs": [],
      "source": [
        "train_purchases_df = pd.merge(new_df, train_df_filtered, on=\"article_id\", how=\"inner\")"
      ]
    },
    {
      "cell_type": "code",
      "execution_count": null,
      "metadata": {
        "id": "TPnRSHm75ztT"
      },
      "outputs": [],
      "source": [
        "from sklearn.feature_extraction.text import TfidfVectorizer\n",
        "tfidf = TfidfVectorizer()\n",
        "\n",
        "def vectorize_articles_desc():\n",
        "  articles_corpus_lst = []\n",
        "  for i in new_df['desc_corpus']:\n",
        "    line = \" \".join(i)\n",
        "    articles_corpus_lst.append(line)\n",
        "  \n",
        "  X = tfidf.fit_transform(articles_corpus_lst)\n",
        "  return X"
      ]
    },
    {
      "cell_type": "code",
      "execution_count": null,
      "metadata": {
        "id": "CkYkyvUi5zpt"
      },
      "outputs": [],
      "source": [
        "X = vectorize_articles_desc()"
      ]
    },
    {
      "cell_type": "markdown",
      "metadata": {
        "id": "_OqHHbIS6bsy"
      },
      "source": [
        "### Evaluation"
      ]
    },
    {
      "cell_type": "code",
      "execution_count": null,
      "metadata": {
        "id": "VKeIAwWV6o3j"
      },
      "outputs": [],
      "source": [
        "def recommend_top_5(cust_id):\n",
        "    article_corpus = X\n",
        "    # Get the item description for the customer\n",
        "    item_desc = train_purchases_df.loc[train_purchases_df['customer_id'] == cust_id].values[0][1]\n",
        "\n",
        "    # Convert the item description to a string and calculate the TF-IDF vector\n",
        "    item_desc_str = ' '.join(item_desc)\n",
        "    vect = tfidf.transform([item_desc_str])\n",
        "\n",
        "    # Calculate the cosine similarity between the item description and all articles in the corpus\n",
        "    similarity_scores = cosine_similarity(vect, article_corpus)[0]\n",
        "\n",
        "    # Sort the articles in descending order of similarity score and exclude items with a similarity score of 1\n",
        "    similar_articles_idx = np.argsort(-similarity_scores)\n",
        "    similar_articles_idx = [i for i in similar_articles_idx if similarity_scores[i] != 1]\n",
        "    #print(similar_articles_idx)\n",
        "\n",
        "    # Find the top 5 recommended articles\n",
        "    recommended_articles = []\n",
        "    for i in similar_articles_idx[:5]:\n",
        "        article_id = find_article_id(i)\n",
        "        recommended_articles.append(article_id)\n",
        "    \n",
        "    return recommended_articles"
      ]
    },
    {
      "cell_type": "code",
      "execution_count": null,
      "metadata": {
        "id": "CZFajHq5564u"
      },
      "outputs": [],
      "source": [
        "from sklearn.metrics.pairwise import cosine_similarity\n",
        "from sklearn.metrics import average_precision_score\n",
        "\n",
        "def evaluate_map(recommended_articles):\n",
        "    # Calculate the Mean Average Precision (MAP)\n",
        "    purchased_items = test_df_filtered[test_df_filtered['customer_id'] == cust_id]['article_id'].values\n",
        "    precision = []\n",
        "    for i, article in enumerate(recommended_articles):\n",
        "        if article in purchased_items:\n",
        "            precision.append(sum([1 for j in recommended_articles[:i+1] if j in purchased_items])/(i+1))\n",
        "    if len(precision) == 0:\n",
        "        map_score = 0\n",
        "    else:\n",
        "        map_score = np.mean(precision)\n",
        "    #print(\"MAP:\", map_score)\n",
        "\n",
        "    return map_score"
      ]
    },
    {
      "cell_type": "code",
      "execution_count": null,
      "metadata": {
        "id": "GMCpE3Co8Sl0"
      },
      "outputs": [],
      "source": [
        "def evaluate_ndcg(recommended_articles):\n",
        "    # Calculate the NDCG\n",
        "    purchased_items = test_df_filtered[test_df_filtered['customer_id'] == cust_id]['article_id'].values\n",
        "    relevance = []\n",
        "    for i, article in enumerate(recommended_articles):\n",
        "      if article in purchased_items:\n",
        "        relevance.append(1)\n",
        "      else:\n",
        "        relevance.append(0)\n",
        "    \n",
        "    if sum(relevance) == 0:\n",
        "      ndcg_score = 0\n",
        "    else:\n",
        "      dcg = relevance[0]\n",
        "      for i in range(1, len(relevance)):\n",
        "        dcg+=relevance[i] / np.log2(i+1)\n",
        "      idcg = sum(sorted(relevance, reverse=True)[:sum(relevance)])\n",
        "      ndcg_score = dcg/idcg\n",
        "    return ndcg_score"
      ]
    },
    {
      "cell_type": "code",
      "execution_count": null,
      "metadata": {
        "id": "fcnxMApH-3xN"
      },
      "outputs": [],
      "source": [
        "def evaluate_recall(recommended_articles):\n",
        "    # Calculate the recall score\n",
        "    purchased_items = test_df_filtered[test_df_filtered['customer_id'] == cust_id]['article_id'].values\n",
        "    true_positives = 0\n",
        "    false_negatives = 0\n",
        "    for i, article in enumerate(recommended_articles):\n",
        "        if article in purchased_items:\n",
        "            true_positives += 1\n",
        "        else:\n",
        "            false_negatives += 1\n",
        "    if true_positives == 0:\n",
        "        recall_score = 0\n",
        "    else:\n",
        "        recall_score = true_positives / (true_positives + false_negatives)\n",
        "    #print(\"Recall:\", recall_score)\n",
        "\n",
        "    return recall_score"
      ]
    },
    {
      "cell_type": "code",
      "execution_count": null,
      "metadata": {
        "colab": {
          "base_uri": "https://localhost:8080/"
        },
        "id": "A8NCs4ao561S",
        "outputId": "7a175e8d-8a98-4c6e-b225-b3c43946e1fa"
      },
      "outputs": [
        {
          "name": "stdout",
          "output_type": "stream",
          "text": [
            "MAP using description+metadata: 0.011086290528465662\n",
            "NDCG using description+metadata: 0.013928597235114765\n",
            "Recall using description+metadata: 0.0035486341587949964\n"
          ]
        }
      ],
      "source": [
        "all_map = []\n",
        "all_ndcg = []\n",
        "all_recall = []\n",
        "\n",
        "for cust_id in train_purchases_df['customer_id'].unique():\n",
        "  recommendations = recommend_top_5(cust_id)\n",
        "  map = evaluate_map(recommendations) #Calculate MAP\n",
        "  ndcg = evaluate_ndcg(recommendations) #Calculate NDCG\n",
        "  recall = evaluate_recall(recommendations) #Calculate Recall\n",
        "  all_map.append(map)\n",
        "  all_ndcg.append(ndcg)\n",
        "  all_recall.append(recall)\n",
        "\n",
        "map_final = np.mean(all_map)\n",
        "ndcg_final = np.mean(all_ndcg)\n",
        "recall_final = np.mean(all_recall)\n",
        "\n",
        "print(\"MAP using description+metadata:\", map_final)\n",
        "print(\"NDCG using description+metadata:\", ndcg_final)\n",
        "print(\"Recall using description+metadata:\", recall_final)"
      ]
    },
    {
      "cell_type": "markdown",
      "metadata": {
        "id": "_ZEaoVwv9xAO"
      },
      "source": [
        "# Content Based Using Description "
      ]
    },
    {
      "cell_type": "markdown",
      "metadata": {
        "id": "DYQUhRH6-hON"
      },
      "source": [
        "### Training"
      ]
    },
    {
      "cell_type": "code",
      "execution_count": null,
      "metadata": {
        "id": "RO_Y4zuD6ZW-"
      },
      "outputs": [],
      "source": [
        "def description_corpus(article_id):\n",
        "  article = train[train['article_id'] == article_id]\n",
        "\n",
        "  detail_description = article['detail_desc']\n",
        "  detail_desc = ''.join(detail_description)\n",
        "  d = re.sub(\"[^a-zA-Z]\",\" \", detail_desc)\n",
        "\n",
        "  words = d.lower().split()\n",
        "\n",
        "  #removing stop words\n",
        "  stops = set(stopwords.words('english'))\n",
        "  list_without_stopwords = [w for w in words if not w in stops]\n",
        "  # print(list_without_stopwords)\n",
        "  wnl = WordNetLemmatizer()\n",
        "  corpus = list(set([wnl.lemmatize(word) for word in list_without_stopwords]))\n",
        "  \n",
        "  #print(corpus)\n",
        "  \n",
        "  return corpus"
      ]
    },
    {
      "cell_type": "code",
      "execution_count": null,
      "metadata": {
        "id": "l_AYXzV76ZSW"
      },
      "outputs": [],
      "source": [
        "new_df = pd.DataFrame(columns = ['article_id', 'desc_corpus'])"
      ]
    },
    {
      "cell_type": "code",
      "execution_count": null,
      "metadata": {
        "id": "F-zra5Ec95jj"
      },
      "outputs": [],
      "source": [
        "for article_id in train_df_filtered['article_id'].unique():\n",
        "  v = description_corpus(article_id)\n",
        "  new_df = new_df.append({'article_id' : article_id, 'desc_corpus': v}, ignore_index = True)"
      ]
    },
    {
      "cell_type": "code",
      "execution_count": null,
      "metadata": {
        "id": "9238daIw95cd",
        "colab": {
          "base_uri": "https://localhost:8080/",
          "height": 423
        },
        "outputId": "000aebaa-3f08-4f4b-b2aa-0781caf75f1f"
      },
      "outputs": [
        {
          "output_type": "execute_result",
          "data": {
            "text/plain": [
              "      article_id                                        desc_corpus\n",
              "0      573085033  [pocket, stretch, washed, zip, waist, leg, jea...\n",
              "1      573085038  [pocket, stretch, washed, zip, waist, leg, jea...\n",
              "2      215589001     [space, tummy, denier, tights, growing, extra]\n",
              "3      561277001  [shape, opaque, encouraging, tummy, denier, bl...\n",
              "4      699493001  [seam, long, lace, edge, scalloped, dress, par...\n",
              "...          ...                                                ...\n",
              "16553  661644005     [scarf, detail, elasticated, satin, scrunchie]\n",
              "16554  665507001  [airy, lace, trim, neckline, sleeve, butterfly...\n",
              "16555  820165002               [ribbed, fitted, top, jersey, short]\n",
              "16556  644763002  [lace, pair, fastening, shape, bust, narrow, d...\n",
              "16557  670645001  [jumper, soft, long, back, knit, slit, ribbing...\n",
              "\n",
              "[16558 rows x 2 columns]"
            ],
            "text/html": [
              "\n",
              "  <div id=\"df-46d5123e-1954-4d41-a640-9087707229ed\">\n",
              "    <div class=\"colab-df-container\">\n",
              "      <div>\n",
              "<style scoped>\n",
              "    .dataframe tbody tr th:only-of-type {\n",
              "        vertical-align: middle;\n",
              "    }\n",
              "\n",
              "    .dataframe tbody tr th {\n",
              "        vertical-align: top;\n",
              "    }\n",
              "\n",
              "    .dataframe thead th {\n",
              "        text-align: right;\n",
              "    }\n",
              "</style>\n",
              "<table border=\"1\" class=\"dataframe\">\n",
              "  <thead>\n",
              "    <tr style=\"text-align: right;\">\n",
              "      <th></th>\n",
              "      <th>article_id</th>\n",
              "      <th>desc_corpus</th>\n",
              "    </tr>\n",
              "  </thead>\n",
              "  <tbody>\n",
              "    <tr>\n",
              "      <th>0</th>\n",
              "      <td>573085033</td>\n",
              "      <td>[pocket, stretch, washed, zip, waist, leg, jea...</td>\n",
              "    </tr>\n",
              "    <tr>\n",
              "      <th>1</th>\n",
              "      <td>573085038</td>\n",
              "      <td>[pocket, stretch, washed, zip, waist, leg, jea...</td>\n",
              "    </tr>\n",
              "    <tr>\n",
              "      <th>2</th>\n",
              "      <td>215589001</td>\n",
              "      <td>[space, tummy, denier, tights, growing, extra]</td>\n",
              "    </tr>\n",
              "    <tr>\n",
              "      <th>3</th>\n",
              "      <td>561277001</td>\n",
              "      <td>[shape, opaque, encouraging, tummy, denier, bl...</td>\n",
              "    </tr>\n",
              "    <tr>\n",
              "      <th>4</th>\n",
              "      <td>699493001</td>\n",
              "      <td>[seam, long, lace, edge, scalloped, dress, par...</td>\n",
              "    </tr>\n",
              "    <tr>\n",
              "      <th>...</th>\n",
              "      <td>...</td>\n",
              "      <td>...</td>\n",
              "    </tr>\n",
              "    <tr>\n",
              "      <th>16553</th>\n",
              "      <td>661644005</td>\n",
              "      <td>[scarf, detail, elasticated, satin, scrunchie]</td>\n",
              "    </tr>\n",
              "    <tr>\n",
              "      <th>16554</th>\n",
              "      <td>665507001</td>\n",
              "      <td>[airy, lace, trim, neckline, sleeve, butterfly...</td>\n",
              "    </tr>\n",
              "    <tr>\n",
              "      <th>16555</th>\n",
              "      <td>820165002</td>\n",
              "      <td>[ribbed, fitted, top, jersey, short]</td>\n",
              "    </tr>\n",
              "    <tr>\n",
              "      <th>16556</th>\n",
              "      <td>644763002</td>\n",
              "      <td>[lace, pair, fastening, shape, bust, narrow, d...</td>\n",
              "    </tr>\n",
              "    <tr>\n",
              "      <th>16557</th>\n",
              "      <td>670645001</td>\n",
              "      <td>[jumper, soft, long, back, knit, slit, ribbing...</td>\n",
              "    </tr>\n",
              "  </tbody>\n",
              "</table>\n",
              "<p>16558 rows × 2 columns</p>\n",
              "</div>\n",
              "      <button class=\"colab-df-convert\" onclick=\"convertToInteractive('df-46d5123e-1954-4d41-a640-9087707229ed')\"\n",
              "              title=\"Convert this dataframe to an interactive table.\"\n",
              "              style=\"display:none;\">\n",
              "        \n",
              "  <svg xmlns=\"http://www.w3.org/2000/svg\" height=\"24px\"viewBox=\"0 0 24 24\"\n",
              "       width=\"24px\">\n",
              "    <path d=\"M0 0h24v24H0V0z\" fill=\"none\"/>\n",
              "    <path d=\"M18.56 5.44l.94 2.06.94-2.06 2.06-.94-2.06-.94-.94-2.06-.94 2.06-2.06.94zm-11 1L8.5 8.5l.94-2.06 2.06-.94-2.06-.94L8.5 2.5l-.94 2.06-2.06.94zm10 10l.94 2.06.94-2.06 2.06-.94-2.06-.94-.94-2.06-.94 2.06-2.06.94z\"/><path d=\"M17.41 7.96l-1.37-1.37c-.4-.4-.92-.59-1.43-.59-.52 0-1.04.2-1.43.59L10.3 9.45l-7.72 7.72c-.78.78-.78 2.05 0 2.83L4 21.41c.39.39.9.59 1.41.59.51 0 1.02-.2 1.41-.59l7.78-7.78 2.81-2.81c.8-.78.8-2.07 0-2.86zM5.41 20L4 18.59l7.72-7.72 1.47 1.35L5.41 20z\"/>\n",
              "  </svg>\n",
              "      </button>\n",
              "      \n",
              "  <style>\n",
              "    .colab-df-container {\n",
              "      display:flex;\n",
              "      flex-wrap:wrap;\n",
              "      gap: 12px;\n",
              "    }\n",
              "\n",
              "    .colab-df-convert {\n",
              "      background-color: #E8F0FE;\n",
              "      border: none;\n",
              "      border-radius: 50%;\n",
              "      cursor: pointer;\n",
              "      display: none;\n",
              "      fill: #1967D2;\n",
              "      height: 32px;\n",
              "      padding: 0 0 0 0;\n",
              "      width: 32px;\n",
              "    }\n",
              "\n",
              "    .colab-df-convert:hover {\n",
              "      background-color: #E2EBFA;\n",
              "      box-shadow: 0px 1px 2px rgba(60, 64, 67, 0.3), 0px 1px 3px 1px rgba(60, 64, 67, 0.15);\n",
              "      fill: #174EA6;\n",
              "    }\n",
              "\n",
              "    [theme=dark] .colab-df-convert {\n",
              "      background-color: #3B4455;\n",
              "      fill: #D2E3FC;\n",
              "    }\n",
              "\n",
              "    [theme=dark] .colab-df-convert:hover {\n",
              "      background-color: #434B5C;\n",
              "      box-shadow: 0px 1px 3px 1px rgba(0, 0, 0, 0.15);\n",
              "      filter: drop-shadow(0px 1px 2px rgba(0, 0, 0, 0.3));\n",
              "      fill: #FFFFFF;\n",
              "    }\n",
              "  </style>\n",
              "\n",
              "      <script>\n",
              "        const buttonEl =\n",
              "          document.querySelector('#df-46d5123e-1954-4d41-a640-9087707229ed button.colab-df-convert');\n",
              "        buttonEl.style.display =\n",
              "          google.colab.kernel.accessAllowed ? 'block' : 'none';\n",
              "\n",
              "        async function convertToInteractive(key) {\n",
              "          const element = document.querySelector('#df-46d5123e-1954-4d41-a640-9087707229ed');\n",
              "          const dataTable =\n",
              "            await google.colab.kernel.invokeFunction('convertToInteractive',\n",
              "                                                     [key], {});\n",
              "          if (!dataTable) return;\n",
              "\n",
              "          const docLinkHtml = 'Like what you see? Visit the ' +\n",
              "            '<a target=\"_blank\" href=https://colab.research.google.com/notebooks/data_table.ipynb>data table notebook</a>'\n",
              "            + ' to learn more about interactive tables.';\n",
              "          element.innerHTML = '';\n",
              "          dataTable['output_type'] = 'display_data';\n",
              "          await google.colab.output.renderOutput(dataTable, element);\n",
              "          const docLink = document.createElement('div');\n",
              "          docLink.innerHTML = docLinkHtml;\n",
              "          element.appendChild(docLink);\n",
              "        }\n",
              "      </script>\n",
              "    </div>\n",
              "  </div>\n",
              "  "
            ]
          },
          "metadata": {},
          "execution_count": 119
        }
      ],
      "source": [
        "new_df"
      ]
    },
    {
      "cell_type": "code",
      "execution_count": null,
      "metadata": {
        "id": "s7a4p01I95WQ"
      },
      "outputs": [],
      "source": [
        "train_purchases_df = pd.merge(new_df, train_df_filtered, on=\"article_id\", how=\"inner\")"
      ]
    },
    {
      "cell_type": "code",
      "execution_count": null,
      "metadata": {
        "id": "OVFfHp0K-Dzl"
      },
      "outputs": [],
      "source": [
        "from sklearn.feature_extraction.text import TfidfVectorizer\n",
        "tfidf = TfidfVectorizer()\n",
        "\n",
        "def vectorize_articles_desc():\n",
        "  articles_corpus_lst = []\n",
        "  for i in new_df['desc_corpus']:\n",
        "    line = \" \".join(i)\n",
        "    articles_corpus_lst.append(line)\n",
        "  \n",
        "  X = tfidf.fit_transform(articles_corpus_lst)\n",
        "  return X"
      ]
    },
    {
      "cell_type": "code",
      "execution_count": null,
      "metadata": {
        "id": "IVCaFzUm-Dst"
      },
      "outputs": [],
      "source": [
        "X = vectorize_articles_desc()"
      ]
    },
    {
      "cell_type": "code",
      "execution_count": null,
      "metadata": {
        "id": "EOFnrqTt-DnE",
        "colab": {
          "base_uri": "https://localhost:8080/"
        },
        "outputId": "0e855223-45cb-4701-e179-ac4f5f664933"
      },
      "outputs": [
        {
          "output_type": "execute_result",
          "data": {
            "text/plain": [
              "<16558x1401 sparse matrix of type '<class 'numpy.float64'>'\n",
              "\twith 243901 stored elements in Compressed Sparse Row format>"
            ]
          },
          "metadata": {},
          "execution_count": 123
        }
      ],
      "source": [
        "X"
      ]
    },
    {
      "cell_type": "markdown",
      "metadata": {
        "id": "J2rDIhYy-jrF"
      },
      "source": [
        "### Evaluation"
      ]
    },
    {
      "cell_type": "code",
      "execution_count": null,
      "metadata": {
        "id": "GvFBaURy-HxF",
        "colab": {
          "base_uri": "https://localhost:8080/"
        },
        "outputId": "160aebba-eb09-4980-c674-6cf96b00720f"
      },
      "outputs": [
        {
          "output_type": "stream",
          "name": "stdout",
          "text": [
            "MAP using description+metadata: 0.007964215811420304\n",
            "NDCG using description+metadata: 0.010807598509243795\n",
            "Recall using description+metadata: 0.00273168241000766\n"
          ]
        }
      ],
      "source": [
        "all_map = []\n",
        "all_ndcg = []\n",
        "all_recall = []\n",
        "\n",
        "for cust_id in train_purchases_df['customer_id'].unique():\n",
        "  recommendations = recommend_top_5(cust_id)\n",
        "  map = evaluate_map(recommendations) #Calculate MAP\n",
        "  ndcg = evaluate_ndcg(recommendations) #Calculate NDCG\n",
        "  recall = evaluate_recall(recommendations) #Calculate Recall\n",
        "  all_map.append(map)\n",
        "  all_ndcg.append(ndcg)\n",
        "  all_recall.append(recall)\n",
        "\n",
        "map_final = np.mean(all_map)\n",
        "ndcg_final = np.mean(all_ndcg)\n",
        "recall_final = np.mean(all_recall)\n",
        "\n",
        "print(\"MAP using description+metadata:\", map_final)\n",
        "print(\"NDCG using description+metadata:\", ndcg_final)\n",
        "print(\"Recall using description+metadata:\", recall_final)"
      ]
    },
    {
      "cell_type": "markdown",
      "source": [
        "# Content Based Using Image Embeddings"
      ],
      "metadata": {
        "id": "Wfx7NDHoPOgb"
      }
    },
    {
      "cell_type": "markdown",
      "source": [
        "The image embeddings were trained on local machine using ResNet50 pretrained network."
      ],
      "metadata": {
        "id": "0HnuGR8VeEQY"
      }
    },
    {
      "cell_type": "code",
      "execution_count": null,
      "metadata": {
        "id": "MPIJ-DKM-HrY"
      },
      "outputs": [],
      "source": [
        "#Loading the embeddings pickle files\n",
        "\n",
        "pickle1 = '/content/drive/MyDrive/H&M dataset/hm_embeddings_100523_01.pkl'\n",
        "pickle2 = '/content/drive/MyDrive/H&M dataset/hm_embeddings_100523_02.pkl'\n",
        "pickle3 = '/content/drive/MyDrive/H&M dataset/hm_embeddings_100523_03.pkl'\n",
        "pickle4 = '/content/drive/MyDrive/H&M dataset/hm_embeddings_100523_04.pkl'"
      ]
    },
    {
      "cell_type": "code",
      "source": [
        "df1 = pd.read_pickle(pickle1)\n",
        "df2 = pd.read_pickle(pickle2)\n",
        "df3 = pd.read_pickle(pickle3)\n",
        "df4 = pd.read_pickle(pickle4)"
      ],
      "metadata": {
        "id": "TctgOMFXeaMc"
      },
      "execution_count": null,
      "outputs": []
    },
    {
      "cell_type": "code",
      "source": [
        "df = pd.concat([df1, df2, df3, df4])"
      ],
      "metadata": {
        "id": "uYdRF2c7eko1"
      },
      "execution_count": null,
      "outputs": []
    },
    {
      "cell_type": "code",
      "source": [
        "df.shape"
      ],
      "metadata": {
        "colab": {
          "base_uri": "https://localhost:8080/"
        },
        "id": "t_NtqHtjfFLq",
        "outputId": "30852405-8b45-4fe5-d42a-55bd7b3e5856"
      },
      "execution_count": null,
      "outputs": [
        {
          "output_type": "execute_result",
          "data": {
            "text/plain": [
              "(24296, 3)"
            ]
          },
          "metadata": {},
          "execution_count": 39
        }
      ]
    },
    {
      "cell_type": "code",
      "source": [
        "df.head()"
      ],
      "metadata": {
        "colab": {
          "base_uri": "https://localhost:8080/",
          "height": 206
        },
        "id": "HDz5g0u_fGEV",
        "outputId": "338b084a-bbb0-4a48-ac66-85c56e65d4b5"
      },
      "execution_count": null,
      "outputs": [
        {
          "output_type": "execute_result",
          "data": {
            "text/plain": [
              "                                          Image Path  \\\n",
              "0  E:\\H&M dataset\\filtered_imgs\\all\\010\\010877501...   \n",
              "1  E:\\H&M dataset\\filtered_imgs\\all\\010\\010877504...   \n",
              "2  E:\\H&M dataset\\filtered_imgs\\all\\010\\010877505...   \n",
              "3  E:\\H&M dataset\\filtered_imgs\\all\\011\\011006500...   \n",
              "4  E:\\H&M dataset\\filtered_imgs\\all\\011\\011006500...   \n",
              "\n",
              "                                           Embedding   Image id  \n",
              "0  [[0.30005416, 1.8002645, 0.0, 0.16126332, 0.18...  108775015  \n",
              "1  [[0.0, 2.1636605, 0.031609662, 1.3541696, 0.04...  108775044  \n",
              "2  [[0.6450878, 0.6914531, 0.050121546, 0.3615835...  108775051  \n",
              "3  [[0.02863922, 2.0282106, 0.08630299, 0.2328322...  110065001  \n",
              "4  [[0.03895648, 1.2950653, 0.0, 0.018433135, 0.0...  110065002  "
            ],
            "text/html": [
              "\n",
              "  <div id=\"df-fe990adc-a749-4d13-ab50-1d8ed66b3bd8\">\n",
              "    <div class=\"colab-df-container\">\n",
              "      <div>\n",
              "<style scoped>\n",
              "    .dataframe tbody tr th:only-of-type {\n",
              "        vertical-align: middle;\n",
              "    }\n",
              "\n",
              "    .dataframe tbody tr th {\n",
              "        vertical-align: top;\n",
              "    }\n",
              "\n",
              "    .dataframe thead th {\n",
              "        text-align: right;\n",
              "    }\n",
              "</style>\n",
              "<table border=\"1\" class=\"dataframe\">\n",
              "  <thead>\n",
              "    <tr style=\"text-align: right;\">\n",
              "      <th></th>\n",
              "      <th>Image Path</th>\n",
              "      <th>Embedding</th>\n",
              "      <th>Image id</th>\n",
              "    </tr>\n",
              "  </thead>\n",
              "  <tbody>\n",
              "    <tr>\n",
              "      <th>0</th>\n",
              "      <td>E:\\H&amp;M dataset\\filtered_imgs\\all\\010\\010877501...</td>\n",
              "      <td>[[0.30005416, 1.8002645, 0.0, 0.16126332, 0.18...</td>\n",
              "      <td>108775015</td>\n",
              "    </tr>\n",
              "    <tr>\n",
              "      <th>1</th>\n",
              "      <td>E:\\H&amp;M dataset\\filtered_imgs\\all\\010\\010877504...</td>\n",
              "      <td>[[0.0, 2.1636605, 0.031609662, 1.3541696, 0.04...</td>\n",
              "      <td>108775044</td>\n",
              "    </tr>\n",
              "    <tr>\n",
              "      <th>2</th>\n",
              "      <td>E:\\H&amp;M dataset\\filtered_imgs\\all\\010\\010877505...</td>\n",
              "      <td>[[0.6450878, 0.6914531, 0.050121546, 0.3615835...</td>\n",
              "      <td>108775051</td>\n",
              "    </tr>\n",
              "    <tr>\n",
              "      <th>3</th>\n",
              "      <td>E:\\H&amp;M dataset\\filtered_imgs\\all\\011\\011006500...</td>\n",
              "      <td>[[0.02863922, 2.0282106, 0.08630299, 0.2328322...</td>\n",
              "      <td>110065001</td>\n",
              "    </tr>\n",
              "    <tr>\n",
              "      <th>4</th>\n",
              "      <td>E:\\H&amp;M dataset\\filtered_imgs\\all\\011\\011006500...</td>\n",
              "      <td>[[0.03895648, 1.2950653, 0.0, 0.018433135, 0.0...</td>\n",
              "      <td>110065002</td>\n",
              "    </tr>\n",
              "  </tbody>\n",
              "</table>\n",
              "</div>\n",
              "      <button class=\"colab-df-convert\" onclick=\"convertToInteractive('df-fe990adc-a749-4d13-ab50-1d8ed66b3bd8')\"\n",
              "              title=\"Convert this dataframe to an interactive table.\"\n",
              "              style=\"display:none;\">\n",
              "        \n",
              "  <svg xmlns=\"http://www.w3.org/2000/svg\" height=\"24px\"viewBox=\"0 0 24 24\"\n",
              "       width=\"24px\">\n",
              "    <path d=\"M0 0h24v24H0V0z\" fill=\"none\"/>\n",
              "    <path d=\"M18.56 5.44l.94 2.06.94-2.06 2.06-.94-2.06-.94-.94-2.06-.94 2.06-2.06.94zm-11 1L8.5 8.5l.94-2.06 2.06-.94-2.06-.94L8.5 2.5l-.94 2.06-2.06.94zm10 10l.94 2.06.94-2.06 2.06-.94-2.06-.94-.94-2.06-.94 2.06-2.06.94z\"/><path d=\"M17.41 7.96l-1.37-1.37c-.4-.4-.92-.59-1.43-.59-.52 0-1.04.2-1.43.59L10.3 9.45l-7.72 7.72c-.78.78-.78 2.05 0 2.83L4 21.41c.39.39.9.59 1.41.59.51 0 1.02-.2 1.41-.59l7.78-7.78 2.81-2.81c.8-.78.8-2.07 0-2.86zM5.41 20L4 18.59l7.72-7.72 1.47 1.35L5.41 20z\"/>\n",
              "  </svg>\n",
              "      </button>\n",
              "      \n",
              "  <style>\n",
              "    .colab-df-container {\n",
              "      display:flex;\n",
              "      flex-wrap:wrap;\n",
              "      gap: 12px;\n",
              "    }\n",
              "\n",
              "    .colab-df-convert {\n",
              "      background-color: #E8F0FE;\n",
              "      border: none;\n",
              "      border-radius: 50%;\n",
              "      cursor: pointer;\n",
              "      display: none;\n",
              "      fill: #1967D2;\n",
              "      height: 32px;\n",
              "      padding: 0 0 0 0;\n",
              "      width: 32px;\n",
              "    }\n",
              "\n",
              "    .colab-df-convert:hover {\n",
              "      background-color: #E2EBFA;\n",
              "      box-shadow: 0px 1px 2px rgba(60, 64, 67, 0.3), 0px 1px 3px 1px rgba(60, 64, 67, 0.15);\n",
              "      fill: #174EA6;\n",
              "    }\n",
              "\n",
              "    [theme=dark] .colab-df-convert {\n",
              "      background-color: #3B4455;\n",
              "      fill: #D2E3FC;\n",
              "    }\n",
              "\n",
              "    [theme=dark] .colab-df-convert:hover {\n",
              "      background-color: #434B5C;\n",
              "      box-shadow: 0px 1px 3px 1px rgba(0, 0, 0, 0.15);\n",
              "      filter: drop-shadow(0px 1px 2px rgba(0, 0, 0, 0.3));\n",
              "      fill: #FFFFFF;\n",
              "    }\n",
              "  </style>\n",
              "\n",
              "      <script>\n",
              "        const buttonEl =\n",
              "          document.querySelector('#df-fe990adc-a749-4d13-ab50-1d8ed66b3bd8 button.colab-df-convert');\n",
              "        buttonEl.style.display =\n",
              "          google.colab.kernel.accessAllowed ? 'block' : 'none';\n",
              "\n",
              "        async function convertToInteractive(key) {\n",
              "          const element = document.querySelector('#df-fe990adc-a749-4d13-ab50-1d8ed66b3bd8');\n",
              "          const dataTable =\n",
              "            await google.colab.kernel.invokeFunction('convertToInteractive',\n",
              "                                                     [key], {});\n",
              "          if (!dataTable) return;\n",
              "\n",
              "          const docLinkHtml = 'Like what you see? Visit the ' +\n",
              "            '<a target=\"_blank\" href=https://colab.research.google.com/notebooks/data_table.ipynb>data table notebook</a>'\n",
              "            + ' to learn more about interactive tables.';\n",
              "          element.innerHTML = '';\n",
              "          dataTable['output_type'] = 'display_data';\n",
              "          await google.colab.output.renderOutput(dataTable, element);\n",
              "          const docLink = document.createElement('div');\n",
              "          docLink.innerHTML = docLinkHtml;\n",
              "          element.appendChild(docLink);\n",
              "        }\n",
              "      </script>\n",
              "    </div>\n",
              "  </div>\n",
              "  "
            ]
          },
          "metadata": {},
          "execution_count": 40
        }
      ]
    },
    {
      "cell_type": "code",
      "source": [
        "#Finding the similarity matrix\n",
        "from sklearn.metrics.pairwise import cosine_similarity\n",
        "\n",
        "embeddings_lst = df['Embedding'].to_list()\n",
        "embeddings = np.concatenate(embeddings_lst, axis=0)\n",
        "sim_matrix = cosine_similarity(embeddings)"
      ],
      "metadata": {
        "id": "Hs9j7cy4fc_D"
      },
      "execution_count": null,
      "outputs": []
    },
    {
      "cell_type": "code",
      "source": [
        "df['Image id'] = [int(x) for x in df['Image id']]"
      ],
      "metadata": {
        "id": "9UOzLhkHgxQ0"
      },
      "execution_count": null,
      "outputs": []
    },
    {
      "cell_type": "code",
      "source": [
        "merged_df_filtered = merged_df[merged_df['article_id'].isin(df['Image id'])]"
      ],
      "metadata": {
        "id": "Jrox3WTOgM74"
      },
      "execution_count": null,
      "outputs": []
    },
    {
      "cell_type": "code",
      "source": [
        "merged_df_filtered.shape"
      ],
      "metadata": {
        "colab": {
          "base_uri": "https://localhost:8080/"
        },
        "id": "7y4PIQocgc2D",
        "outputId": "18485805-4cf7-4390-fa5a-2c0dc1cbd962"
      },
      "execution_count": null,
      "outputs": [
        {
          "output_type": "execute_result",
          "data": {
            "text/plain": [
              "(108351, 34)"
            ]
          },
          "metadata": {},
          "execution_count": 44
        }
      ]
    },
    {
      "cell_type": "code",
      "source": [
        "#Train\n",
        "train_df = merged_df_filtered[(merged_df_filtered['week_number']>=47) & (merged_df_filtered['week_number']<=50)]\n",
        "\n",
        "#Val\n",
        "val_df = merged_df_filtered[merged_df_filtered['week_number'] == 51]\n",
        "\n",
        "#Test\n",
        "test_df = merged_df_filtered[merged_df_filtered['week_number'] == 52]"
      ],
      "metadata": {
        "id": "mRVCVg8-gjao"
      },
      "execution_count": null,
      "outputs": []
    },
    {
      "cell_type": "code",
      "source": [
        "train_df_filtered = train_df[train_df['customer_id'].isin(test_df['customer_id'])]\n",
        "test_df_filtered = test_df[test_df['customer_id'].isin(train_df['customer_id'])]"
      ],
      "metadata": {
        "id": "KhNd5A8ffYSm"
      },
      "execution_count": null,
      "outputs": []
    },
    {
      "cell_type": "code",
      "source": [
        "train_df_filtered.shape, test_df_filtered.shape"
      ],
      "metadata": {
        "colab": {
          "base_uri": "https://localhost:8080/"
        },
        "id": "eVSSoLQFg6v8",
        "outputId": "d8b834d8-2afe-4aa5-f4d2-e7be0cfa35b0"
      },
      "execution_count": null,
      "outputs": [
        {
          "output_type": "execute_result",
          "data": {
            "text/plain": [
              "((10646, 34), (7152, 34))"
            ]
          },
          "metadata": {},
          "execution_count": 47
        }
      ]
    },
    {
      "cell_type": "code",
      "source": [
        "def find_similar_images(img_index, k=5):\n",
        "    sim_scores = sim_matrix[img_index]\n",
        "    top_k = sim_scores.argsort()[::-1][1:k+1]\n",
        "    top_k_paths = df.iloc[top_k]['Image'].values\n",
        "    top_k_scores = sim_scores[top_k]\n",
        "    return top_k_paths, top_k_scores     "
      ],
      "metadata": {
        "id": "W1MTt-_Kg9_M"
      },
      "execution_count": null,
      "outputs": []
    },
    {
      "cell_type": "markdown",
      "source": [
        "**Mean Average Precision**"
      ],
      "metadata": {
        "id": "E9J_rlWYnMDu"
      }
    },
    {
      "cell_type": "code",
      "source": [
        "def content_based_using_image(cust_id):\n",
        "    prev_purchased = train_df_filtered[train_df_filtered['customer_id'] == cust_id]['article_id'].values\n",
        "    img_location = '0' + str(prev_purchased[0])\n",
        "    img_subfolder = str(img_location)[0:3]\n",
        "    \n",
        "    path = images_dir+'\\\\'+img_subfolder+'\\\\'+img_location+'.jpg'\n",
        "    \n",
        "    index = df.loc[df['Image Path'] == path].index\n",
        "    if len(index)!=0:\n",
        "        idx = index.values[0]\n",
        "    \n",
        "        paths, scores = find_similar_images(idx, 5)\n",
        "    \n",
        "        recommended_articles = []\n",
        "        for path in paths:\n",
        "            i = path.split('\\\\')[4].split('.')[0]\n",
        "            recommended_articles.append(i)\n",
        "    \n",
        "        purchased_articles = test_df_filtered[test_df_filtered['customer_id'] == cust_id]['article_id'].values\n",
        "        precision = []\n",
        "        for i, article in enumerate(recommended_articles):\n",
        "            if article in purchased_articles:\n",
        "                precision.append(sum([1 for j in recommended_articles[:i+1] if j in purchased_articles])/(i+1))\n",
        "    \n",
        "        if len(precision) == 0:\n",
        "            map_score = 0\n",
        "        else:\n",
        "            map_score = np.mean(precision)\n",
        "    else:\n",
        "        map_score = 0\n",
        "    return map_score"
      ],
      "metadata": {
        "id": "OtlKFbGfnLh5"
      },
      "execution_count": null,
      "outputs": []
    },
    {
      "cell_type": "code",
      "source": [
        "all_map = []\n",
        "for cust_id in train_df_filtered['customer_id'].unique():\n",
        "    mean_avg_precision = content_based_using_image(cust_id)\n",
        "    all_map.append(mean_avg_precision)"
      ],
      "metadata": {
        "id": "igMpu3aonO2a"
      },
      "execution_count": null,
      "outputs": []
    },
    {
      "cell_type": "code",
      "source": [
        "np.mean(all_map)"
      ],
      "metadata": {
        "colab": {
          "base_uri": "https://localhost:8080/"
        },
        "id": "xWx174EDnhl2",
        "outputId": "82b57eb9-59ea-4dc8-d0aa-9fc98c0922f6"
      },
      "execution_count": null,
      "outputs": [
        {
          "output_type": "execute_result",
          "data": {
            "text/plain": [
              "0.0"
            ]
          },
          "metadata": {},
          "execution_count": 53
        }
      ]
    },
    {
      "cell_type": "markdown",
      "source": [
        "**Recall**"
      ],
      "metadata": {
        "id": "lyTpAAgLnTQI"
      }
    },
    {
      "cell_type": "code",
      "source": [
        "def content_based_using_image_recall(cust_id):\n",
        "    prev_purchased = train_df_filtered[train_df_filtered['customer_id'] == cust_id]['article_id'].values\n",
        "    img_location = '0' + str(prev_purchased[0])\n",
        "    img_subfolder = str(img_location)[0:3]\n",
        "    \n",
        "    path = images_dir+'\\\\'+img_subfolder+'\\\\'+img_location+'.jpg'\n",
        "    \n",
        "    index = df.loc[df['Image Path'] == path].index\n",
        "    if len(index)!=0:\n",
        "        idx = index.values[0]\n",
        "    \n",
        "        paths, scores = find_similar_images(idx, 5)\n",
        "    \n",
        "        recommended_articles = []\n",
        "        for path in paths:\n",
        "            i = path.split('\\\\')[4].split('.')[0]\n",
        "            recommended_articles.append(i)\n",
        "    \n",
        "        purchased_articles = test_df_filtered[test_df_filtered['customer_id'] == cust_id]['article_id'].values\n",
        "        tp = 0\n",
        "        fn = 0\n",
        "        for i, article in enumerate(recommended_articles):\n",
        "            if article in purchased_articles:\n",
        "                tp+=1\n",
        "            else:\n",
        "                fn+=1\n",
        "        if tp == 0:\n",
        "            recall_score=0\n",
        "        else:\n",
        "            recall_score = tp/(tp+fn)\n",
        "    else:\n",
        "        recall_score = 0\n",
        "    return recall_score"
      ],
      "metadata": {
        "id": "UCwnTYUHhDok"
      },
      "execution_count": null,
      "outputs": []
    },
    {
      "cell_type": "code",
      "execution_count": null,
      "metadata": {
        "id": "ROOSMIKm-sFo"
      },
      "outputs": [],
      "source": [
        "all_recall = []\n",
        "for cust_id in train_df_filtered['customer_id'].unique():\n",
        "    recall = content_based_using_image_recall(cust_id)\n",
        "    all_recall.append(recall)"
      ]
    },
    {
      "cell_type": "code",
      "source": [
        "np.mean(all_recall)"
      ],
      "metadata": {
        "colab": {
          "base_uri": "https://localhost:8080/"
        },
        "id": "tdy-n5kYiXgD",
        "outputId": "0867672c-d331-41c7-8acf-84f5fb98b98b"
      },
      "execution_count": null,
      "outputs": [
        {
          "output_type": "execute_result",
          "data": {
            "text/plain": [
              "0.0"
            ]
          },
          "metadata": {},
          "execution_count": 169
        }
      ]
    },
    {
      "cell_type": "markdown",
      "source": [
        "**NDCG**"
      ],
      "metadata": {
        "id": "do2GW_FwoP8I"
      }
    },
    {
      "cell_type": "code",
      "source": [
        "def content_based_using_image_ndcg(cust_id):\n",
        "    prev_purchased = train_df_filtered[train_df_filtered['customer_id'] == cust_id]['article_id'].values[0]\n",
        "    img_location = '0' + str(prev_purchased)\n",
        "    img_subfolder = str(img_location)[0:3]\n",
        "    \n",
        "    path = images_dir+'\\\\'+img_subfolder+'\\\\'+img_location+'.jpg'\n",
        "    \n",
        "    index = df.loc[df['Image Path'] == path].index\n",
        "    if(len(index)!=0):\n",
        "        idx = index.values[0]\n",
        "    \n",
        "        paths, scores = find_similar_images(idx, 5)\n",
        "    \n",
        "        recommended_articles = []\n",
        "        for path in paths:\n",
        "            i = path.split('\\\\')[4].split('.')[0]\n",
        "            recommended_articles.append(i)\n",
        "    \n",
        "        purchased_articles = test_df_filtered[test_df_filtered['customer_id'] == cust_id]['article_id'].values\n",
        "        relevance = []\n",
        "        for i, article in enumerate(recommended_articles):\n",
        "            if article in purchased_articles:\n",
        "                relevance.append(1)\n",
        "            else:\n",
        "                relevance.append(0)\n",
        "    \n",
        "        if sum(relevance) == 0:\n",
        "            ndcg_score = 0\n",
        "        else:\n",
        "            dcg = relevance[0]\n",
        "            for i in range(1, len(relevance)):\n",
        "                dcg += relevance[i] / np.log2(i+1)\n",
        "            idcg = sum(sorted(relevance, reverse=True)[:sum(relevance)])\n",
        "            ndcg_score = dcg / idcg\n",
        "    else:\n",
        "        ndcg_score=0\n",
        "    \n",
        "    return ndcg_score"
      ],
      "metadata": {
        "id": "HFV7YtBHj2yZ"
      },
      "execution_count": null,
      "outputs": []
    },
    {
      "cell_type": "code",
      "source": [
        "ndcg_scores = []\n",
        "for cust_id in train_df_filtered['customer_id'].unique():\n",
        "    ndcg_score = content_based_using_image_ndcg(cust_id)\n",
        "    ndcg_scores.append(ndcg_score)\n",
        "    \n",
        "mean_ndcg = np.mean(ndcg_scores)"
      ],
      "metadata": {
        "id": "eS9lbzI-j2tr"
      },
      "execution_count": null,
      "outputs": []
    },
    {
      "cell_type": "code",
      "source": [
        "mean_ndcg"
      ],
      "metadata": {
        "colab": {
          "base_uri": "https://localhost:8080/"
        },
        "id": "Q9PfI6OzoUfW",
        "outputId": "03bd0fff-caaa-4301-853f-2424725180a6"
      },
      "execution_count": null,
      "outputs": [
        {
          "output_type": "execute_result",
          "data": {
            "text/plain": [
              "0.0"
            ]
          },
          "metadata": {},
          "execution_count": 58
        }
      ]
    },
    {
      "cell_type": "markdown",
      "source": [
        "**Using euclidean distance to produce more diverse recommendations**"
      ],
      "metadata": {
        "id": "0ffmo5QHj4vD"
      }
    },
    {
      "cell_type": "code",
      "source": [
        "df['Embedding'].shape"
      ],
      "metadata": {
        "colab": {
          "base_uri": "https://localhost:8080/"
        },
        "id": "HAZuNbvHj-Q3",
        "outputId": "155f1cb7-21b9-4198-e9bf-d9f58f811fec"
      },
      "execution_count": null,
      "outputs": [
        {
          "output_type": "execute_result",
          "data": {
            "text/plain": [
              "(24296,)"
            ]
          },
          "metadata": {},
          "execution_count": 30
        }
      ]
    },
    {
      "cell_type": "code",
      "source": [
        "from sklearn.metrics.pairwise import euclidean_distances\n",
        "\n",
        "embeddings_lst = df['Embedding'].to_list()\n",
        "embeddings = np.concatenate(embeddings_lst, axis=0)\n",
        "sim_matrix = euclidean_distances(embeddings)\n",
        "\n",
        "def find_similar_images(img_index, k=5):\n",
        "    sim_scores = sim_matrix[img_index]\n",
        "    top_k = sim_scores.argsort()[1:k+1]\n",
        "    top_k_paths = df.iloc[top_k]['Image Path'].values\n",
        "    top_k_scores = sim_scores[top_k]\n",
        "    return top_k_paths, top_k_scores"
      ],
      "metadata": {
        "id": "LcCJ1F92j17f"
      },
      "execution_count": null,
      "outputs": []
    },
    {
      "cell_type": "code",
      "source": [
        "def content_based_using_image_recall():\n",
        "    recall_scores = []\n",
        "    for cust_id in test_df_filtered['customer_id'].unique():\n",
        "        prev_purchased = train_df_filtered[train_df_filtered['customer_id'] == cust_id]['article_id'].values\n",
        "        img_location = '0' + str(prev_purchased[0])\n",
        "        img_subfolder = str(img_location)[0:3]\n",
        "\n",
        "        path = images_dir+'\\\\'+img_subfolder+'\\\\'+img_location+'.jpg'\n",
        "\n",
        "        index = df.loc[df['Image Path'] == path].index\n",
        "        if len(index)!=0:\n",
        "            idx = index.values[0]\n",
        "\n",
        "            paths, scores = find_similar_images(idx, len(test_df_filtered[test_df_filtered['customer_id'] == cust_id]))\n",
        "\n",
        "            recommended_articles = []\n",
        "            for path in paths:\n",
        "                i = path.split('\\\\')[4].split('.')[0]\n",
        "                recommended_articles.append(i)\n",
        "\n",
        "            purchased_articles = test_df_filtered[test_df_filtered['customer_id'] == cust_id]['article_id'].values\n",
        "            tp = 0\n",
        "            fn = 0\n",
        "            for i, article in enumerate(recommended_articles):\n",
        "                if article in purchased_articles:\n",
        "                    tp+=1\n",
        "                else:\n",
        "                    fn+=1\n",
        "            if tp == 0:\n",
        "                recall_score=0\n",
        "            else:\n",
        "                recall_score = tp/(tp+fn)\n",
        "        else:\n",
        "            recall_score = 0\n",
        "        recall_scores.append(recall_score)\n",
        "    \n",
        "    return sum(recall_scores)/len(recall_scores)\n"
      ],
      "metadata": {
        "id": "zQGftLoLinad"
      },
      "execution_count": null,
      "outputs": []
    },
    {
      "cell_type": "code",
      "source": [
        "content_based_using_image_recall()"
      ],
      "metadata": {
        "colab": {
          "base_uri": "https://localhost:8080/"
        },
        "id": "g9lusW4-jCXk",
        "outputId": "64ce4c8d-0b2b-44b5-97f6-e772b8a00a63"
      },
      "execution_count": null,
      "outputs": [
        {
          "output_type": "execute_result",
          "data": {
            "text/plain": [
              "0.0"
            ]
          },
          "metadata": {},
          "execution_count": 33
        }
      ]
    }
  ],
  "metadata": {
    "colab": {
      "toc_visible": true,
      "provenance": [],
      "authorship_tag": "ABX9TyO6BJrmiQccvXpEI01g+SqD",
      "include_colab_link": true
    },
    "kernelspec": {
      "display_name": "Python 3",
      "name": "python3"
    },
    "language_info": {
      "name": "python"
    }
  },
  "nbformat": 4,
  "nbformat_minor": 0
}